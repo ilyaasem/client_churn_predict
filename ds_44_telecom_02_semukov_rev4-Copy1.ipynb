{
 "cells": [
  {
   "cell_type": "markdown",
   "id": "b7d69227",
   "metadata": {},
   "source": [
    "## Телеком — задача проекта"
   ]
  },
  {
   "cell_type": "markdown",
   "id": "e0c7698d",
   "metadata": {},
   "source": [
    "Оператор связи «Ниединогоразрыва.ком» хочет научиться прогнозировать отток клиентов. \n",
    "\n",
    "Если выяснится, что пользователь планирует уйти, ему будут предложены промокоды и специальные условия. \n",
    "\n",
    "Команда оператора собрала персональные данные о некоторых клиентах, информацию об их тарифах и договорах."
   ]
  },
  {
   "cell_type": "markdown",
   "id": "f3d679cf",
   "metadata": {},
   "source": [
    "### Описание услуг"
   ]
  },
  {
   "cell_type": "markdown",
   "id": "6a351dec",
   "metadata": {},
   "source": [
    "Оператор предоставляет два основных типа услуг:\n",
    "\n",
    "- Стационарную телефонную связь. Возможно подключение телефонного аппарата к нескольким линиям одновременно.\n",
    "- Интернет. Подключение может быть двух типов: через телефонную линию (DSL, от англ. digital subscriber line, «цифровая абонентская линия») или оптоволоконный кабель (Fiber optic).\n",
    "\n",
    "Также доступны такие услуги:\n",
    "\n",
    "- Интернет-безопасность: антивирус (DeviceProtection) и блокировка небезопасных сайтов (OnlineSecurity);\n",
    "- Выделенная линия технической поддержки (TechSupport);\n",
    "- Облачное хранилище файлов для резервного копирования данных (OnlineBackup);\n",
    "- Стриминговое телевидение (StreamingTV) и каталог фильмов (StreamingMovies).\n",
    "\n",
    "За услуги клиенты могут платить каждый месяц или заключить договор на 1–2 года. Доступны различные способы расчёта и возможность получения электронного чека."
   ]
  },
  {
   "cell_type": "markdown",
   "id": "036e0303",
   "metadata": {},
   "source": [
    "### Описание данных\n",
    "\n",
    "Данные состоят из файлов, полученных из разных источников:\n",
    "\n",
    "- `contract.csv` — информация о договоре;\n",
    "- `personal.csv` — персональные данные клиента;\n",
    "- `internet.csv` — информация об интернет-услугах;\n",
    "- `phone.csv` — информация об услугах телефонии.\n",
    "\n",
    "Во всех файлах столбец `customerID` содержит код клиента.\n",
    "\n",
    "Информация о договорах актуальна на 1 февраля 2020."
   ]
  },
  {
   "cell_type": "markdown",
   "id": "8f080854",
   "metadata": {},
   "source": [
    "Описание полей данных:\n",
    "\n",
    "- BeginDate – дата начала пользования услугами,\n",
    "- EndDate – дата окончания пользования услугами,\n",
    "- Type – тип оплаты: ежемесячный, годовой и тд,\n",
    "- PaperlessBilling – безналичный расчет,\n",
    "- PaymentMethod – способ оплаты,\n",
    "- MonthlyCharges – ежемесячные траты на услуги,\n",
    "- TotalCharges – всего потрачено денег на услуги\n",
    "- Dependents – наличие иждивенцев\n",
    "- Senior Citizen – наличие пенсионного статуса по возрасту\n",
    "- Partner – наличие супруга(и)\n",
    "- MultipleLines – наличие возможности ведения параллельных линий во время звонка\n",
    "- 0 sp                      AUC-ROC < 0.75\n",
    "- 4 sp          0.75 ≤ AUC-ROC < 0.81\n",
    "- 4.5 sp    0.81 ≤ AUC-ROC < 0.85\n",
    "- 5 sp       0.85 ≤ AUC-ROC < 0.87\n",
    "- 5.5 sp    0.87 ≤ AUC-ROC < 0.88\n",
    "- 6 sp                      AUC-ROC ≥ 0.88\n",
    "- RANDOM_STATE = 121222"
   ]
  },
  {
   "cell_type": "markdown",
   "id": "d5468353",
   "metadata": {},
   "source": [
    "## Исследовательский анализ данных"
   ]
  },
  {
   "cell_type": "markdown",
   "id": "deec9502",
   "metadata": {},
   "source": [
    "#### Первичное знакомство / загрузка данных"
   ]
  },
  {
   "cell_type": "code",
   "execution_count": 1,
   "id": "e20db8dc",
   "metadata": {},
   "outputs": [],
   "source": [
    "import numpy as np\n",
    "import matplotlib.pyplot as plt\n",
    "import seaborn as sns\n",
    "import pandas as pd\n",
    "import phik\n",
    "\n",
    "from catboost import CatBoostClassifier\n",
    "import lightgbm as lgb\n",
    "from lightgbm import LGBMClassifier\n",
    "from sklearn.preprocessing import StandardScaler, OneHotEncoder\n",
    "from sklearn.model_selection import train_test_split, GridSearchCV, cross_validate\n",
    "from sklearn.metrics import roc_auc_score, accuracy_score, roc_curve\n",
    "from sklearn.compose import make_column_transformer\n",
    "from sklearn.linear_model import LogisticRegression\n",
    "from sklearn.dummy import DummyClassifier\n",
    "from phik import resources, report\n",
    "import time\n",
    "\n",
    "RANDOM_STATE=121222"
   ]
  },
  {
   "cell_type": "code",
   "execution_count": 2,
   "id": "b036da7e",
   "metadata": {},
   "outputs": [],
   "source": [
    "# читаем данные из .csv файла с помощью метода read_csv()\n",
    "try: \n",
    "    contract = pd.read_csv('D:\\\\python\\\\final_provider\\\\contract.csv')\n",
    "    internet = pd.read_csv('D:\\\\python\\\\final_provider\\\\internet.csv')\n",
    "    personal = pd.read_csv('D:\\\\python\\\\final_provider\\\\personal.csv')\n",
    "    phone = pd.read_csv('D:\\\\python\\\\final_provider\\\\phone.csv')\n",
    "except:\n",
    "    contract = pd.read_csv('https://code.s3.yandex.net/datasets/final_provider/contract.csv')\n",
    "    internet = pd.read_csv('https://code.s3.yandex.net/datasets/final_provider/internet.csv')\n",
    "    personal = pd.read_csv('https://code.s3.yandex.net/datasets/final_provider/personal.csv')\n",
    "    phone = pd.read_csv('https://code.s3.yandex.net/datasets/final_provider/phone.csv')"
   ]
  },
  {
   "cell_type": "code",
   "execution_count": 3,
   "id": "b611316c",
   "metadata": {},
   "outputs": [
    {
     "name": "stdout",
     "output_type": "stream",
     "text": [
      "Информация о договоре - contract:\n",
      "<class 'pandas.core.frame.DataFrame'>\n",
      "RangeIndex: 7043 entries, 0 to 7042\n",
      "Data columns (total 8 columns):\n",
      " #   Column            Non-Null Count  Dtype  \n",
      "---  ------            --------------  -----  \n",
      " 0   customerID        7043 non-null   object \n",
      " 1   BeginDate         7043 non-null   object \n",
      " 2   EndDate           7043 non-null   object \n",
      " 3   Type              7043 non-null   object \n",
      " 4   PaperlessBilling  7043 non-null   object \n",
      " 5   PaymentMethod     7043 non-null   object \n",
      " 6   MonthlyCharges    7043 non-null   float64\n",
      " 7   TotalCharges      7043 non-null   object \n",
      "dtypes: float64(1), object(7)\n",
      "memory usage: 440.3+ KB\n"
     ]
    },
    {
     "data": {
      "text/plain": [
       "None"
      ]
     },
     "metadata": {},
     "output_type": "display_data"
    },
    {
     "name": "stdout",
     "output_type": "stream",
     "text": [
      "\n",
      "Информация об интернет-услугах - internet:\n",
      "<class 'pandas.core.frame.DataFrame'>\n",
      "RangeIndex: 5517 entries, 0 to 5516\n",
      "Data columns (total 8 columns):\n",
      " #   Column            Non-Null Count  Dtype \n",
      "---  ------            --------------  ----- \n",
      " 0   customerID        5517 non-null   object\n",
      " 1   InternetService   5517 non-null   object\n",
      " 2   OnlineSecurity    5517 non-null   object\n",
      " 3   OnlineBackup      5517 non-null   object\n",
      " 4   DeviceProtection  5517 non-null   object\n",
      " 5   TechSupport       5517 non-null   object\n",
      " 6   StreamingTV       5517 non-null   object\n",
      " 7   StreamingMovies   5517 non-null   object\n",
      "dtypes: object(8)\n",
      "memory usage: 344.9+ KB\n"
     ]
    },
    {
     "data": {
      "text/plain": [
       "None"
      ]
     },
     "metadata": {},
     "output_type": "display_data"
    },
    {
     "name": "stdout",
     "output_type": "stream",
     "text": [
      "\n",
      "Персональные данные клиента - personal:\n",
      "<class 'pandas.core.frame.DataFrame'>\n",
      "RangeIndex: 7043 entries, 0 to 7042\n",
      "Data columns (total 5 columns):\n",
      " #   Column         Non-Null Count  Dtype \n",
      "---  ------         --------------  ----- \n",
      " 0   customerID     7043 non-null   object\n",
      " 1   gender         7043 non-null   object\n",
      " 2   SeniorCitizen  7043 non-null   int64 \n",
      " 3   Partner        7043 non-null   object\n",
      " 4   Dependents     7043 non-null   object\n",
      "dtypes: int64(1), object(4)\n",
      "memory usage: 275.2+ KB\n"
     ]
    },
    {
     "data": {
      "text/plain": [
       "None"
      ]
     },
     "metadata": {},
     "output_type": "display_data"
    },
    {
     "name": "stdout",
     "output_type": "stream",
     "text": [
      "\n",
      "Информация об услугах телефонии - phone:\n",
      "<class 'pandas.core.frame.DataFrame'>\n",
      "RangeIndex: 6361 entries, 0 to 6360\n",
      "Data columns (total 2 columns):\n",
      " #   Column         Non-Null Count  Dtype \n",
      "---  ------         --------------  ----- \n",
      " 0   customerID     6361 non-null   object\n",
      " 1   MultipleLines  6361 non-null   object\n",
      "dtypes: object(2)\n",
      "memory usage: 99.5+ KB\n"
     ]
    },
    {
     "data": {
      "text/plain": [
       "None"
      ]
     },
     "metadata": {},
     "output_type": "display_data"
    },
    {
     "name": "stdout",
     "output_type": "stream",
     "text": [
      "\n"
     ]
    }
   ],
   "source": [
    "# с помощью метода info() изучим структуру таблицы: \n",
    "# типы данных, пропуски.\n",
    "print('Информация о договоре - contract:')\n",
    "display(contract.info())\n",
    "print()\n",
    "\n",
    "print('Информация об интернет-услугах - internet:')\n",
    "display(internet.info())\n",
    "print()\n",
    "\n",
    "print('Персональные данные клиента - personal:')\n",
    "display(personal.info())\n",
    "print()\n",
    "\n",
    "print('Информация об услугах телефонии - phone:')\n",
    "display(phone.info())\n",
    "print()"
   ]
  },
  {
   "cell_type": "code",
   "execution_count": 4,
   "id": "913ee405",
   "metadata": {},
   "outputs": [
    {
     "name": "stdout",
     "output_type": "stream",
     "text": [
      "Информация о договоре - contract:\n"
     ]
    },
    {
     "data": {
      "text/html": [
       "<div>\n",
       "<style scoped>\n",
       "    .dataframe tbody tr th:only-of-type {\n",
       "        vertical-align: middle;\n",
       "    }\n",
       "\n",
       "    .dataframe tbody tr th {\n",
       "        vertical-align: top;\n",
       "    }\n",
       "\n",
       "    .dataframe thead th {\n",
       "        text-align: right;\n",
       "    }\n",
       "</style>\n",
       "<table border=\"1\" class=\"dataframe\">\n",
       "  <thead>\n",
       "    <tr style=\"text-align: right;\">\n",
       "      <th></th>\n",
       "      <th>customerID</th>\n",
       "      <th>BeginDate</th>\n",
       "      <th>EndDate</th>\n",
       "      <th>Type</th>\n",
       "      <th>PaperlessBilling</th>\n",
       "      <th>PaymentMethod</th>\n",
       "      <th>MonthlyCharges</th>\n",
       "      <th>TotalCharges</th>\n",
       "    </tr>\n",
       "  </thead>\n",
       "  <tbody>\n",
       "    <tr>\n",
       "      <th>0</th>\n",
       "      <td>7590-VHVEG</td>\n",
       "      <td>2020-01-01</td>\n",
       "      <td>No</td>\n",
       "      <td>Month-to-month</td>\n",
       "      <td>Yes</td>\n",
       "      <td>Electronic check</td>\n",
       "      <td>29.85</td>\n",
       "      <td>29.85</td>\n",
       "    </tr>\n",
       "    <tr>\n",
       "      <th>1</th>\n",
       "      <td>5575-GNVDE</td>\n",
       "      <td>2017-04-01</td>\n",
       "      <td>No</td>\n",
       "      <td>One year</td>\n",
       "      <td>No</td>\n",
       "      <td>Mailed check</td>\n",
       "      <td>56.95</td>\n",
       "      <td>1889.5</td>\n",
       "    </tr>\n",
       "    <tr>\n",
       "      <th>2</th>\n",
       "      <td>3668-QPYBK</td>\n",
       "      <td>2019-10-01</td>\n",
       "      <td>2019-12-01 00:00:00</td>\n",
       "      <td>Month-to-month</td>\n",
       "      <td>Yes</td>\n",
       "      <td>Mailed check</td>\n",
       "      <td>53.85</td>\n",
       "      <td>108.15</td>\n",
       "    </tr>\n",
       "    <tr>\n",
       "      <th>3</th>\n",
       "      <td>7795-CFOCW</td>\n",
       "      <td>2016-05-01</td>\n",
       "      <td>No</td>\n",
       "      <td>One year</td>\n",
       "      <td>No</td>\n",
       "      <td>Bank transfer (automatic)</td>\n",
       "      <td>42.30</td>\n",
       "      <td>1840.75</td>\n",
       "    </tr>\n",
       "    <tr>\n",
       "      <th>4</th>\n",
       "      <td>9237-HQITU</td>\n",
       "      <td>2019-09-01</td>\n",
       "      <td>2019-11-01 00:00:00</td>\n",
       "      <td>Month-to-month</td>\n",
       "      <td>Yes</td>\n",
       "      <td>Electronic check</td>\n",
       "      <td>70.70</td>\n",
       "      <td>151.65</td>\n",
       "    </tr>\n",
       "  </tbody>\n",
       "</table>\n",
       "</div>"
      ],
      "text/plain": [
       "   customerID   BeginDate              EndDate            Type  \\\n",
       "0  7590-VHVEG  2020-01-01                   No  Month-to-month   \n",
       "1  5575-GNVDE  2017-04-01                   No        One year   \n",
       "2  3668-QPYBK  2019-10-01  2019-12-01 00:00:00  Month-to-month   \n",
       "3  7795-CFOCW  2016-05-01                   No        One year   \n",
       "4  9237-HQITU  2019-09-01  2019-11-01 00:00:00  Month-to-month   \n",
       "\n",
       "  PaperlessBilling              PaymentMethod  MonthlyCharges TotalCharges  \n",
       "0              Yes           Electronic check           29.85        29.85  \n",
       "1               No               Mailed check           56.95       1889.5  \n",
       "2              Yes               Mailed check           53.85       108.15  \n",
       "3               No  Bank transfer (automatic)           42.30      1840.75  \n",
       "4              Yes           Electronic check           70.70       151.65  "
      ]
     },
     "metadata": {},
     "output_type": "display_data"
    },
    {
     "name": "stdout",
     "output_type": "stream",
     "text": [
      "Информация об интернет-услугах - internet:\n"
     ]
    },
    {
     "data": {
      "text/html": [
       "<div>\n",
       "<style scoped>\n",
       "    .dataframe tbody tr th:only-of-type {\n",
       "        vertical-align: middle;\n",
       "    }\n",
       "\n",
       "    .dataframe tbody tr th {\n",
       "        vertical-align: top;\n",
       "    }\n",
       "\n",
       "    .dataframe thead th {\n",
       "        text-align: right;\n",
       "    }\n",
       "</style>\n",
       "<table border=\"1\" class=\"dataframe\">\n",
       "  <thead>\n",
       "    <tr style=\"text-align: right;\">\n",
       "      <th></th>\n",
       "      <th>customerID</th>\n",
       "      <th>InternetService</th>\n",
       "      <th>OnlineSecurity</th>\n",
       "      <th>OnlineBackup</th>\n",
       "      <th>DeviceProtection</th>\n",
       "      <th>TechSupport</th>\n",
       "      <th>StreamingTV</th>\n",
       "      <th>StreamingMovies</th>\n",
       "    </tr>\n",
       "  </thead>\n",
       "  <tbody>\n",
       "    <tr>\n",
       "      <th>0</th>\n",
       "      <td>7590-VHVEG</td>\n",
       "      <td>DSL</td>\n",
       "      <td>No</td>\n",
       "      <td>Yes</td>\n",
       "      <td>No</td>\n",
       "      <td>No</td>\n",
       "      <td>No</td>\n",
       "      <td>No</td>\n",
       "    </tr>\n",
       "    <tr>\n",
       "      <th>1</th>\n",
       "      <td>5575-GNVDE</td>\n",
       "      <td>DSL</td>\n",
       "      <td>Yes</td>\n",
       "      <td>No</td>\n",
       "      <td>Yes</td>\n",
       "      <td>No</td>\n",
       "      <td>No</td>\n",
       "      <td>No</td>\n",
       "    </tr>\n",
       "    <tr>\n",
       "      <th>2</th>\n",
       "      <td>3668-QPYBK</td>\n",
       "      <td>DSL</td>\n",
       "      <td>Yes</td>\n",
       "      <td>Yes</td>\n",
       "      <td>No</td>\n",
       "      <td>No</td>\n",
       "      <td>No</td>\n",
       "      <td>No</td>\n",
       "    </tr>\n",
       "    <tr>\n",
       "      <th>3</th>\n",
       "      <td>7795-CFOCW</td>\n",
       "      <td>DSL</td>\n",
       "      <td>Yes</td>\n",
       "      <td>No</td>\n",
       "      <td>Yes</td>\n",
       "      <td>Yes</td>\n",
       "      <td>No</td>\n",
       "      <td>No</td>\n",
       "    </tr>\n",
       "    <tr>\n",
       "      <th>4</th>\n",
       "      <td>9237-HQITU</td>\n",
       "      <td>Fiber optic</td>\n",
       "      <td>No</td>\n",
       "      <td>No</td>\n",
       "      <td>No</td>\n",
       "      <td>No</td>\n",
       "      <td>No</td>\n",
       "      <td>No</td>\n",
       "    </tr>\n",
       "  </tbody>\n",
       "</table>\n",
       "</div>"
      ],
      "text/plain": [
       "   customerID InternetService OnlineSecurity OnlineBackup DeviceProtection  \\\n",
       "0  7590-VHVEG             DSL             No          Yes               No   \n",
       "1  5575-GNVDE             DSL            Yes           No              Yes   \n",
       "2  3668-QPYBK             DSL            Yes          Yes               No   \n",
       "3  7795-CFOCW             DSL            Yes           No              Yes   \n",
       "4  9237-HQITU     Fiber optic             No           No               No   \n",
       "\n",
       "  TechSupport StreamingTV StreamingMovies  \n",
       "0          No          No              No  \n",
       "1          No          No              No  \n",
       "2          No          No              No  \n",
       "3         Yes          No              No  \n",
       "4          No          No              No  "
      ]
     },
     "metadata": {},
     "output_type": "display_data"
    },
    {
     "name": "stdout",
     "output_type": "stream",
     "text": [
      "Персональные данные клиента - personal:\n"
     ]
    },
    {
     "data": {
      "text/html": [
       "<div>\n",
       "<style scoped>\n",
       "    .dataframe tbody tr th:only-of-type {\n",
       "        vertical-align: middle;\n",
       "    }\n",
       "\n",
       "    .dataframe tbody tr th {\n",
       "        vertical-align: top;\n",
       "    }\n",
       "\n",
       "    .dataframe thead th {\n",
       "        text-align: right;\n",
       "    }\n",
       "</style>\n",
       "<table border=\"1\" class=\"dataframe\">\n",
       "  <thead>\n",
       "    <tr style=\"text-align: right;\">\n",
       "      <th></th>\n",
       "      <th>customerID</th>\n",
       "      <th>gender</th>\n",
       "      <th>SeniorCitizen</th>\n",
       "      <th>Partner</th>\n",
       "      <th>Dependents</th>\n",
       "    </tr>\n",
       "  </thead>\n",
       "  <tbody>\n",
       "    <tr>\n",
       "      <th>0</th>\n",
       "      <td>7590-VHVEG</td>\n",
       "      <td>Female</td>\n",
       "      <td>0</td>\n",
       "      <td>Yes</td>\n",
       "      <td>No</td>\n",
       "    </tr>\n",
       "    <tr>\n",
       "      <th>1</th>\n",
       "      <td>5575-GNVDE</td>\n",
       "      <td>Male</td>\n",
       "      <td>0</td>\n",
       "      <td>No</td>\n",
       "      <td>No</td>\n",
       "    </tr>\n",
       "    <tr>\n",
       "      <th>2</th>\n",
       "      <td>3668-QPYBK</td>\n",
       "      <td>Male</td>\n",
       "      <td>0</td>\n",
       "      <td>No</td>\n",
       "      <td>No</td>\n",
       "    </tr>\n",
       "    <tr>\n",
       "      <th>3</th>\n",
       "      <td>7795-CFOCW</td>\n",
       "      <td>Male</td>\n",
       "      <td>0</td>\n",
       "      <td>No</td>\n",
       "      <td>No</td>\n",
       "    </tr>\n",
       "    <tr>\n",
       "      <th>4</th>\n",
       "      <td>9237-HQITU</td>\n",
       "      <td>Female</td>\n",
       "      <td>0</td>\n",
       "      <td>No</td>\n",
       "      <td>No</td>\n",
       "    </tr>\n",
       "  </tbody>\n",
       "</table>\n",
       "</div>"
      ],
      "text/plain": [
       "   customerID  gender  SeniorCitizen Partner Dependents\n",
       "0  7590-VHVEG  Female              0     Yes         No\n",
       "1  5575-GNVDE    Male              0      No         No\n",
       "2  3668-QPYBK    Male              0      No         No\n",
       "3  7795-CFOCW    Male              0      No         No\n",
       "4  9237-HQITU  Female              0      No         No"
      ]
     },
     "metadata": {},
     "output_type": "display_data"
    },
    {
     "name": "stdout",
     "output_type": "stream",
     "text": [
      "Информация об услугах телефонии - phone:\n"
     ]
    },
    {
     "data": {
      "text/html": [
       "<div>\n",
       "<style scoped>\n",
       "    .dataframe tbody tr th:only-of-type {\n",
       "        vertical-align: middle;\n",
       "    }\n",
       "\n",
       "    .dataframe tbody tr th {\n",
       "        vertical-align: top;\n",
       "    }\n",
       "\n",
       "    .dataframe thead th {\n",
       "        text-align: right;\n",
       "    }\n",
       "</style>\n",
       "<table border=\"1\" class=\"dataframe\">\n",
       "  <thead>\n",
       "    <tr style=\"text-align: right;\">\n",
       "      <th></th>\n",
       "      <th>customerID</th>\n",
       "      <th>MultipleLines</th>\n",
       "    </tr>\n",
       "  </thead>\n",
       "  <tbody>\n",
       "    <tr>\n",
       "      <th>0</th>\n",
       "      <td>5575-GNVDE</td>\n",
       "      <td>No</td>\n",
       "    </tr>\n",
       "    <tr>\n",
       "      <th>1</th>\n",
       "      <td>3668-QPYBK</td>\n",
       "      <td>No</td>\n",
       "    </tr>\n",
       "    <tr>\n",
       "      <th>2</th>\n",
       "      <td>9237-HQITU</td>\n",
       "      <td>No</td>\n",
       "    </tr>\n",
       "    <tr>\n",
       "      <th>3</th>\n",
       "      <td>9305-CDSKC</td>\n",
       "      <td>Yes</td>\n",
       "    </tr>\n",
       "    <tr>\n",
       "      <th>4</th>\n",
       "      <td>1452-KIOVK</td>\n",
       "      <td>Yes</td>\n",
       "    </tr>\n",
       "  </tbody>\n",
       "</table>\n",
       "</div>"
      ],
      "text/plain": [
       "   customerID MultipleLines\n",
       "0  5575-GNVDE            No\n",
       "1  3668-QPYBK            No\n",
       "2  9237-HQITU            No\n",
       "3  9305-CDSKC           Yes\n",
       "4  1452-KIOVK           Yes"
      ]
     },
     "metadata": {},
     "output_type": "display_data"
    }
   ],
   "source": [
    "# выведем первые 5 строк каждой таблицы с помощью метода head()\n",
    "print('Информация о договоре - contract:')\n",
    "display(contract.head())\n",
    "print('Информация об интернет-услугах - internet:')\n",
    "display(internet.head())\n",
    "print('Персональные данные клиента - personal:')\n",
    "display(personal.head())\n",
    "print('Информация об услугах телефонии - phone:')\n",
    "display(phone.head())"
   ]
  },
  {
   "cell_type": "markdown",
   "id": "695ed6e7",
   "metadata": {},
   "source": [
    "- Во всех таблицах необходимо привести наименования столбцов к змеиному регистру\n",
    "- Все таблицы необходимо объединить по полю customer_id\n",
    "- Количество строк в таблицах не совпадает\n",
    "        contract - 7043\n",
    "        internet - 5517\n",
    "        personal - 7043\n",
    "        phone -    6360\n",
    "- в дальнейшем можно воспользоваться данной информацией, чтобы определить пользователей, кто не пользуется услугами internet или phone"
   ]
  },
  {
   "cell_type": "markdown",
   "id": "8cb854d7",
   "metadata": {},
   "source": [
    "### Информация о договоре - contract"
   ]
  },
  {
   "cell_type": "code",
   "execution_count": 5,
   "id": "98b97e39",
   "metadata": {},
   "outputs": [
    {
     "data": {
      "text/html": [
       "<div>\n",
       "<style scoped>\n",
       "    .dataframe tbody tr th:only-of-type {\n",
       "        vertical-align: middle;\n",
       "    }\n",
       "\n",
       "    .dataframe tbody tr th {\n",
       "        vertical-align: top;\n",
       "    }\n",
       "\n",
       "    .dataframe thead th {\n",
       "        text-align: right;\n",
       "    }\n",
       "</style>\n",
       "<table border=\"1\" class=\"dataframe\">\n",
       "  <thead>\n",
       "    <tr style=\"text-align: right;\">\n",
       "      <th></th>\n",
       "      <th>customerID</th>\n",
       "      <th>BeginDate</th>\n",
       "      <th>EndDate</th>\n",
       "      <th>Type</th>\n",
       "      <th>PaperlessBilling</th>\n",
       "      <th>PaymentMethod</th>\n",
       "      <th>MonthlyCharges</th>\n",
       "      <th>TotalCharges</th>\n",
       "    </tr>\n",
       "  </thead>\n",
       "  <tbody>\n",
       "    <tr>\n",
       "      <th>count</th>\n",
       "      <td>7043</td>\n",
       "      <td>7043</td>\n",
       "      <td>7043</td>\n",
       "      <td>7043</td>\n",
       "      <td>7043</td>\n",
       "      <td>7043</td>\n",
       "      <td>7043.000000</td>\n",
       "      <td>7043</td>\n",
       "    </tr>\n",
       "    <tr>\n",
       "      <th>unique</th>\n",
       "      <td>7043</td>\n",
       "      <td>77</td>\n",
       "      <td>5</td>\n",
       "      <td>3</td>\n",
       "      <td>2</td>\n",
       "      <td>4</td>\n",
       "      <td>NaN</td>\n",
       "      <td>6531</td>\n",
       "    </tr>\n",
       "    <tr>\n",
       "      <th>top</th>\n",
       "      <td>7590-VHVEG</td>\n",
       "      <td>2014-02-01</td>\n",
       "      <td>No</td>\n",
       "      <td>Month-to-month</td>\n",
       "      <td>Yes</td>\n",
       "      <td>Electronic check</td>\n",
       "      <td>NaN</td>\n",
       "      <td></td>\n",
       "    </tr>\n",
       "    <tr>\n",
       "      <th>freq</th>\n",
       "      <td>1</td>\n",
       "      <td>366</td>\n",
       "      <td>5174</td>\n",
       "      <td>3875</td>\n",
       "      <td>4171</td>\n",
       "      <td>2365</td>\n",
       "      <td>NaN</td>\n",
       "      <td>11</td>\n",
       "    </tr>\n",
       "    <tr>\n",
       "      <th>mean</th>\n",
       "      <td>NaN</td>\n",
       "      <td>NaN</td>\n",
       "      <td>NaN</td>\n",
       "      <td>NaN</td>\n",
       "      <td>NaN</td>\n",
       "      <td>NaN</td>\n",
       "      <td>64.761692</td>\n",
       "      <td>NaN</td>\n",
       "    </tr>\n",
       "    <tr>\n",
       "      <th>std</th>\n",
       "      <td>NaN</td>\n",
       "      <td>NaN</td>\n",
       "      <td>NaN</td>\n",
       "      <td>NaN</td>\n",
       "      <td>NaN</td>\n",
       "      <td>NaN</td>\n",
       "      <td>30.090047</td>\n",
       "      <td>NaN</td>\n",
       "    </tr>\n",
       "    <tr>\n",
       "      <th>min</th>\n",
       "      <td>NaN</td>\n",
       "      <td>NaN</td>\n",
       "      <td>NaN</td>\n",
       "      <td>NaN</td>\n",
       "      <td>NaN</td>\n",
       "      <td>NaN</td>\n",
       "      <td>18.250000</td>\n",
       "      <td>NaN</td>\n",
       "    </tr>\n",
       "    <tr>\n",
       "      <th>25%</th>\n",
       "      <td>NaN</td>\n",
       "      <td>NaN</td>\n",
       "      <td>NaN</td>\n",
       "      <td>NaN</td>\n",
       "      <td>NaN</td>\n",
       "      <td>NaN</td>\n",
       "      <td>35.500000</td>\n",
       "      <td>NaN</td>\n",
       "    </tr>\n",
       "    <tr>\n",
       "      <th>50%</th>\n",
       "      <td>NaN</td>\n",
       "      <td>NaN</td>\n",
       "      <td>NaN</td>\n",
       "      <td>NaN</td>\n",
       "      <td>NaN</td>\n",
       "      <td>NaN</td>\n",
       "      <td>70.350000</td>\n",
       "      <td>NaN</td>\n",
       "    </tr>\n",
       "    <tr>\n",
       "      <th>75%</th>\n",
       "      <td>NaN</td>\n",
       "      <td>NaN</td>\n",
       "      <td>NaN</td>\n",
       "      <td>NaN</td>\n",
       "      <td>NaN</td>\n",
       "      <td>NaN</td>\n",
       "      <td>89.850000</td>\n",
       "      <td>NaN</td>\n",
       "    </tr>\n",
       "    <tr>\n",
       "      <th>max</th>\n",
       "      <td>NaN</td>\n",
       "      <td>NaN</td>\n",
       "      <td>NaN</td>\n",
       "      <td>NaN</td>\n",
       "      <td>NaN</td>\n",
       "      <td>NaN</td>\n",
       "      <td>118.750000</td>\n",
       "      <td>NaN</td>\n",
       "    </tr>\n",
       "  </tbody>\n",
       "</table>\n",
       "</div>"
      ],
      "text/plain": [
       "        customerID   BeginDate EndDate            Type PaperlessBilling  \\\n",
       "count         7043        7043    7043            7043             7043   \n",
       "unique        7043          77       5               3                2   \n",
       "top     7590-VHVEG  2014-02-01      No  Month-to-month              Yes   \n",
       "freq             1         366    5174            3875             4171   \n",
       "mean           NaN         NaN     NaN             NaN              NaN   \n",
       "std            NaN         NaN     NaN             NaN              NaN   \n",
       "min            NaN         NaN     NaN             NaN              NaN   \n",
       "25%            NaN         NaN     NaN             NaN              NaN   \n",
       "50%            NaN         NaN     NaN             NaN              NaN   \n",
       "75%            NaN         NaN     NaN             NaN              NaN   \n",
       "max            NaN         NaN     NaN             NaN              NaN   \n",
       "\n",
       "           PaymentMethod  MonthlyCharges TotalCharges  \n",
       "count               7043     7043.000000         7043  \n",
       "unique                 4             NaN         6531  \n",
       "top     Electronic check             NaN               \n",
       "freq                2365             NaN           11  \n",
       "mean                 NaN       64.761692          NaN  \n",
       "std                  NaN       30.090047          NaN  \n",
       "min                  NaN       18.250000          NaN  \n",
       "25%                  NaN       35.500000          NaN  \n",
       "50%                  NaN       70.350000          NaN  \n",
       "75%                  NaN       89.850000          NaN  \n",
       "max                  NaN      118.750000          NaN  "
      ]
     },
     "execution_count": 5,
     "metadata": {},
     "output_type": "execute_result"
    }
   ],
   "source": [
    "contract.describe(include='all')"
   ]
  },
  {
   "cell_type": "markdown",
   "id": "4b47aca9",
   "metadata": {},
   "source": [
    "*Информация о договоре - contract:*\n",
    "- Таблица содержит в себе информацию о 7043 контрактах\n",
    "- BeginDate и EndDate необходимо привести к datetime\n",
    "- Явных пропусков нет\n",
    "- Поля type, paperless_billing, payment_method перевести в тиg category."
   ]
  },
  {
   "cell_type": "code",
   "execution_count": 6,
   "id": "8880ef07",
   "metadata": {},
   "outputs": [
    {
     "data": {
      "text/plain": [
       "Index(['customerID', 'BeginDate', 'EndDate', 'Type', 'PaperlessBilling',\n",
       "       'PaymentMethod', 'MonthlyCharges', 'TotalCharges'],\n",
       "      dtype='object')"
      ]
     },
     "execution_count": 6,
     "metadata": {},
     "output_type": "execute_result"
    }
   ],
   "source": [
    "contract.columns"
   ]
  },
  {
   "cell_type": "code",
   "execution_count": 7,
   "id": "09834ca0",
   "metadata": {},
   "outputs": [],
   "source": [
    "contract.rename(columns={'customerID': 'customer_id', \n",
    "                   'BeginDate': 'begin_date', \n",
    "                   'EndDate': 'end_date', \n",
    "                   'Type': 'type',\n",
    "                   'PaperlessBilling': 'paperless_billing',\n",
    "                   'PaymentMethod': 'payment_method',\n",
    "                   'MonthlyCharges': 'monthly_charges',\n",
    "                   'TotalCharges': 'total_charges'}, inplace=True)"
   ]
  },
  {
   "cell_type": "markdown",
   "id": "38f3f5cc",
   "metadata": {},
   "source": [
    "Проверка уникальных значений"
   ]
  },
  {
   "cell_type": "code",
   "execution_count": 8,
   "id": "d9fd7086",
   "metadata": {
    "scrolled": true
   },
   "outputs": [
    {
     "data": {
      "text/plain": [
       "customer_id          7043\n",
       "begin_date             77\n",
       "end_date                5\n",
       "type                    3\n",
       "paperless_billing       2\n",
       "payment_method          4\n",
       "monthly_charges      1585\n",
       "total_charges        6531\n",
       "dtype: int64"
      ]
     },
     "execution_count": 8,
     "metadata": {},
     "output_type": "execute_result"
    }
   ],
   "source": [
    "contract.nunique()"
   ]
  },
  {
   "cell_type": "markdown",
   "id": "2f895303",
   "metadata": {},
   "source": [
    "Проверка на дубликаты."
   ]
  },
  {
   "cell_type": "code",
   "execution_count": 9,
   "id": "82267b51",
   "metadata": {
    "scrolled": false
   },
   "outputs": [
    {
     "data": {
      "text/plain": [
       "0"
      ]
     },
     "execution_count": 9,
     "metadata": {},
     "output_type": "execute_result"
    }
   ],
   "source": [
    "contract.duplicated().sum()"
   ]
  },
  {
   "cell_type": "code",
   "execution_count": 10,
   "id": "a7534ca3",
   "metadata": {
    "scrolled": true
   },
   "outputs": [
    {
     "data": {
      "text/plain": [
       "array(['2020-01-01', '2017-04-01', '2019-10-01', '2016-05-01',\n",
       "       '2019-09-01', '2019-03-01', '2018-04-01', '2019-04-01',\n",
       "       '2017-07-01', '2014-12-01', '2019-01-01', '2018-10-01',\n",
       "       '2015-04-01', '2015-09-01', '2018-01-01', '2014-05-01',\n",
       "       '2015-10-01', '2014-03-01', '2018-05-01', '2019-11-01',\n",
       "       '2019-02-01', '2016-01-01', '2017-08-01', '2015-12-01',\n",
       "       '2014-02-01', '2018-06-01', '2019-12-01', '2017-11-01',\n",
       "       '2019-06-01', '2016-04-01', '2017-02-01', '2018-12-01',\n",
       "       '2014-04-01', '2018-09-01', '2014-11-01', '2016-07-01',\n",
       "       '2015-02-01', '2018-07-01', '2014-08-01', '2016-03-01',\n",
       "       '2018-08-01', '2014-10-01', '2015-06-01', '2016-08-01',\n",
       "       '2019-05-01', '2017-03-01', '2016-02-01', '2017-09-01',\n",
       "       '2014-09-01', '2017-12-01', '2016-12-01', '2017-06-01',\n",
       "       '2015-05-01', '2016-10-01', '2016-09-01', '2019-08-01',\n",
       "       '2019-07-01', '2017-05-01', '2017-10-01', '2014-07-01',\n",
       "       '2018-03-01', '2015-01-01', '2018-11-01', '2015-03-01',\n",
       "       '2018-02-01', '2016-06-01', '2015-08-01', '2015-11-01',\n",
       "       '2014-06-01', '2017-01-01', '2015-07-01', '2020-02-01',\n",
       "       '2016-11-01', '2013-11-01', '2014-01-01', '2013-10-01',\n",
       "       '2013-12-01'], dtype=object)"
      ]
     },
     "execution_count": 10,
     "metadata": {},
     "output_type": "execute_result"
    }
   ],
   "source": [
    "contract['begin_date'].unique()"
   ]
  },
  {
   "cell_type": "code",
   "execution_count": 11,
   "id": "0c836e14",
   "metadata": {},
   "outputs": [
    {
     "data": {
      "text/plain": [
       "2013-11-01      2\n",
       "2013-12-01      3\n",
       "2013-10-01      3\n",
       "2014-01-01      7\n",
       "2020-02-01     11\n",
       "             ... \n",
       "2020-01-01    233\n",
       "2019-09-01    237\n",
       "2019-11-01    237\n",
       "2019-10-01    237\n",
       "2014-02-01    366\n",
       "Name: begin_date, Length: 77, dtype: int64"
      ]
     },
     "execution_count": 11,
     "metadata": {},
     "output_type": "execute_result"
    }
   ],
   "source": [
    "contract['begin_date'].value_counts().sort_values()"
   ]
  },
  {
   "cell_type": "code",
   "execution_count": 12,
   "id": "47494924",
   "metadata": {},
   "outputs": [],
   "source": [
    "contract['begin_date'] = pd.to_datetime(contract['begin_date'], format=\"%Y-%m-%d\")"
   ]
  },
  {
   "cell_type": "code",
   "execution_count": 13,
   "id": "2b7c859b",
   "metadata": {
    "scrolled": true
   },
   "outputs": [
    {
     "name": "stderr",
     "output_type": "stream",
     "text": [
      "C:\\Users\\Semukoff\\AppData\\Local\\Temp/ipykernel_2920/2458425963.py:1: FutureWarning: Treating datetime data as categorical rather than numeric in `.describe` is deprecated and will be removed in a future version of pandas. Specify `datetime_is_numeric=True` to silence this warning and adopt the future behavior now.\n",
      "  contract['begin_date'].describe()\n"
     ]
    },
    {
     "data": {
      "text/plain": [
       "count                    7043\n",
       "unique                     77\n",
       "top       2014-02-01 00:00:00\n",
       "freq                      366\n",
       "first     2013-10-01 00:00:00\n",
       "last      2020-02-01 00:00:00\n",
       "Name: begin_date, dtype: object"
      ]
     },
     "execution_count": 13,
     "metadata": {},
     "output_type": "execute_result"
    }
   ],
   "source": [
    "contract['begin_date'].describe()"
   ]
  },
  {
   "cell_type": "markdown",
   "id": "c27d0b2f",
   "metadata": {},
   "source": [
    "Таблица содержит в себе контракты начиная с октября 2013 года до февраля 2020."
   ]
  },
  {
   "cell_type": "code",
   "execution_count": 14,
   "id": "15688e11",
   "metadata": {},
   "outputs": [
    {
     "data": {
      "text/plain": [
       "No                     5174\n",
       "2019-11-01 00:00:00     485\n",
       "2019-12-01 00:00:00     466\n",
       "2020-01-01 00:00:00     460\n",
       "2019-10-01 00:00:00     458\n",
       "Name: end_date, dtype: int64"
      ]
     },
     "execution_count": 14,
     "metadata": {},
     "output_type": "execute_result"
    }
   ],
   "source": [
    "contract['end_date'].value_counts()"
   ]
  },
  {
   "cell_type": "markdown",
   "id": "3e5e5a0d",
   "metadata": {},
   "source": [
    "По всей видимости в конце 2019 года произошло событие, благодаря которому люди прекращали контракт 4 месяца подряд. "
   ]
  },
  {
   "cell_type": "markdown",
   "id": "dd50850e",
   "metadata": {},
   "source": [
    "- Необходимо произвести замену No на Nan\n",
    "- После замены приведем формат к datetime"
   ]
  },
  {
   "cell_type": "code",
   "execution_count": 15,
   "id": "448962ec",
   "metadata": {},
   "outputs": [],
   "source": [
    "contract.loc[contract['end_date'] == 'No', 'end_date'] = np.NaN\n",
    "contract['end_date'] = pd.to_datetime(contract['end_date'], format=\"%Y-%m-%d\")"
   ]
  },
  {
   "cell_type": "markdown",
   "id": "7ce494a9",
   "metadata": {},
   "source": [
    "**Тип оплаты: ежемесячный, годовой и двухгодовой**"
   ]
  },
  {
   "cell_type": "markdown",
   "id": "495a3145",
   "metadata": {},
   "source": [
    "За услуги клиенты могут платить каждый месяц или заключить договор на 1–2 года. Доступны различные способы расчёта и возможность получения электронного чека."
   ]
  },
  {
   "cell_type": "code",
   "execution_count": 16,
   "id": "8a766d40",
   "metadata": {
    "scrolled": true
   },
   "outputs": [
    {
     "data": {
      "text/plain": [
       "Month-to-month    3875\n",
       "Two year          1695\n",
       "One year          1473\n",
       "Name: type, dtype: int64"
      ]
     },
     "execution_count": 16,
     "metadata": {},
     "output_type": "execute_result"
    }
   ],
   "source": [
    "contract['type'].value_counts()"
   ]
  },
  {
   "cell_type": "code",
   "execution_count": 17,
   "id": "7c96a482",
   "metadata": {},
   "outputs": [
    {
     "data": {
      "image/png": "[encoded data removed]",
      "text/plain": [
       "<Figure size 288x288 with 1 Axes>"
      ]
     },
     "metadata": {},
     "output_type": "display_data"
    }
   ],
   "source": [
    "contract['type'].value_counts().plot.pie(autopct='%.2f', figsize=(4, 4));"
   ]
  },
  {
   "cell_type": "markdown",
   "id": "f986bb84",
   "metadata": {},
   "source": [
    "Половина клиентов(55 %) платят за услуги ежемесячно, вторая половина(24% и 21 %) заключила договор на 1-2 года."
   ]
  },
  {
   "cell_type": "markdown",
   "id": "61d4ac68",
   "metadata": {},
   "source": [
    "#### Безналичный расчет"
   ]
  },
  {
   "cell_type": "code",
   "execution_count": 18,
   "id": "c17839b7",
   "metadata": {
    "scrolled": false
   },
   "outputs": [
    {
     "data": {
      "text/plain": [
       "Yes    4171\n",
       "No     2872\n",
       "Name: paperless_billing, dtype: int64"
      ]
     },
     "execution_count": 18,
     "metadata": {},
     "output_type": "execute_result"
    }
   ],
   "source": [
    "contract['paperless_billing'].value_counts()"
   ]
  },
  {
   "cell_type": "code",
   "execution_count": 19,
   "id": "883953da",
   "metadata": {},
   "outputs": [
    {
     "data": {
      "image/png": "[encoded data removed]",
      "text/plain": [
       "<Figure size 288x288 with 1 Axes>"
      ]
     },
     "metadata": {},
     "output_type": "display_data"
    }
   ],
   "source": [
    "contract['paperless_billing'].value_counts().plot.pie(autopct='%.2f', figsize=(4, 4));"
   ]
  },
  {
   "cell_type": "markdown",
   "id": "d4549c30",
   "metadata": {},
   "source": [
    "59% клиентов предпочитают безналичный расчет."
   ]
  },
  {
   "cell_type": "markdown",
   "id": "990222fe",
   "metadata": {},
   "source": [
    "#### Способ оплаты"
   ]
  },
  {
   "cell_type": "code",
   "execution_count": 20,
   "id": "df9d3201",
   "metadata": {
    "scrolled": true
   },
   "outputs": [
    {
     "data": {
      "text/plain": [
       "Electronic check             2365\n",
       "Mailed check                 1612\n",
       "Bank transfer (automatic)    1544\n",
       "Credit card (automatic)      1522\n",
       "Name: payment_method, dtype: int64"
      ]
     },
     "execution_count": 20,
     "metadata": {},
     "output_type": "execute_result"
    }
   ],
   "source": [
    "contract['payment_method'].value_counts()"
   ]
  },
  {
   "cell_type": "code",
   "execution_count": 21,
   "id": "7b2217d4",
   "metadata": {},
   "outputs": [
    {
     "data": {
      "image/png": "[encoded data removed]",
      "text/plain": [
       "<Figure size 288x288 with 1 Axes>"
      ]
     },
     "metadata": {},
     "output_type": "display_data"
    }
   ],
   "source": [
    "contract['payment_method'].value_counts().plot.pie(autopct='%.2f', figsize=(4, 4));"
   ]
  },
  {
   "cell_type": "markdown",
   "id": "921dbedc",
   "metadata": {},
   "source": [
    "#### Eжемесячные траты на услуги monthly_charges"
   ]
  },
  {
   "cell_type": "code",
   "execution_count": 22,
   "id": "65aa0cee",
   "metadata": {},
   "outputs": [
    {
     "data": {
      "text/plain": [
       "20.05     61\n",
       "19.85     45\n",
       "19.95     44\n",
       "19.90     44\n",
       "20.00     43\n",
       "          ..\n",
       "23.65      1\n",
       "114.70     1\n",
       "43.65      1\n",
       "87.80      1\n",
       "78.70      1\n",
       "Name: monthly_charges, Length: 1585, dtype: int64"
      ]
     },
     "execution_count": 22,
     "metadata": {},
     "output_type": "execute_result"
    }
   ],
   "source": [
    "contract['monthly_charges'].value_counts()"
   ]
  },
  {
   "cell_type": "code",
   "execution_count": 23,
   "id": "bfb1c6c0",
   "metadata": {},
   "outputs": [
    {
     "data": {
      "image/png": "[encoded data removed]",
      "text/plain": [
       "<Figure size 720x360 with 1 Axes>"
      ]
     },
     "metadata": {
      "needs_background": "light"
     },
     "output_type": "display_data"
    }
   ],
   "source": [
    "contract['monthly_charges'].hist(bins=100, figsize=(10, 5))\n",
    "plt.xlabel('Цена')\n",
    "plt.ylabel('Количество пользователей')\n",
    "plt.title('Eжемесячные траты на услуги')\n",
    "plt.show()"
   ]
  },
  {
   "cell_type": "code",
   "execution_count": 24,
   "id": "376bad5c",
   "metadata": {},
   "outputs": [
    {
     "data": {
      "text/plain": [
       "count    7043.000000\n",
       "mean       64.761692\n",
       "std        30.090047\n",
       "min        18.250000\n",
       "25%        35.500000\n",
       "50%        70.350000\n",
       "75%        89.850000\n",
       "max       118.750000\n",
       "Name: monthly_charges, dtype: float64"
      ]
     },
     "execution_count": 24,
     "metadata": {},
     "output_type": "execute_result"
    }
   ],
   "source": [
    "contract['monthly_charges'].describe()"
   ]
  },
  {
   "cell_type": "markdown",
   "id": "5b11f7c3",
   "metadata": {},
   "source": [
    "Ежемесячные траты на услуги доходят до 118 единиц, минимум 18,25."
   ]
  },
  {
   "cell_type": "markdown",
   "id": "e825c6f7",
   "metadata": {},
   "source": [
    "#### Всего потрачено денег на услуги total_charges"
   ]
  },
  {
   "cell_type": "code",
   "execution_count": 25,
   "id": "753a63c4",
   "metadata": {
    "scrolled": true
   },
   "outputs": [
    {
     "data": {
      "text/plain": [
       "          11\n",
       "20.2      11\n",
       "19.75      9\n",
       "20.05      8\n",
       "19.9       8\n",
       "          ..\n",
       "6849.4     1\n",
       "692.35     1\n",
       "130.15     1\n",
       "3211.9     1\n",
       "6844.5     1\n",
       "Name: total_charges, Length: 6531, dtype: int64"
      ]
     },
     "execution_count": 25,
     "metadata": {},
     "output_type": "execute_result"
    }
   ],
   "source": [
    "contract['total_charges'].value_counts()"
   ]
  },
  {
   "cell_type": "code",
   "execution_count": 26,
   "id": "f1f1e8fe",
   "metadata": {},
   "outputs": [
    {
     "data": {
      "text/html": [
       "<div>\n",
       "<style scoped>\n",
       "    .dataframe tbody tr th:only-of-type {\n",
       "        vertical-align: middle;\n",
       "    }\n",
       "\n",
       "    .dataframe tbody tr th {\n",
       "        vertical-align: top;\n",
       "    }\n",
       "\n",
       "    .dataframe thead th {\n",
       "        text-align: right;\n",
       "    }\n",
       "</style>\n",
       "<table border=\"1\" class=\"dataframe\">\n",
       "  <thead>\n",
       "    <tr style=\"text-align: right;\">\n",
       "      <th></th>\n",
       "      <th>customer_id</th>\n",
       "      <th>begin_date</th>\n",
       "      <th>end_date</th>\n",
       "      <th>type</th>\n",
       "      <th>paperless_billing</th>\n",
       "      <th>payment_method</th>\n",
       "      <th>monthly_charges</th>\n",
       "      <th>total_charges</th>\n",
       "    </tr>\n",
       "  </thead>\n",
       "  <tbody>\n",
       "    <tr>\n",
       "      <th>488</th>\n",
       "      <td>4472-LVYGI</td>\n",
       "      <td>2020-02-01</td>\n",
       "      <td>NaT</td>\n",
       "      <td>Two year</td>\n",
       "      <td>Yes</td>\n",
       "      <td>Bank transfer (automatic)</td>\n",
       "      <td>52.55</td>\n",
       "      <td></td>\n",
       "    </tr>\n",
       "    <tr>\n",
       "      <th>753</th>\n",
       "      <td>3115-CZMZD</td>\n",
       "      <td>2020-02-01</td>\n",
       "      <td>NaT</td>\n",
       "      <td>Two year</td>\n",
       "      <td>No</td>\n",
       "      <td>Mailed check</td>\n",
       "      <td>20.25</td>\n",
       "      <td></td>\n",
       "    </tr>\n",
       "    <tr>\n",
       "      <th>936</th>\n",
       "      <td>5709-LVOEQ</td>\n",
       "      <td>2020-02-01</td>\n",
       "      <td>NaT</td>\n",
       "      <td>Two year</td>\n",
       "      <td>No</td>\n",
       "      <td>Mailed check</td>\n",
       "      <td>80.85</td>\n",
       "      <td></td>\n",
       "    </tr>\n",
       "    <tr>\n",
       "      <th>1082</th>\n",
       "      <td>4367-NUYAO</td>\n",
       "      <td>2020-02-01</td>\n",
       "      <td>NaT</td>\n",
       "      <td>Two year</td>\n",
       "      <td>No</td>\n",
       "      <td>Mailed check</td>\n",
       "      <td>25.75</td>\n",
       "      <td></td>\n",
       "    </tr>\n",
       "    <tr>\n",
       "      <th>1340</th>\n",
       "      <td>1371-DWPAZ</td>\n",
       "      <td>2020-02-01</td>\n",
       "      <td>NaT</td>\n",
       "      <td>Two year</td>\n",
       "      <td>No</td>\n",
       "      <td>Credit card (automatic)</td>\n",
       "      <td>56.05</td>\n",
       "      <td></td>\n",
       "    </tr>\n",
       "    <tr>\n",
       "      <th>3331</th>\n",
       "      <td>7644-OMVMY</td>\n",
       "      <td>2020-02-01</td>\n",
       "      <td>NaT</td>\n",
       "      <td>Two year</td>\n",
       "      <td>No</td>\n",
       "      <td>Mailed check</td>\n",
       "      <td>19.85</td>\n",
       "      <td></td>\n",
       "    </tr>\n",
       "    <tr>\n",
       "      <th>3826</th>\n",
       "      <td>3213-VVOLG</td>\n",
       "      <td>2020-02-01</td>\n",
       "      <td>NaT</td>\n",
       "      <td>Two year</td>\n",
       "      <td>No</td>\n",
       "      <td>Mailed check</td>\n",
       "      <td>25.35</td>\n",
       "      <td></td>\n",
       "    </tr>\n",
       "    <tr>\n",
       "      <th>4380</th>\n",
       "      <td>2520-SGTTA</td>\n",
       "      <td>2020-02-01</td>\n",
       "      <td>NaT</td>\n",
       "      <td>Two year</td>\n",
       "      <td>No</td>\n",
       "      <td>Mailed check</td>\n",
       "      <td>20.00</td>\n",
       "      <td></td>\n",
       "    </tr>\n",
       "    <tr>\n",
       "      <th>5218</th>\n",
       "      <td>2923-ARZLG</td>\n",
       "      <td>2020-02-01</td>\n",
       "      <td>NaT</td>\n",
       "      <td>One year</td>\n",
       "      <td>Yes</td>\n",
       "      <td>Mailed check</td>\n",
       "      <td>19.70</td>\n",
       "      <td></td>\n",
       "    </tr>\n",
       "    <tr>\n",
       "      <th>6670</th>\n",
       "      <td>4075-WKNIU</td>\n",
       "      <td>2020-02-01</td>\n",
       "      <td>NaT</td>\n",
       "      <td>Two year</td>\n",
       "      <td>No</td>\n",
       "      <td>Mailed check</td>\n",
       "      <td>73.35</td>\n",
       "      <td></td>\n",
       "    </tr>\n",
       "    <tr>\n",
       "      <th>6754</th>\n",
       "      <td>2775-SEFEE</td>\n",
       "      <td>2020-02-01</td>\n",
       "      <td>NaT</td>\n",
       "      <td>Two year</td>\n",
       "      <td>Yes</td>\n",
       "      <td>Bank transfer (automatic)</td>\n",
       "      <td>61.90</td>\n",
       "      <td></td>\n",
       "    </tr>\n",
       "  </tbody>\n",
       "</table>\n",
       "</div>"
      ],
      "text/plain": [
       "     customer_id begin_date end_date      type paperless_billing  \\\n",
       "488   4472-LVYGI 2020-02-01      NaT  Two year               Yes   \n",
       "753   3115-CZMZD 2020-02-01      NaT  Two year                No   \n",
       "936   5709-LVOEQ 2020-02-01      NaT  Two year                No   \n",
       "1082  4367-NUYAO 2020-02-01      NaT  Two year                No   \n",
       "1340  1371-DWPAZ 2020-02-01      NaT  Two year                No   \n",
       "3331  7644-OMVMY 2020-02-01      NaT  Two year                No   \n",
       "3826  3213-VVOLG 2020-02-01      NaT  Two year                No   \n",
       "4380  2520-SGTTA 2020-02-01      NaT  Two year                No   \n",
       "5218  2923-ARZLG 2020-02-01      NaT  One year               Yes   \n",
       "6670  4075-WKNIU 2020-02-01      NaT  Two year                No   \n",
       "6754  2775-SEFEE 2020-02-01      NaT  Two year               Yes   \n",
       "\n",
       "                 payment_method  monthly_charges total_charges  \n",
       "488   Bank transfer (automatic)            52.55                \n",
       "753                Mailed check            20.25                \n",
       "936                Mailed check            80.85                \n",
       "1082               Mailed check            25.75                \n",
       "1340    Credit card (automatic)            56.05                \n",
       "3331               Mailed check            19.85                \n",
       "3826               Mailed check            25.35                \n",
       "4380               Mailed check            20.00                \n",
       "5218               Mailed check            19.70                \n",
       "6670               Mailed check            73.35                \n",
       "6754  Bank transfer (automatic)            61.90                "
      ]
     },
     "execution_count": 26,
     "metadata": {},
     "output_type": "execute_result"
    }
   ],
   "source": [
    "contract[contract['total_charges'] == ' ']"
   ]
  },
  {
   "cell_type": "markdown",
   "id": "84c6f3af",
   "metadata": {},
   "source": [
    "Значение ' ' присутствует в последнем месяце, который не входит в отчетный период. Заменим на 0"
   ]
  },
  {
   "cell_type": "code",
   "execution_count": 27,
   "id": "3c51c45c",
   "metadata": {},
   "outputs": [],
   "source": [
    "contract['total_charges'] = contract['total_charges'].replace(' ','0.0')\n",
    "contract['total_charges'] = contract['total_charges'].astype('float64')"
   ]
  },
  {
   "cell_type": "markdown",
   "id": "0386bba9",
   "metadata": {},
   "source": [
    "Проверим, удалось ли исправить выявленные замечания."
   ]
  },
  {
   "cell_type": "code",
   "execution_count": 28,
   "id": "f91dea53",
   "metadata": {},
   "outputs": [
    {
     "name": "stdout",
     "output_type": "stream",
     "text": [
      "<class 'pandas.core.frame.DataFrame'>\n",
      "RangeIndex: 7043 entries, 0 to 7042\n",
      "Data columns (total 8 columns):\n",
      " #   Column             Non-Null Count  Dtype         \n",
      "---  ------             --------------  -----         \n",
      " 0   customer_id        7043 non-null   object        \n",
      " 1   begin_date         7043 non-null   datetime64[ns]\n",
      " 2   end_date           1869 non-null   datetime64[ns]\n",
      " 3   type               7043 non-null   object        \n",
      " 4   paperless_billing  7043 non-null   object        \n",
      " 5   payment_method     7043 non-null   object        \n",
      " 6   monthly_charges    7043 non-null   float64       \n",
      " 7   total_charges      7043 non-null   float64       \n",
      "dtypes: datetime64[ns](2), float64(2), object(4)\n",
      "memory usage: 440.3+ KB\n"
     ]
    }
   ],
   "source": [
    "contract.info()"
   ]
  },
  {
   "cell_type": "markdown",
   "id": "df1d8c87",
   "metadata": {},
   "source": [
    "### Информация об интернет-услугах - internet"
   ]
  },
  {
   "cell_type": "code",
   "execution_count": 29,
   "id": "6f3e5be0",
   "metadata": {},
   "outputs": [
    {
     "data": {
      "text/plain": [
       "Index(['customerID', 'InternetService', 'OnlineSecurity', 'OnlineBackup',\n",
       "       'DeviceProtection', 'TechSupport', 'StreamingTV', 'StreamingMovies'],\n",
       "      dtype='object')"
      ]
     },
     "execution_count": 29,
     "metadata": {},
     "output_type": "execute_result"
    }
   ],
   "source": [
    "internet.columns"
   ]
  },
  {
   "cell_type": "code",
   "execution_count": 30,
   "id": "b1e3df40",
   "metadata": {},
   "outputs": [],
   "source": [
    "internet.rename(columns={'customerID': 'customer_id', \n",
    "                   'InternetService': 'internet_service', \n",
    "                   'OnlineSecurity': 'online_security', \n",
    "                   'OnlineBackup': 'online_backup',\n",
    "                   'DeviceProtection': 'device_protection',\n",
    "                   'TechSupport': 'tech_support',\n",
    "                   'StreamingTV': 'streaming_tv',\n",
    "                   'StreamingMovies': 'streaming_movies'}, inplace=True)"
   ]
  },
  {
   "cell_type": "code",
   "execution_count": 31,
   "id": "22510060",
   "metadata": {
    "scrolled": true
   },
   "outputs": [
    {
     "data": {
      "text/plain": [
       "customer_id          5517\n",
       "internet_service        2\n",
       "online_security         2\n",
       "online_backup           2\n",
       "device_protection       2\n",
       "tech_support            2\n",
       "streaming_tv            2\n",
       "streaming_movies        2\n",
       "dtype: int64"
      ]
     },
     "execution_count": 31,
     "metadata": {},
     "output_type": "execute_result"
    }
   ],
   "source": [
    "internet.nunique()"
   ]
  },
  {
   "cell_type": "markdown",
   "id": "1044f12a",
   "metadata": {},
   "source": [
    "Приведем категориальные признаки к формату category, поскольку модели LGBMRegression, CatBoostRegression не работают с типом object."
   ]
  },
  {
   "cell_type": "code",
   "execution_count": 32,
   "id": "9dcc22e8",
   "metadata": {},
   "outputs": [
    {
     "name": "stdout",
     "output_type": "stream",
     "text": [
      "<class 'pandas.core.frame.DataFrame'>\n",
      "RangeIndex: 5517 entries, 0 to 5516\n",
      "Data columns (total 8 columns):\n",
      " #   Column             Non-Null Count  Dtype \n",
      "---  ------             --------------  ----- \n",
      " 0   customer_id        5517 non-null   object\n",
      " 1   internet_service   5517 non-null   object\n",
      " 2   online_security    5517 non-null   object\n",
      " 3   online_backup      5517 non-null   object\n",
      " 4   device_protection  5517 non-null   object\n",
      " 5   tech_support       5517 non-null   object\n",
      " 6   streaming_tv       5517 non-null   object\n",
      " 7   streaming_movies   5517 non-null   object\n",
      "dtypes: object(8)\n",
      "memory usage: 344.9+ KB\n"
     ]
    }
   ],
   "source": [
    "internet.info()"
   ]
  },
  {
   "cell_type": "markdown",
   "id": "a6ddae8d",
   "metadata": {},
   "source": [
    "### Персональные данные клиента - personal"
   ]
  },
  {
   "cell_type": "code",
   "execution_count": 33,
   "id": "0b5de528",
   "metadata": {},
   "outputs": [
    {
     "data": {
      "text/plain": [
       "Index(['customerID', 'gender', 'SeniorCitizen', 'Partner', 'Dependents'], dtype='object')"
      ]
     },
     "execution_count": 33,
     "metadata": {},
     "output_type": "execute_result"
    }
   ],
   "source": [
    "personal.columns"
   ]
  },
  {
   "cell_type": "code",
   "execution_count": 34,
   "id": "3e1d288e",
   "metadata": {},
   "outputs": [],
   "source": [
    "personal.columns = personal.columns.str.lower()"
   ]
  },
  {
   "cell_type": "code",
   "execution_count": 35,
   "id": "9d6dd2fc",
   "metadata": {},
   "outputs": [],
   "source": [
    "personal.columns = ['customer_id', 'gender', 'senior_citizen', 'partner', 'dependents']"
   ]
  },
  {
   "cell_type": "code",
   "execution_count": 36,
   "id": "9210a38d",
   "metadata": {},
   "outputs": [
    {
     "data": {
      "text/plain": [
       "customer_id       7043\n",
       "gender               2\n",
       "senior_citizen       2\n",
       "partner              2\n",
       "dependents           2\n",
       "dtype: int64"
      ]
     },
     "execution_count": 36,
     "metadata": {},
     "output_type": "execute_result"
    }
   ],
   "source": [
    "personal.nunique()"
   ]
  },
  {
   "cell_type": "markdown",
   "id": "464904d1",
   "metadata": {},
   "source": [
    "### Информация об услугах телефонии - phone"
   ]
  },
  {
   "cell_type": "code",
   "execution_count": 37,
   "id": "c7aa0973",
   "metadata": {},
   "outputs": [
    {
     "data": {
      "text/plain": [
       "Index(['customerID', 'MultipleLines'], dtype='object')"
      ]
     },
     "execution_count": 37,
     "metadata": {},
     "output_type": "execute_result"
    }
   ],
   "source": [
    "phone.columns"
   ]
  },
  {
   "cell_type": "code",
   "execution_count": 38,
   "id": "a5dc56f5",
   "metadata": {},
   "outputs": [],
   "source": [
    "phone.rename(columns={'customerID': 'customer_id', \n",
    "                   'MultipleLines': 'multiple_lines'}, inplace=True)"
   ]
  },
  {
   "cell_type": "markdown",
   "id": "7c3b3e5e",
   "metadata": {},
   "source": [
    "### Объединение таблиц"
   ]
  },
  {
   "cell_type": "markdown",
   "id": "e669810c",
   "metadata": {},
   "source": [
    "Произведем объединение contract, internet, personal, phone в три этапа по столбцу customer_id."
   ]
  },
  {
   "cell_type": "code",
   "execution_count": 39,
   "id": "04106a03",
   "metadata": {},
   "outputs": [],
   "source": [
    "df = contract.join(internet.set_index('customer_id'), on='customer_id', how='left')"
   ]
  },
  {
   "cell_type": "code",
   "execution_count": 40,
   "id": "6ab51946",
   "metadata": {},
   "outputs": [],
   "source": [
    "df = df.join(personal.set_index('customer_id'), on='customer_id', how='left')"
   ]
  },
  {
   "cell_type": "code",
   "execution_count": 41,
   "id": "7344dc18",
   "metadata": {},
   "outputs": [],
   "source": [
    "df = df.join(phone.set_index('customer_id'), on='customer_id', how='left')"
   ]
  },
  {
   "cell_type": "code",
   "execution_count": 42,
   "id": "34d3f16e",
   "metadata": {},
   "outputs": [
    {
     "name": "stdout",
     "output_type": "stream",
     "text": [
      "<class 'pandas.core.frame.DataFrame'>\n",
      "RangeIndex: 7043 entries, 0 to 7042\n",
      "Data columns (total 20 columns):\n",
      " #   Column             Non-Null Count  Dtype         \n",
      "---  ------             --------------  -----         \n",
      " 0   customer_id        7043 non-null   object        \n",
      " 1   begin_date         7043 non-null   datetime64[ns]\n",
      " 2   end_date           1869 non-null   datetime64[ns]\n",
      " 3   type               7043 non-null   object        \n",
      " 4   paperless_billing  7043 non-null   object        \n",
      " 5   payment_method     7043 non-null   object        \n",
      " 6   monthly_charges    7043 non-null   float64       \n",
      " 7   total_charges      7043 non-null   float64       \n",
      " 8   internet_service   5517 non-null   object        \n",
      " 9   online_security    5517 non-null   object        \n",
      " 10  online_backup      5517 non-null   object        \n",
      " 11  device_protection  5517 non-null   object        \n",
      " 12  tech_support       5517 non-null   object        \n",
      " 13  streaming_tv       5517 non-null   object        \n",
      " 14  streaming_movies   5517 non-null   object        \n",
      " 15  gender             7043 non-null   object        \n",
      " 16  senior_citizen     7043 non-null   int64         \n",
      " 17  partner            7043 non-null   object        \n",
      " 18  dependents         7043 non-null   object        \n",
      " 19  multiple_lines     6361 non-null   object        \n",
      "dtypes: datetime64[ns](2), float64(2), int64(1), object(15)\n",
      "memory usage: 1.1+ MB\n"
     ]
    }
   ],
   "source": [
    "df.info()"
   ]
  },
  {
   "cell_type": "markdown",
   "id": "855a6274",
   "metadata": {},
   "source": [
    "Проверка на пропуски"
   ]
  },
  {
   "cell_type": "code",
   "execution_count": 43,
   "id": "a59ca27e",
   "metadata": {
    "scrolled": false
   },
   "outputs": [
    {
     "data": {
      "text/plain": [
       "customer_id             0\n",
       "begin_date              0\n",
       "end_date             5174\n",
       "type                    0\n",
       "paperless_billing       0\n",
       "payment_method          0\n",
       "monthly_charges         0\n",
       "total_charges           0\n",
       "internet_service     1526\n",
       "online_security      1526\n",
       "online_backup        1526\n",
       "device_protection    1526\n",
       "tech_support         1526\n",
       "streaming_tv         1526\n",
       "streaming_movies     1526\n",
       "gender                  0\n",
       "senior_citizen          0\n",
       "partner                 0\n",
       "dependents              0\n",
       "multiple_lines        682\n",
       "dtype: int64"
      ]
     },
     "execution_count": 43,
     "metadata": {},
     "output_type": "execute_result"
    }
   ],
   "source": [
    "df.isna().sum()"
   ]
  },
  {
   "cell_type": "code",
   "execution_count": 44,
   "id": "c54e73e1",
   "metadata": {
    "scrolled": false
   },
   "outputs": [
    {
     "data": {
      "text/html": [
       "<div>\n",
       "<style scoped>\n",
       "    .dataframe tbody tr th:only-of-type {\n",
       "        vertical-align: middle;\n",
       "    }\n",
       "\n",
       "    .dataframe tbody tr th {\n",
       "        vertical-align: top;\n",
       "    }\n",
       "\n",
       "    .dataframe thead th {\n",
       "        text-align: right;\n",
       "    }\n",
       "</style>\n",
       "<table border=\"1\" class=\"dataframe\">\n",
       "  <thead>\n",
       "    <tr style=\"text-align: right;\">\n",
       "      <th></th>\n",
       "      <th>customer_id</th>\n",
       "      <th>begin_date</th>\n",
       "      <th>end_date</th>\n",
       "      <th>type</th>\n",
       "      <th>paperless_billing</th>\n",
       "      <th>payment_method</th>\n",
       "      <th>monthly_charges</th>\n",
       "      <th>total_charges</th>\n",
       "      <th>internet_service</th>\n",
       "      <th>online_security</th>\n",
       "      <th>online_backup</th>\n",
       "      <th>device_protection</th>\n",
       "      <th>tech_support</th>\n",
       "      <th>streaming_tv</th>\n",
       "      <th>streaming_movies</th>\n",
       "      <th>gender</th>\n",
       "      <th>senior_citizen</th>\n",
       "      <th>partner</th>\n",
       "      <th>dependents</th>\n",
       "      <th>multiple_lines</th>\n",
       "    </tr>\n",
       "  </thead>\n",
       "  <tbody>\n",
       "    <tr>\n",
       "      <th>0</th>\n",
       "      <td>7590-VHVEG</td>\n",
       "      <td>2020-01-01</td>\n",
       "      <td>NaT</td>\n",
       "      <td>Month-to-month</td>\n",
       "      <td>Yes</td>\n",
       "      <td>Electronic check</td>\n",
       "      <td>29.85</td>\n",
       "      <td>29.85</td>\n",
       "      <td>DSL</td>\n",
       "      <td>No</td>\n",
       "      <td>Yes</td>\n",
       "      <td>No</td>\n",
       "      <td>No</td>\n",
       "      <td>No</td>\n",
       "      <td>No</td>\n",
       "      <td>Female</td>\n",
       "      <td>0</td>\n",
       "      <td>Yes</td>\n",
       "      <td>No</td>\n",
       "      <td>NaN</td>\n",
       "    </tr>\n",
       "    <tr>\n",
       "      <th>1</th>\n",
       "      <td>5575-GNVDE</td>\n",
       "      <td>2017-04-01</td>\n",
       "      <td>NaT</td>\n",
       "      <td>One year</td>\n",
       "      <td>No</td>\n",
       "      <td>Mailed check</td>\n",
       "      <td>56.95</td>\n",
       "      <td>1889.50</td>\n",
       "      <td>DSL</td>\n",
       "      <td>Yes</td>\n",
       "      <td>No</td>\n",
       "      <td>Yes</td>\n",
       "      <td>No</td>\n",
       "      <td>No</td>\n",
       "      <td>No</td>\n",
       "      <td>Male</td>\n",
       "      <td>0</td>\n",
       "      <td>No</td>\n",
       "      <td>No</td>\n",
       "      <td>No</td>\n",
       "    </tr>\n",
       "    <tr>\n",
       "      <th>2</th>\n",
       "      <td>3668-QPYBK</td>\n",
       "      <td>2019-10-01</td>\n",
       "      <td>2019-12-01</td>\n",
       "      <td>Month-to-month</td>\n",
       "      <td>Yes</td>\n",
       "      <td>Mailed check</td>\n",
       "      <td>53.85</td>\n",
       "      <td>108.15</td>\n",
       "      <td>DSL</td>\n",
       "      <td>Yes</td>\n",
       "      <td>Yes</td>\n",
       "      <td>No</td>\n",
       "      <td>No</td>\n",
       "      <td>No</td>\n",
       "      <td>No</td>\n",
       "      <td>Male</td>\n",
       "      <td>0</td>\n",
       "      <td>No</td>\n",
       "      <td>No</td>\n",
       "      <td>No</td>\n",
       "    </tr>\n",
       "    <tr>\n",
       "      <th>3</th>\n",
       "      <td>7795-CFOCW</td>\n",
       "      <td>2016-05-01</td>\n",
       "      <td>NaT</td>\n",
       "      <td>One year</td>\n",
       "      <td>No</td>\n",
       "      <td>Bank transfer (automatic)</td>\n",
       "      <td>42.30</td>\n",
       "      <td>1840.75</td>\n",
       "      <td>DSL</td>\n",
       "      <td>Yes</td>\n",
       "      <td>No</td>\n",
       "      <td>Yes</td>\n",
       "      <td>Yes</td>\n",
       "      <td>No</td>\n",
       "      <td>No</td>\n",
       "      <td>Male</td>\n",
       "      <td>0</td>\n",
       "      <td>No</td>\n",
       "      <td>No</td>\n",
       "      <td>NaN</td>\n",
       "    </tr>\n",
       "    <tr>\n",
       "      <th>4</th>\n",
       "      <td>9237-HQITU</td>\n",
       "      <td>2019-09-01</td>\n",
       "      <td>2019-11-01</td>\n",
       "      <td>Month-to-month</td>\n",
       "      <td>Yes</td>\n",
       "      <td>Electronic check</td>\n",
       "      <td>70.70</td>\n",
       "      <td>151.65</td>\n",
       "      <td>Fiber optic</td>\n",
       "      <td>No</td>\n",
       "      <td>No</td>\n",
       "      <td>No</td>\n",
       "      <td>No</td>\n",
       "      <td>No</td>\n",
       "      <td>No</td>\n",
       "      <td>Female</td>\n",
       "      <td>0</td>\n",
       "      <td>No</td>\n",
       "      <td>No</td>\n",
       "      <td>No</td>\n",
       "    </tr>\n",
       "    <tr>\n",
       "      <th>5</th>\n",
       "      <td>9305-CDSKC</td>\n",
       "      <td>2019-03-01</td>\n",
       "      <td>2019-11-01</td>\n",
       "      <td>Month-to-month</td>\n",
       "      <td>Yes</td>\n",
       "      <td>Electronic check</td>\n",
       "      <td>99.65</td>\n",
       "      <td>820.50</td>\n",
       "      <td>Fiber optic</td>\n",
       "      <td>No</td>\n",
       "      <td>No</td>\n",
       "      <td>Yes</td>\n",
       "      <td>No</td>\n",
       "      <td>Yes</td>\n",
       "      <td>Yes</td>\n",
       "      <td>Female</td>\n",
       "      <td>0</td>\n",
       "      <td>No</td>\n",
       "      <td>No</td>\n",
       "      <td>Yes</td>\n",
       "    </tr>\n",
       "    <tr>\n",
       "      <th>6</th>\n",
       "      <td>1452-KIOVK</td>\n",
       "      <td>2018-04-01</td>\n",
       "      <td>NaT</td>\n",
       "      <td>Month-to-month</td>\n",
       "      <td>Yes</td>\n",
       "      <td>Credit card (automatic)</td>\n",
       "      <td>89.10</td>\n",
       "      <td>1949.40</td>\n",
       "      <td>Fiber optic</td>\n",
       "      <td>No</td>\n",
       "      <td>Yes</td>\n",
       "      <td>No</td>\n",
       "      <td>No</td>\n",
       "      <td>Yes</td>\n",
       "      <td>No</td>\n",
       "      <td>Male</td>\n",
       "      <td>0</td>\n",
       "      <td>No</td>\n",
       "      <td>Yes</td>\n",
       "      <td>Yes</td>\n",
       "    </tr>\n",
       "    <tr>\n",
       "      <th>7</th>\n",
       "      <td>6713-OKOMC</td>\n",
       "      <td>2019-04-01</td>\n",
       "      <td>NaT</td>\n",
       "      <td>Month-to-month</td>\n",
       "      <td>No</td>\n",
       "      <td>Mailed check</td>\n",
       "      <td>29.75</td>\n",
       "      <td>301.90</td>\n",
       "      <td>DSL</td>\n",
       "      <td>Yes</td>\n",
       "      <td>No</td>\n",
       "      <td>No</td>\n",
       "      <td>No</td>\n",
       "      <td>No</td>\n",
       "      <td>No</td>\n",
       "      <td>Female</td>\n",
       "      <td>0</td>\n",
       "      <td>No</td>\n",
       "      <td>No</td>\n",
       "      <td>NaN</td>\n",
       "    </tr>\n",
       "    <tr>\n",
       "      <th>8</th>\n",
       "      <td>7892-POOKP</td>\n",
       "      <td>2017-07-01</td>\n",
       "      <td>2019-11-01</td>\n",
       "      <td>Month-to-month</td>\n",
       "      <td>Yes</td>\n",
       "      <td>Electronic check</td>\n",
       "      <td>104.80</td>\n",
       "      <td>3046.05</td>\n",
       "      <td>Fiber optic</td>\n",
       "      <td>No</td>\n",
       "      <td>No</td>\n",
       "      <td>Yes</td>\n",
       "      <td>Yes</td>\n",
       "      <td>Yes</td>\n",
       "      <td>Yes</td>\n",
       "      <td>Female</td>\n",
       "      <td>0</td>\n",
       "      <td>Yes</td>\n",
       "      <td>No</td>\n",
       "      <td>Yes</td>\n",
       "    </tr>\n",
       "    <tr>\n",
       "      <th>9</th>\n",
       "      <td>6388-TABGU</td>\n",
       "      <td>2014-12-01</td>\n",
       "      <td>NaT</td>\n",
       "      <td>One year</td>\n",
       "      <td>No</td>\n",
       "      <td>Bank transfer (automatic)</td>\n",
       "      <td>56.15</td>\n",
       "      <td>3487.95</td>\n",
       "      <td>DSL</td>\n",
       "      <td>Yes</td>\n",
       "      <td>Yes</td>\n",
       "      <td>No</td>\n",
       "      <td>No</td>\n",
       "      <td>No</td>\n",
       "      <td>No</td>\n",
       "      <td>Male</td>\n",
       "      <td>0</td>\n",
       "      <td>No</td>\n",
       "      <td>Yes</td>\n",
       "      <td>No</td>\n",
       "    </tr>\n",
       "  </tbody>\n",
       "</table>\n",
       "</div>"
      ],
      "text/plain": [
       "  customer_id begin_date   end_date            type paperless_billing  \\\n",
       "0  7590-VHVEG 2020-01-01        NaT  Month-to-month               Yes   \n",
       "1  5575-GNVDE 2017-04-01        NaT        One year                No   \n",
       "2  3668-QPYBK 2019-10-01 2019-12-01  Month-to-month               Yes   \n",
       "3  7795-CFOCW 2016-05-01        NaT        One year                No   \n",
       "4  9237-HQITU 2019-09-01 2019-11-01  Month-to-month               Yes   \n",
       "5  9305-CDSKC 2019-03-01 2019-11-01  Month-to-month               Yes   \n",
       "6  1452-KIOVK 2018-04-01        NaT  Month-to-month               Yes   \n",
       "7  6713-OKOMC 2019-04-01        NaT  Month-to-month                No   \n",
       "8  7892-POOKP 2017-07-01 2019-11-01  Month-to-month               Yes   \n",
       "9  6388-TABGU 2014-12-01        NaT        One year                No   \n",
       "\n",
       "              payment_method  monthly_charges  total_charges internet_service  \\\n",
       "0           Electronic check            29.85          29.85              DSL   \n",
       "1               Mailed check            56.95        1889.50              DSL   \n",
       "2               Mailed check            53.85         108.15              DSL   \n",
       "3  Bank transfer (automatic)            42.30        1840.75              DSL   \n",
       "4           Electronic check            70.70         151.65      Fiber optic   \n",
       "5           Electronic check            99.65         820.50      Fiber optic   \n",
       "6    Credit card (automatic)            89.10        1949.40      Fiber optic   \n",
       "7               Mailed check            29.75         301.90              DSL   \n",
       "8           Electronic check           104.80        3046.05      Fiber optic   \n",
       "9  Bank transfer (automatic)            56.15        3487.95              DSL   \n",
       "\n",
       "  online_security online_backup device_protection tech_support streaming_tv  \\\n",
       "0              No           Yes                No           No           No   \n",
       "1             Yes            No               Yes           No           No   \n",
       "2             Yes           Yes                No           No           No   \n",
       "3             Yes            No               Yes          Yes           No   \n",
       "4              No            No                No           No           No   \n",
       "5              No            No               Yes           No          Yes   \n",
       "6              No           Yes                No           No          Yes   \n",
       "7             Yes            No                No           No           No   \n",
       "8              No            No               Yes          Yes          Yes   \n",
       "9             Yes           Yes                No           No           No   \n",
       "\n",
       "  streaming_movies  gender  senior_citizen partner dependents multiple_lines  \n",
       "0               No  Female               0     Yes         No            NaN  \n",
       "1               No    Male               0      No         No             No  \n",
       "2               No    Male               0      No         No             No  \n",
       "3               No    Male               0      No         No            NaN  \n",
       "4               No  Female               0      No         No             No  \n",
       "5              Yes  Female               0      No         No            Yes  \n",
       "6               No    Male               0      No        Yes            Yes  \n",
       "7               No  Female               0      No         No            NaN  \n",
       "8              Yes  Female               0     Yes         No            Yes  \n",
       "9               No    Male               0      No        Yes             No  "
      ]
     },
     "execution_count": 44,
     "metadata": {},
     "output_type": "execute_result"
    }
   ],
   "source": [
    "df.head(10)"
   ]
  },
  {
   "cell_type": "markdown",
   "id": "5a085eb9",
   "metadata": {},
   "source": [
    "### Целевой признак exited"
   ]
  },
  {
   "cell_type": "markdown",
   "id": "39d2c0be",
   "metadata": {},
   "source": [
    "Создадим столбец c целевым признаком exited, который будет означать покинул клиент компанию или нет."
   ]
  },
  {
   "cell_type": "code",
   "execution_count": 45,
   "id": "a8ad5fac",
   "metadata": {},
   "outputs": [],
   "source": [
    "df['exited'] = (~df['end_date'].isna()).astype('int')"
   ]
  },
  {
   "cell_type": "code",
   "execution_count": 46,
   "id": "f8bc9913",
   "metadata": {},
   "outputs": [
    {
     "data": {
      "text/plain": [
       "0    5174\n",
       "1    1869\n",
       "Name: exited, dtype: int64"
      ]
     },
     "execution_count": 46,
     "metadata": {},
     "output_type": "execute_result"
    }
   ],
   "source": [
    "df['exited'].value_counts()"
   ]
  },
  {
   "cell_type": "markdown",
   "id": "82e163af",
   "metadata": {},
   "source": [
    "Присутствует дисбаланс классов, необходима дальнейшая обработка при построении модели."
   ]
  },
  {
   "cell_type": "markdown",
   "id": "300475a9",
   "metadata": {},
   "source": [
    "#### Работа с пропусками"
   ]
  },
  {
   "cell_type": "markdown",
   "id": "6921a242",
   "metadata": {},
   "source": [
    "- Поскольку все признаки с пропусками по смыслу категориальные, то при объединении возникнут незаполненные столбцы с пропусками.\n",
    "- Заполним данные столбцы значением 'No'\n",
    "- после заполнения поменяем тип object на category"
   ]
  },
  {
   "cell_type": "code",
   "execution_count": 47,
   "id": "23adfba2",
   "metadata": {
    "scrolled": true
   },
   "outputs": [],
   "source": [
    "df = df.fillna('No')"
   ]
  },
  {
   "cell_type": "code",
   "execution_count": 48,
   "id": "75778fda",
   "metadata": {},
   "outputs": [],
   "source": [
    "categorial = ['type', 'paperless_billing', 'payment_method', 'internet_service','online_security','online_backup','device_protection', 'tech_support', \n",
    "              'streaming_tv', 'streaming_movies', 'gender','senior_citizen','partner','dependents', 'multiple_lines']\n",
    "for column in categorial:\n",
    "    df[column] = df[column].astype('category')"
   ]
  },
  {
   "cell_type": "code",
   "execution_count": 49,
   "id": "1211deba",
   "metadata": {},
   "outputs": [
    {
     "data": {
      "text/plain": [
       "customer_id          0\n",
       "begin_date           0\n",
       "end_date             0\n",
       "type                 0\n",
       "paperless_billing    0\n",
       "payment_method       0\n",
       "monthly_charges      0\n",
       "total_charges        0\n",
       "internet_service     0\n",
       "online_security      0\n",
       "online_backup        0\n",
       "device_protection    0\n",
       "tech_support         0\n",
       "streaming_tv         0\n",
       "streaming_movies     0\n",
       "gender               0\n",
       "senior_citizen       0\n",
       "partner              0\n",
       "dependents           0\n",
       "multiple_lines       0\n",
       "exited               0\n",
       "dtype: int64"
      ]
     },
     "execution_count": 49,
     "metadata": {},
     "output_type": "execute_result"
    }
   ],
   "source": [
    "df.isna().sum()"
   ]
  },
  {
   "cell_type": "markdown",
   "id": "03bcaf58",
   "metadata": {},
   "source": [
    "Проверим, изменили ли мы все типы данных."
   ]
  },
  {
   "cell_type": "code",
   "execution_count": 50,
   "id": "46d9f802",
   "metadata": {
    "scrolled": false
   },
   "outputs": [
    {
     "name": "stdout",
     "output_type": "stream",
     "text": [
      "<class 'pandas.core.frame.DataFrame'>\n",
      "RangeIndex: 7043 entries, 0 to 7042\n",
      "Data columns (total 21 columns):\n",
      " #   Column             Non-Null Count  Dtype         \n",
      "---  ------             --------------  -----         \n",
      " 0   customer_id        7043 non-null   object        \n",
      " 1   begin_date         7043 non-null   datetime64[ns]\n",
      " 2   end_date           7043 non-null   object        \n",
      " 3   type               7043 non-null   category      \n",
      " 4   paperless_billing  7043 non-null   category      \n",
      " 5   payment_method     7043 non-null   category      \n",
      " 6   monthly_charges    7043 non-null   float64       \n",
      " 7   total_charges      7043 non-null   float64       \n",
      " 8   internet_service   7043 non-null   category      \n",
      " 9   online_security    7043 non-null   category      \n",
      " 10  online_backup      7043 non-null   category      \n",
      " 11  device_protection  7043 non-null   category      \n",
      " 12  tech_support       7043 non-null   category      \n",
      " 13  streaming_tv       7043 non-null   category      \n",
      " 14  streaming_movies   7043 non-null   category      \n",
      " 15  gender             7043 non-null   category      \n",
      " 16  senior_citizen     7043 non-null   category      \n",
      " 17  partner            7043 non-null   category      \n",
      " 18  dependents         7043 non-null   category      \n",
      " 19  multiple_lines     7043 non-null   category      \n",
      " 20  exited             7043 non-null   int32         \n",
      "dtypes: category(15), datetime64[ns](1), float64(2), int32(1), object(2)\n",
      "memory usage: 407.8+ KB\n"
     ]
    }
   ],
   "source": [
    "df.info()"
   ]
  },
  {
   "cell_type": "markdown",
   "id": "1c859fd5",
   "metadata": {},
   "source": [
    "- Поскольку мы использовали fillna, то данные в колонке end_date вернулись в исходное состояние object. \n",
    "- Повторим операцию и изменим тип данных в end_date с object на datetime64.\n",
    "- Найдем длительность существования договора на момент 01.02.2020\n",
    "- для этого заполним значения No на дату снятия показаний, поскольку по легенде мы выгрузили данные 01.02.2020\n",
    "- найдем разницу между begin_date и end_date"
   ]
  },
  {
   "cell_type": "code",
   "execution_count": 51,
   "id": "220ad0d4",
   "metadata": {},
   "outputs": [],
   "source": [
    "df.loc[df['end_date'] == 'No', 'end_date'] = pd.to_datetime('2020-02-01')\n",
    "df['end_date'] = pd.to_datetime(df['end_date'], format=\"%Y-%m-%d\")"
   ]
  },
  {
   "cell_type": "markdown",
   "id": "5be10ed8",
   "metadata": {},
   "source": [
    "Длительность договора duration"
   ]
  },
  {
   "cell_type": "code",
   "execution_count": 52,
   "id": "fb371445",
   "metadata": {},
   "outputs": [],
   "source": [
    "df['duration'] = (df['end_date'] - df['begin_date']).dt.days"
   ]
  },
  {
   "cell_type": "code",
   "execution_count": 53,
   "id": "bfd9eeba",
   "metadata": {},
   "outputs": [
    {
     "data": {
      "text/html": [
       "<div>\n",
       "<style scoped>\n",
       "    .dataframe tbody tr th:only-of-type {\n",
       "        vertical-align: middle;\n",
       "    }\n",
       "\n",
       "    .dataframe tbody tr th {\n",
       "        vertical-align: top;\n",
       "    }\n",
       "\n",
       "    .dataframe thead th {\n",
       "        text-align: right;\n",
       "    }\n",
       "</style>\n",
       "<table border=\"1\" class=\"dataframe\">\n",
       "  <thead>\n",
       "    <tr style=\"text-align: right;\">\n",
       "      <th></th>\n",
       "      <th>customer_id</th>\n",
       "      <th>begin_date</th>\n",
       "      <th>end_date</th>\n",
       "      <th>type</th>\n",
       "      <th>paperless_billing</th>\n",
       "      <th>payment_method</th>\n",
       "      <th>monthly_charges</th>\n",
       "      <th>total_charges</th>\n",
       "      <th>internet_service</th>\n",
       "      <th>online_security</th>\n",
       "      <th>...</th>\n",
       "      <th>tech_support</th>\n",
       "      <th>streaming_tv</th>\n",
       "      <th>streaming_movies</th>\n",
       "      <th>gender</th>\n",
       "      <th>senior_citizen</th>\n",
       "      <th>partner</th>\n",
       "      <th>dependents</th>\n",
       "      <th>multiple_lines</th>\n",
       "      <th>exited</th>\n",
       "      <th>duration</th>\n",
       "    </tr>\n",
       "  </thead>\n",
       "  <tbody>\n",
       "    <tr>\n",
       "      <th>0</th>\n",
       "      <td>7590-VHVEG</td>\n",
       "      <td>2020-01-01</td>\n",
       "      <td>2020-02-01</td>\n",
       "      <td>Month-to-month</td>\n",
       "      <td>Yes</td>\n",
       "      <td>Electronic check</td>\n",
       "      <td>29.85</td>\n",
       "      <td>29.85</td>\n",
       "      <td>DSL</td>\n",
       "      <td>No</td>\n",
       "      <td>...</td>\n",
       "      <td>No</td>\n",
       "      <td>No</td>\n",
       "      <td>No</td>\n",
       "      <td>Female</td>\n",
       "      <td>0</td>\n",
       "      <td>Yes</td>\n",
       "      <td>No</td>\n",
       "      <td>No</td>\n",
       "      <td>0</td>\n",
       "      <td>31</td>\n",
       "    </tr>\n",
       "    <tr>\n",
       "      <th>1</th>\n",
       "      <td>5575-GNVDE</td>\n",
       "      <td>2017-04-01</td>\n",
       "      <td>2020-02-01</td>\n",
       "      <td>One year</td>\n",
       "      <td>No</td>\n",
       "      <td>Mailed check</td>\n",
       "      <td>56.95</td>\n",
       "      <td>1889.50</td>\n",
       "      <td>DSL</td>\n",
       "      <td>Yes</td>\n",
       "      <td>...</td>\n",
       "      <td>No</td>\n",
       "      <td>No</td>\n",
       "      <td>No</td>\n",
       "      <td>Male</td>\n",
       "      <td>0</td>\n",
       "      <td>No</td>\n",
       "      <td>No</td>\n",
       "      <td>No</td>\n",
       "      <td>0</td>\n",
       "      <td>1036</td>\n",
       "    </tr>\n",
       "    <tr>\n",
       "      <th>2</th>\n",
       "      <td>3668-QPYBK</td>\n",
       "      <td>2019-10-01</td>\n",
       "      <td>2019-12-01</td>\n",
       "      <td>Month-to-month</td>\n",
       "      <td>Yes</td>\n",
       "      <td>Mailed check</td>\n",
       "      <td>53.85</td>\n",
       "      <td>108.15</td>\n",
       "      <td>DSL</td>\n",
       "      <td>Yes</td>\n",
       "      <td>...</td>\n",
       "      <td>No</td>\n",
       "      <td>No</td>\n",
       "      <td>No</td>\n",
       "      <td>Male</td>\n",
       "      <td>0</td>\n",
       "      <td>No</td>\n",
       "      <td>No</td>\n",
       "      <td>No</td>\n",
       "      <td>1</td>\n",
       "      <td>61</td>\n",
       "    </tr>\n",
       "    <tr>\n",
       "      <th>3</th>\n",
       "      <td>7795-CFOCW</td>\n",
       "      <td>2016-05-01</td>\n",
       "      <td>2020-02-01</td>\n",
       "      <td>One year</td>\n",
       "      <td>No</td>\n",
       "      <td>Bank transfer (automatic)</td>\n",
       "      <td>42.30</td>\n",
       "      <td>1840.75</td>\n",
       "      <td>DSL</td>\n",
       "      <td>Yes</td>\n",
       "      <td>...</td>\n",
       "      <td>Yes</td>\n",
       "      <td>No</td>\n",
       "      <td>No</td>\n",
       "      <td>Male</td>\n",
       "      <td>0</td>\n",
       "      <td>No</td>\n",
       "      <td>No</td>\n",
       "      <td>No</td>\n",
       "      <td>0</td>\n",
       "      <td>1371</td>\n",
       "    </tr>\n",
       "    <tr>\n",
       "      <th>4</th>\n",
       "      <td>9237-HQITU</td>\n",
       "      <td>2019-09-01</td>\n",
       "      <td>2019-11-01</td>\n",
       "      <td>Month-to-month</td>\n",
       "      <td>Yes</td>\n",
       "      <td>Electronic check</td>\n",
       "      <td>70.70</td>\n",
       "      <td>151.65</td>\n",
       "      <td>Fiber optic</td>\n",
       "      <td>No</td>\n",
       "      <td>...</td>\n",
       "      <td>No</td>\n",
       "      <td>No</td>\n",
       "      <td>No</td>\n",
       "      <td>Female</td>\n",
       "      <td>0</td>\n",
       "      <td>No</td>\n",
       "      <td>No</td>\n",
       "      <td>No</td>\n",
       "      <td>1</td>\n",
       "      <td>61</td>\n",
       "    </tr>\n",
       "  </tbody>\n",
       "</table>\n",
       "<p>5 rows × 22 columns</p>\n",
       "</div>"
      ],
      "text/plain": [
       "  customer_id begin_date   end_date            type paperless_billing  \\\n",
       "0  7590-VHVEG 2020-01-01 2020-02-01  Month-to-month               Yes   \n",
       "1  5575-GNVDE 2017-04-01 2020-02-01        One year                No   \n",
       "2  3668-QPYBK 2019-10-01 2019-12-01  Month-to-month               Yes   \n",
       "3  7795-CFOCW 2016-05-01 2020-02-01        One year                No   \n",
       "4  9237-HQITU 2019-09-01 2019-11-01  Month-to-month               Yes   \n",
       "\n",
       "              payment_method  monthly_charges  total_charges internet_service  \\\n",
       "0           Electronic check            29.85          29.85              DSL   \n",
       "1               Mailed check            56.95        1889.50              DSL   \n",
       "2               Mailed check            53.85         108.15              DSL   \n",
       "3  Bank transfer (automatic)            42.30        1840.75              DSL   \n",
       "4           Electronic check            70.70         151.65      Fiber optic   \n",
       "\n",
       "  online_security  ... tech_support streaming_tv streaming_movies  gender  \\\n",
       "0              No  ...           No           No               No  Female   \n",
       "1             Yes  ...           No           No               No    Male   \n",
       "2             Yes  ...           No           No               No    Male   \n",
       "3             Yes  ...          Yes           No               No    Male   \n",
       "4              No  ...           No           No               No  Female   \n",
       "\n",
       "  senior_citizen partner dependents multiple_lines exited duration  \n",
       "0              0     Yes         No             No      0       31  \n",
       "1              0      No         No             No      0     1036  \n",
       "2              0      No         No             No      1       61  \n",
       "3              0      No         No             No      0     1371  \n",
       "4              0      No         No             No      1       61  \n",
       "\n",
       "[5 rows x 22 columns]"
      ]
     },
     "execution_count": 53,
     "metadata": {},
     "output_type": "execute_result"
    }
   ],
   "source": [
    "df.head()"
   ]
  },
  {
   "cell_type": "code",
   "execution_count": 54,
   "id": "629e89b0",
   "metadata": {
    "scrolled": false
   },
   "outputs": [
    {
     "name": "stdout",
     "output_type": "stream",
     "text": [
      "<class 'pandas.core.frame.DataFrame'>\n",
      "RangeIndex: 7043 entries, 0 to 7042\n",
      "Data columns (total 22 columns):\n",
      " #   Column             Non-Null Count  Dtype         \n",
      "---  ------             --------------  -----         \n",
      " 0   customer_id        7043 non-null   object        \n",
      " 1   begin_date         7043 non-null   datetime64[ns]\n",
      " 2   end_date           7043 non-null   datetime64[ns]\n",
      " 3   type               7043 non-null   category      \n",
      " 4   paperless_billing  7043 non-null   category      \n",
      " 5   payment_method     7043 non-null   category      \n",
      " 6   monthly_charges    7043 non-null   float64       \n",
      " 7   total_charges      7043 non-null   float64       \n",
      " 8   internet_service   7043 non-null   category      \n",
      " 9   online_security    7043 non-null   category      \n",
      " 10  online_backup      7043 non-null   category      \n",
      " 11  device_protection  7043 non-null   category      \n",
      " 12  tech_support       7043 non-null   category      \n",
      " 13  streaming_tv       7043 non-null   category      \n",
      " 14  streaming_movies   7043 non-null   category      \n",
      " 15  gender             7043 non-null   category      \n",
      " 16  senior_citizen     7043 non-null   category      \n",
      " 17  partner            7043 non-null   category      \n",
      " 18  dependents         7043 non-null   category      \n",
      " 19  multiple_lines     7043 non-null   category      \n",
      " 20  exited             7043 non-null   int32         \n",
      " 21  duration           7043 non-null   int64         \n",
      "dtypes: category(15), datetime64[ns](2), float64(2), int32(1), int64(1), object(1)\n",
      "memory usage: 462.9+ KB\n"
     ]
    }
   ],
   "source": [
    "df.info()"
   ]
  },
  {
   "cell_type": "markdown",
   "id": "bd8b17cc",
   "metadata": {},
   "source": [
    "### Исследовательский анализ данных"
   ]
  },
  {
   "cell_type": "markdown",
   "id": "695c4522",
   "metadata": {},
   "source": [
    "- Выделим числовые признаки numeric и категориальные categorial.\n",
    "- total_charges исключим, поскольку для обучения модели не будем использовать данный признак"
   ]
  },
  {
   "cell_type": "code",
   "execution_count": 55,
   "id": "e6461a78",
   "metadata": {},
   "outputs": [],
   "source": [
    "numeric = ['monthly_charges', 'duration']"
   ]
  },
  {
   "cell_type": "code",
   "execution_count": 56,
   "id": "9a26ee1d",
   "metadata": {},
   "outputs": [],
   "source": [
    "categorial = ['type', 'paperless_billing', 'payment_method', 'internet_service','online_security','online_backup','device_protection', 'tech_support', \n",
    "              'streaming_tv', 'streaming_movies', 'gender','senior_citizen','partner','dependents', 'multiple_lines']"
   ]
  },
  {
   "cell_type": "markdown",
   "id": "77130737",
   "metadata": {},
   "source": [
    "- Определим коэффициент корреляции Пирсона для каждой пары параметров при помощи функции corr(). \n",
    "- определим зависимость целевого признака exited от остальных признаков"
   ]
  },
  {
   "cell_type": "code",
   "execution_count": 57,
   "id": "d3401ef4",
   "metadata": {},
   "outputs": [
    {
     "data": {
      "text/html": [
       "<div>\n",
       "<style scoped>\n",
       "    .dataframe tbody tr th:only-of-type {\n",
       "        vertical-align: middle;\n",
       "    }\n",
       "\n",
       "    .dataframe tbody tr th {\n",
       "        vertical-align: top;\n",
       "    }\n",
       "\n",
       "    .dataframe thead th {\n",
       "        text-align: right;\n",
       "    }\n",
       "</style>\n",
       "<table border=\"1\" class=\"dataframe\">\n",
       "  <thead>\n",
       "    <tr style=\"text-align: right;\">\n",
       "      <th></th>\n",
       "      <th>monthly_charges</th>\n",
       "      <th>total_charges</th>\n",
       "      <th>exited</th>\n",
       "      <th>duration</th>\n",
       "    </tr>\n",
       "  </thead>\n",
       "  <tbody>\n",
       "    <tr>\n",
       "      <th>monthly_charges</th>\n",
       "      <td>1.00</td>\n",
       "      <td>0.65</td>\n",
       "      <td>0.19</td>\n",
       "      <td>0.25</td>\n",
       "    </tr>\n",
       "    <tr>\n",
       "      <th>total_charges</th>\n",
       "      <td>0.65</td>\n",
       "      <td>1.00</td>\n",
       "      <td>-0.20</td>\n",
       "      <td>0.83</td>\n",
       "    </tr>\n",
       "    <tr>\n",
       "      <th>exited</th>\n",
       "      <td>0.19</td>\n",
       "      <td>-0.20</td>\n",
       "      <td>1.00</td>\n",
       "      <td>-0.35</td>\n",
       "    </tr>\n",
       "    <tr>\n",
       "      <th>duration</th>\n",
       "      <td>0.25</td>\n",
       "      <td>0.83</td>\n",
       "      <td>-0.35</td>\n",
       "      <td>1.00</td>\n",
       "    </tr>\n",
       "  </tbody>\n",
       "</table>\n",
       "</div>"
      ],
      "text/plain": [
       "                 monthly_charges  total_charges  exited  duration\n",
       "monthly_charges             1.00           0.65    0.19      0.25\n",
       "total_charges               0.65           1.00   -0.20      0.83\n",
       "exited                      0.19          -0.20    1.00     -0.35\n",
       "duration                    0.25           0.83   -0.35      1.00"
      ]
     },
     "execution_count": 57,
     "metadata": {},
     "output_type": "execute_result"
    }
   ],
   "source": [
    "df.corr().round(2)"
   ]
  },
  {
   "cell_type": "code",
   "execution_count": 58,
   "id": "a3afbd84",
   "metadata": {},
   "outputs": [
    {
     "data": {
      "image/png": "[encoded data removed]",
      "text/plain": [
       "<Figure size 72x288 with 2 Axes>"
      ]
     },
     "metadata": {
      "needs_background": "light"
     },
     "output_type": "display_data"
    }
   ],
   "source": [
    "plt.figure(figsize=(1,4))\n",
    "sns.heatmap(df.corr()[['exited']].sort_values(by='exited',\n",
    "                                                               ascending=False),\n",
    "                                                               cmap='RdYlGn', \n",
    "                                                               annot=True,\n",
    "                                                               annot_kws={'size':10})\n",
    "plt.show()"
   ]
  },
  {
   "cell_type": "markdown",
   "id": "ff6d4f5b",
   "metadata": {},
   "source": [
    "<div class='alert alert-success'> 👍\t\n",
    "Круто что владеешь такой мощной техникой визуализации как тепловая карта. На ней не всегда видны корреляции между признаками. В такой ситуации стоит подумать о том, что возможно признаки имеют нелинейные связи. Для выявления таких нелинейных взаимосвязей я рекомендую дополнительно посмотреть на корреляцию Спирмена, а в идеале познакомиться с очень продвинутым коэффициентом корреляции Phik. С его помощью можно получать адекватные значения корреляции для данных любой природы. https://phik.readthedocs.io/en/latest/introduction.html\n",
    "   \n",
    "    \n",
    "Добавь еще расчет взаимосвязей между признаками, а не только с таргетом\n"
   ]
  },
  {
   "cell_type": "code",
   "execution_count": 59,
   "id": "78d423df",
   "metadata": {},
   "outputs": [
    {
     "name": "stdout",
     "output_type": "stream",
     "text": [
      "interval columns not set, guessing: ['monthly_charges', 'total_charges', 'exited', 'duration']\n"
     ]
    },
    {
     "name": "stderr",
     "output_type": "stream",
     "text": [
      "D:\\soft 3\\lib\\site-packages\\phik\\data_quality.py:57: UserWarning: The number of unique values of variable customer_id is large: 7043. Are you sure this is not an interval variable? Analysis for pairs of variables including customer_id can be slow.\n",
      "  warnings.warn(\n"
     ]
    },
    {
     "data": {
      "text/html": [
       "<div>\n",
       "<style scoped>\n",
       "    .dataframe tbody tr th:only-of-type {\n",
       "        vertical-align: middle;\n",
       "    }\n",
       "\n",
       "    .dataframe tbody tr th {\n",
       "        vertical-align: top;\n",
       "    }\n",
       "\n",
       "    .dataframe thead th {\n",
       "        text-align: right;\n",
       "    }\n",
       "</style>\n",
       "<table border=\"1\" class=\"dataframe\">\n",
       "  <thead>\n",
       "    <tr style=\"text-align: right;\">\n",
       "      <th></th>\n",
       "      <th>customer_id</th>\n",
       "      <th>begin_date</th>\n",
       "      <th>end_date</th>\n",
       "      <th>type</th>\n",
       "      <th>paperless_billing</th>\n",
       "      <th>payment_method</th>\n",
       "      <th>monthly_charges</th>\n",
       "      <th>total_charges</th>\n",
       "      <th>internet_service</th>\n",
       "      <th>online_security</th>\n",
       "      <th>...</th>\n",
       "      <th>tech_support</th>\n",
       "      <th>streaming_tv</th>\n",
       "      <th>streaming_movies</th>\n",
       "      <th>gender</th>\n",
       "      <th>senior_citizen</th>\n",
       "      <th>partner</th>\n",
       "      <th>dependents</th>\n",
       "      <th>multiple_lines</th>\n",
       "      <th>exited</th>\n",
       "      <th>duration</th>\n",
       "    </tr>\n",
       "  </thead>\n",
       "  <tbody>\n",
       "    <tr>\n",
       "      <th>customer_id</th>\n",
       "      <td>1.0</td>\n",
       "      <td>1.000000</td>\n",
       "      <td>1.000000</td>\n",
       "      <td>1.000000</td>\n",
       "      <td>1.000000</td>\n",
       "      <td>1.000000</td>\n",
       "      <td>1.000000</td>\n",
       "      <td>1.000000</td>\n",
       "      <td>1.000000</td>\n",
       "      <td>1.000000</td>\n",
       "      <td>...</td>\n",
       "      <td>1.000000</td>\n",
       "      <td>1.000000</td>\n",
       "      <td>1.000000</td>\n",
       "      <td>1.000000</td>\n",
       "      <td>1.000000</td>\n",
       "      <td>1.000000</td>\n",
       "      <td>1.000000</td>\n",
       "      <td>1.000000</td>\n",
       "      <td>1.000000</td>\n",
       "      <td>1.000000</td>\n",
       "    </tr>\n",
       "    <tr>\n",
       "      <th>begin_date</th>\n",
       "      <td>1.0</td>\n",
       "      <td>1.000000</td>\n",
       "      <td>0.584146</td>\n",
       "      <td>0.766249</td>\n",
       "      <td>0.081447</td>\n",
       "      <td>0.456389</td>\n",
       "      <td>0.421886</td>\n",
       "      <td>0.819481</td>\n",
       "      <td>0.192197</td>\n",
       "      <td>0.403560</td>\n",
       "      <td>...</td>\n",
       "      <td>0.399506</td>\n",
       "      <td>0.359784</td>\n",
       "      <td>0.371863</td>\n",
       "      <td>0.011268</td>\n",
       "      <td>0.050862</td>\n",
       "      <td>0.473514</td>\n",
       "      <td>0.208564</td>\n",
       "      <td>0.428109</td>\n",
       "      <td>0.495211</td>\n",
       "      <td>0.995271</td>\n",
       "    </tr>\n",
       "    <tr>\n",
       "      <th>end_date</th>\n",
       "      <td>1.0</td>\n",
       "      <td>0.584146</td>\n",
       "      <td>1.000000</td>\n",
       "      <td>0.357462</td>\n",
       "      <td>0.156832</td>\n",
       "      <td>0.212169</td>\n",
       "      <td>0.319733</td>\n",
       "      <td>0.248533</td>\n",
       "      <td>0.288479</td>\n",
       "      <td>0.139392</td>\n",
       "      <td>...</td>\n",
       "      <td>0.134227</td>\n",
       "      <td>0.050373</td>\n",
       "      <td>0.047014</td>\n",
       "      <td>0.000000</td>\n",
       "      <td>0.123124</td>\n",
       "      <td>0.121753</td>\n",
       "      <td>0.133425</td>\n",
       "      <td>0.034949</td>\n",
       "      <td>1.000000</td>\n",
       "      <td>0.408477</td>\n",
       "    </tr>\n",
       "    <tr>\n",
       "      <th>type</th>\n",
       "      <td>1.0</td>\n",
       "      <td>0.766249</td>\n",
       "      <td>0.357462</td>\n",
       "      <td>1.000000</td>\n",
       "      <td>0.106860</td>\n",
       "      <td>0.277462</td>\n",
       "      <td>0.388444</td>\n",
       "      <td>0.505826</td>\n",
       "      <td>0.505187</td>\n",
       "      <td>0.152145</td>\n",
       "      <td>...</td>\n",
       "      <td>0.179999</td>\n",
       "      <td>0.066961</td>\n",
       "      <td>0.069608</td>\n",
       "      <td>0.000000</td>\n",
       "      <td>0.086231</td>\n",
       "      <td>0.179736</td>\n",
       "      <td>0.147680</td>\n",
       "      <td>0.065498</td>\n",
       "      <td>0.251639</td>\n",
       "      <td>0.664660</td>\n",
       "    </tr>\n",
       "    <tr>\n",
       "      <th>paperless_billing</th>\n",
       "      <td>1.0</td>\n",
       "      <td>0.081447</td>\n",
       "      <td>0.156832</td>\n",
       "      <td>0.106860</td>\n",
       "      <td>1.000000</td>\n",
       "      <td>0.370495</td>\n",
       "      <td>0.467812</td>\n",
       "      <td>0.207127</td>\n",
       "      <td>0.231438</td>\n",
       "      <td>0.000000</td>\n",
       "      <td>...</td>\n",
       "      <td>0.055929</td>\n",
       "      <td>0.343524</td>\n",
       "      <td>0.325551</td>\n",
       "      <td>0.000000</td>\n",
       "      <td>0.242133</td>\n",
       "      <td>0.013218</td>\n",
       "      <td>0.172593</td>\n",
       "      <td>0.252972</td>\n",
       "      <td>0.295754</td>\n",
       "      <td>0.000000</td>\n",
       "    </tr>\n",
       "    <tr>\n",
       "      <th>payment_method</th>\n",
       "      <td>1.0</td>\n",
       "      <td>0.456389</td>\n",
       "      <td>0.212169</td>\n",
       "      <td>0.277462</td>\n",
       "      <td>0.370495</td>\n",
       "      <td>1.000000</td>\n",
       "      <td>0.399526</td>\n",
       "      <td>0.350566</td>\n",
       "      <td>0.323886</td>\n",
       "      <td>0.262911</td>\n",
       "      <td>...</td>\n",
       "      <td>0.272101</td>\n",
       "      <td>0.377209</td>\n",
       "      <td>0.378907</td>\n",
       "      <td>0.000000</td>\n",
       "      <td>0.292725</td>\n",
       "      <td>0.243008</td>\n",
       "      <td>0.224903</td>\n",
       "      <td>0.339313</td>\n",
       "      <td>0.449125</td>\n",
       "      <td>0.375115</td>\n",
       "    </tr>\n",
       "    <tr>\n",
       "      <th>monthly_charges</th>\n",
       "      <td>1.0</td>\n",
       "      <td>0.421886</td>\n",
       "      <td>0.319733</td>\n",
       "      <td>0.388444</td>\n",
       "      <td>0.467812</td>\n",
       "      <td>0.399526</td>\n",
       "      <td>1.000000</td>\n",
       "      <td>0.762839</td>\n",
       "      <td>0.919002</td>\n",
       "      <td>0.551621</td>\n",
       "      <td>...</td>\n",
       "      <td>0.576525</td>\n",
       "      <td>0.835340</td>\n",
       "      <td>0.833307</td>\n",
       "      <td>0.008175</td>\n",
       "      <td>0.304985</td>\n",
       "      <td>0.203545</td>\n",
       "      <td>0.184366</td>\n",
       "      <td>0.675883</td>\n",
       "      <td>0.360050</td>\n",
       "      <td>0.411191</td>\n",
       "    </tr>\n",
       "    <tr>\n",
       "      <th>total_charges</th>\n",
       "      <td>1.0</td>\n",
       "      <td>0.819481</td>\n",
       "      <td>0.248533</td>\n",
       "      <td>0.505826</td>\n",
       "      <td>0.207127</td>\n",
       "      <td>0.350566</td>\n",
       "      <td>0.762839</td>\n",
       "      <td>1.000000</td>\n",
       "      <td>0.508222</td>\n",
       "      <td>0.545067</td>\n",
       "      <td>...</td>\n",
       "      <td>0.566062</td>\n",
       "      <td>0.660753</td>\n",
       "      <td>0.666609</td>\n",
       "      <td>0.000000</td>\n",
       "      <td>0.149384</td>\n",
       "      <td>0.424467</td>\n",
       "      <td>0.119077</td>\n",
       "      <td>0.606117</td>\n",
       "      <td>0.278498</td>\n",
       "      <td>0.842146</td>\n",
       "    </tr>\n",
       "    <tr>\n",
       "      <th>internet_service</th>\n",
       "      <td>1.0</td>\n",
       "      <td>0.192197</td>\n",
       "      <td>0.288479</td>\n",
       "      <td>0.505187</td>\n",
       "      <td>0.231438</td>\n",
       "      <td>0.323886</td>\n",
       "      <td>0.919002</td>\n",
       "      <td>0.508222</td>\n",
       "      <td>1.000000</td>\n",
       "      <td>0.241421</td>\n",
       "      <td>...</td>\n",
       "      <td>0.239663</td>\n",
       "      <td>0.272818</td>\n",
       "      <td>0.272782</td>\n",
       "      <td>0.000000</td>\n",
       "      <td>0.160702</td>\n",
       "      <td>0.000000</td>\n",
       "      <td>0.108463</td>\n",
       "      <td>0.225383</td>\n",
       "      <td>0.196202</td>\n",
       "      <td>0.019357</td>\n",
       "    </tr>\n",
       "    <tr>\n",
       "      <th>online_security</th>\n",
       "      <td>1.0</td>\n",
       "      <td>0.403560</td>\n",
       "      <td>0.139392</td>\n",
       "      <td>0.152145</td>\n",
       "      <td>0.000000</td>\n",
       "      <td>0.262911</td>\n",
       "      <td>0.551621</td>\n",
       "      <td>0.545067</td>\n",
       "      <td>0.241421</td>\n",
       "      <td>1.000000</td>\n",
       "      <td>...</td>\n",
       "      <td>0.528391</td>\n",
       "      <td>0.272186</td>\n",
       "      <td>0.289097</td>\n",
       "      <td>0.018397</td>\n",
       "      <td>0.057028</td>\n",
       "      <td>0.221673</td>\n",
       "      <td>0.124945</td>\n",
       "      <td>0.151886</td>\n",
       "      <td>0.264580</td>\n",
       "      <td>0.424786</td>\n",
       "    </tr>\n",
       "    <tr>\n",
       "      <th>online_backup</th>\n",
       "      <td>1.0</td>\n",
       "      <td>0.445583</td>\n",
       "      <td>0.068364</td>\n",
       "      <td>0.098884</td>\n",
       "      <td>0.196443</td>\n",
       "      <td>0.282475</td>\n",
       "      <td>0.629541</td>\n",
       "      <td>0.653989</td>\n",
       "      <td>0.233602</td>\n",
       "      <td>0.430425</td>\n",
       "      <td>...</td>\n",
       "      <td>0.445130</td>\n",
       "      <td>0.428007</td>\n",
       "      <td>0.417170</td>\n",
       "      <td>0.009882</td>\n",
       "      <td>0.102065</td>\n",
       "      <td>0.219223</td>\n",
       "      <td>0.031533</td>\n",
       "      <td>0.311403</td>\n",
       "      <td>0.126973</td>\n",
       "      <td>0.465284</td>\n",
       "    </tr>\n",
       "    <tr>\n",
       "      <th>device_protection</th>\n",
       "      <td>1.0</td>\n",
       "      <td>0.456002</td>\n",
       "      <td>0.051336</td>\n",
       "      <td>0.137610</td>\n",
       "      <td>0.160796</td>\n",
       "      <td>0.306866</td>\n",
       "      <td>0.667481</td>\n",
       "      <td>0.671714</td>\n",
       "      <td>0.232916</td>\n",
       "      <td>0.418474</td>\n",
       "      <td>...</td>\n",
       "      <td>0.499267</td>\n",
       "      <td>0.575536</td>\n",
       "      <td>0.589888</td>\n",
       "      <td>0.000000</td>\n",
       "      <td>0.090686</td>\n",
       "      <td>0.238079</td>\n",
       "      <td>0.010416</td>\n",
       "      <td>0.309757</td>\n",
       "      <td>0.101516</td>\n",
       "      <td>0.465931</td>\n",
       "    </tr>\n",
       "    <tr>\n",
       "      <th>tech_support</th>\n",
       "      <td>1.0</td>\n",
       "      <td>0.399506</td>\n",
       "      <td>0.134227</td>\n",
       "      <td>0.179999</td>\n",
       "      <td>0.055929</td>\n",
       "      <td>0.272101</td>\n",
       "      <td>0.576525</td>\n",
       "      <td>0.566062</td>\n",
       "      <td>0.239663</td>\n",
       "      <td>0.528391</td>\n",
       "      <td>...</td>\n",
       "      <td>1.000000</td>\n",
       "      <td>0.422242</td>\n",
       "      <td>0.424078</td>\n",
       "      <td>0.000000</td>\n",
       "      <td>0.092565</td>\n",
       "      <td>0.185993</td>\n",
       "      <td>0.096912</td>\n",
       "      <td>0.155739</td>\n",
       "      <td>0.254615</td>\n",
       "      <td>0.422111</td>\n",
       "    </tr>\n",
       "    <tr>\n",
       "      <th>streaming_tv</th>\n",
       "      <td>1.0</td>\n",
       "      <td>0.359784</td>\n",
       "      <td>0.050373</td>\n",
       "      <td>0.066961</td>\n",
       "      <td>0.343524</td>\n",
       "      <td>0.377209</td>\n",
       "      <td>0.835340</td>\n",
       "      <td>0.660753</td>\n",
       "      <td>0.272818</td>\n",
       "      <td>0.272186</td>\n",
       "      <td>...</td>\n",
       "      <td>0.422242</td>\n",
       "      <td>1.000000</td>\n",
       "      <td>0.742479</td>\n",
       "      <td>0.000000</td>\n",
       "      <td>0.163120</td>\n",
       "      <td>0.193258</td>\n",
       "      <td>0.017331</td>\n",
       "      <td>0.392239</td>\n",
       "      <td>0.096865</td>\n",
       "      <td>0.359254</td>\n",
       "    </tr>\n",
       "    <tr>\n",
       "      <th>streaming_movies</th>\n",
       "      <td>1.0</td>\n",
       "      <td>0.371863</td>\n",
       "      <td>0.047014</td>\n",
       "      <td>0.069608</td>\n",
       "      <td>0.325551</td>\n",
       "      <td>0.378907</td>\n",
       "      <td>0.833307</td>\n",
       "      <td>0.666609</td>\n",
       "      <td>0.272782</td>\n",
       "      <td>0.289097</td>\n",
       "      <td>...</td>\n",
       "      <td>0.424078</td>\n",
       "      <td>0.742479</td>\n",
       "      <td>1.000000</td>\n",
       "      <td>0.000000</td>\n",
       "      <td>0.186141</td>\n",
       "      <td>0.182011</td>\n",
       "      <td>0.058999</td>\n",
       "      <td>0.394553</td>\n",
       "      <td>0.093923</td>\n",
       "      <td>0.371121</td>\n",
       "    </tr>\n",
       "    <tr>\n",
       "      <th>gender</th>\n",
       "      <td>1.0</td>\n",
       "      <td>0.011268</td>\n",
       "      <td>0.000000</td>\n",
       "      <td>0.000000</td>\n",
       "      <td>0.000000</td>\n",
       "      <td>0.000000</td>\n",
       "      <td>0.008175</td>\n",
       "      <td>0.000000</td>\n",
       "      <td>0.000000</td>\n",
       "      <td>0.018397</td>\n",
       "      <td>...</td>\n",
       "      <td>0.000000</td>\n",
       "      <td>0.000000</td>\n",
       "      <td>0.000000</td>\n",
       "      <td>1.000000</td>\n",
       "      <td>0.000000</td>\n",
       "      <td>0.000000</td>\n",
       "      <td>0.000000</td>\n",
       "      <td>0.000000</td>\n",
       "      <td>0.000000</td>\n",
       "      <td>0.000000</td>\n",
       "    </tr>\n",
       "    <tr>\n",
       "      <th>senior_citizen</th>\n",
       "      <td>1.0</td>\n",
       "      <td>0.050862</td>\n",
       "      <td>0.123124</td>\n",
       "      <td>0.086231</td>\n",
       "      <td>0.242133</td>\n",
       "      <td>0.292725</td>\n",
       "      <td>0.304985</td>\n",
       "      <td>0.149384</td>\n",
       "      <td>0.160702</td>\n",
       "      <td>0.057028</td>\n",
       "      <td>...</td>\n",
       "      <td>0.092565</td>\n",
       "      <td>0.163120</td>\n",
       "      <td>0.186141</td>\n",
       "      <td>0.000000</td>\n",
       "      <td>1.000000</td>\n",
       "      <td>0.016992</td>\n",
       "      <td>0.324576</td>\n",
       "      <td>0.221313</td>\n",
       "      <td>0.233432</td>\n",
       "      <td>0.028663</td>\n",
       "    </tr>\n",
       "    <tr>\n",
       "      <th>partner</th>\n",
       "      <td>1.0</td>\n",
       "      <td>0.473514</td>\n",
       "      <td>0.121753</td>\n",
       "      <td>0.179736</td>\n",
       "      <td>0.013218</td>\n",
       "      <td>0.243008</td>\n",
       "      <td>0.203545</td>\n",
       "      <td>0.424467</td>\n",
       "      <td>0.000000</td>\n",
       "      <td>0.221673</td>\n",
       "      <td>...</td>\n",
       "      <td>0.185993</td>\n",
       "      <td>0.193258</td>\n",
       "      <td>0.182011</td>\n",
       "      <td>0.000000</td>\n",
       "      <td>0.016992</td>\n",
       "      <td>1.000000</td>\n",
       "      <td>0.652122</td>\n",
       "      <td>0.220101</td>\n",
       "      <td>0.232930</td>\n",
       "      <td>0.491658</td>\n",
       "    </tr>\n",
       "    <tr>\n",
       "      <th>dependents</th>\n",
       "      <td>1.0</td>\n",
       "      <td>0.208564</td>\n",
       "      <td>0.133425</td>\n",
       "      <td>0.147680</td>\n",
       "      <td>0.172593</td>\n",
       "      <td>0.224903</td>\n",
       "      <td>0.184366</td>\n",
       "      <td>0.119077</td>\n",
       "      <td>0.108463</td>\n",
       "      <td>0.124945</td>\n",
       "      <td>...</td>\n",
       "      <td>0.096912</td>\n",
       "      <td>0.017331</td>\n",
       "      <td>0.058999</td>\n",
       "      <td>0.000000</td>\n",
       "      <td>0.324576</td>\n",
       "      <td>0.652122</td>\n",
       "      <td>1.000000</td>\n",
       "      <td>0.033103</td>\n",
       "      <td>0.253936</td>\n",
       "      <td>0.212209</td>\n",
       "    </tr>\n",
       "    <tr>\n",
       "      <th>multiple_lines</th>\n",
       "      <td>1.0</td>\n",
       "      <td>0.428109</td>\n",
       "      <td>0.034949</td>\n",
       "      <td>0.065498</td>\n",
       "      <td>0.252972</td>\n",
       "      <td>0.339313</td>\n",
       "      <td>0.675883</td>\n",
       "      <td>0.606117</td>\n",
       "      <td>0.225383</td>\n",
       "      <td>0.151886</td>\n",
       "      <td>...</td>\n",
       "      <td>0.155739</td>\n",
       "      <td>0.392239</td>\n",
       "      <td>0.394553</td>\n",
       "      <td>0.000000</td>\n",
       "      <td>0.221313</td>\n",
       "      <td>0.220101</td>\n",
       "      <td>0.033103</td>\n",
       "      <td>1.000000</td>\n",
       "      <td>0.059581</td>\n",
       "      <td>0.433522</td>\n",
       "    </tr>\n",
       "    <tr>\n",
       "      <th>exited</th>\n",
       "      <td>1.0</td>\n",
       "      <td>0.495211</td>\n",
       "      <td>1.000000</td>\n",
       "      <td>0.251639</td>\n",
       "      <td>0.295754</td>\n",
       "      <td>0.449125</td>\n",
       "      <td>0.360050</td>\n",
       "      <td>0.278498</td>\n",
       "      <td>0.196202</td>\n",
       "      <td>0.264580</td>\n",
       "      <td>...</td>\n",
       "      <td>0.254615</td>\n",
       "      <td>0.096865</td>\n",
       "      <td>0.093923</td>\n",
       "      <td>0.000000</td>\n",
       "      <td>0.233432</td>\n",
       "      <td>0.232930</td>\n",
       "      <td>0.253936</td>\n",
       "      <td>0.059581</td>\n",
       "      <td>1.000000</td>\n",
       "      <td>0.474001</td>\n",
       "    </tr>\n",
       "    <tr>\n",
       "      <th>duration</th>\n",
       "      <td>1.0</td>\n",
       "      <td>0.995271</td>\n",
       "      <td>0.408477</td>\n",
       "      <td>0.664660</td>\n",
       "      <td>0.000000</td>\n",
       "      <td>0.375115</td>\n",
       "      <td>0.411191</td>\n",
       "      <td>0.842146</td>\n",
       "      <td>0.019357</td>\n",
       "      <td>0.424786</td>\n",
       "      <td>...</td>\n",
       "      <td>0.422111</td>\n",
       "      <td>0.359254</td>\n",
       "      <td>0.371121</td>\n",
       "      <td>0.000000</td>\n",
       "      <td>0.028663</td>\n",
       "      <td>0.491658</td>\n",
       "      <td>0.212209</td>\n",
       "      <td>0.433522</td>\n",
       "      <td>0.474001</td>\n",
       "      <td>1.000000</td>\n",
       "    </tr>\n",
       "  </tbody>\n",
       "</table>\n",
       "<p>22 rows × 22 columns</p>\n",
       "</div>"
      ],
      "text/plain": [
       "                   customer_id  begin_date  end_date      type  \\\n",
       "customer_id                1.0    1.000000  1.000000  1.000000   \n",
       "begin_date                 1.0    1.000000  0.584146  0.766249   \n",
       "end_date                   1.0    0.584146  1.000000  0.357462   \n",
       "type                       1.0    0.766249  0.357462  1.000000   \n",
       "paperless_billing          1.0    0.081447  0.156832  0.106860   \n",
       "payment_method             1.0    0.456389  0.212169  0.277462   \n",
       "monthly_charges            1.0    0.421886  0.319733  0.388444   \n",
       "total_charges              1.0    0.819481  0.248533  0.505826   \n",
       "internet_service           1.0    0.192197  0.288479  0.505187   \n",
       "online_security            1.0    0.403560  0.139392  0.152145   \n",
       "online_backup              1.0    0.445583  0.068364  0.098884   \n",
       "device_protection          1.0    0.456002  0.051336  0.137610   \n",
       "tech_support               1.0    0.399506  0.134227  0.179999   \n",
       "streaming_tv               1.0    0.359784  0.050373  0.066961   \n",
       "streaming_movies           1.0    0.371863  0.047014  0.069608   \n",
       "gender                     1.0    0.011268  0.000000  0.000000   \n",
       "senior_citizen             1.0    0.050862  0.123124  0.086231   \n",
       "partner                    1.0    0.473514  0.121753  0.179736   \n",
       "dependents                 1.0    0.208564  0.133425  0.147680   \n",
       "multiple_lines             1.0    0.428109  0.034949  0.065498   \n",
       "exited                     1.0    0.495211  1.000000  0.251639   \n",
       "duration                   1.0    0.995271  0.408477  0.664660   \n",
       "\n",
       "                   paperless_billing  payment_method  monthly_charges  \\\n",
       "customer_id                 1.000000        1.000000         1.000000   \n",
       "begin_date                  0.081447        0.456389         0.421886   \n",
       "end_date                    0.156832        0.212169         0.319733   \n",
       "type                        0.106860        0.277462         0.388444   \n",
       "paperless_billing           1.000000        0.370495         0.467812   \n",
       "payment_method              0.370495        1.000000         0.399526   \n",
       "monthly_charges             0.467812        0.399526         1.000000   \n",
       "total_charges               0.207127        0.350566         0.762839   \n",
       "internet_service            0.231438        0.323886         0.919002   \n",
       "online_security             0.000000        0.262911         0.551621   \n",
       "online_backup               0.196443        0.282475         0.629541   \n",
       "device_protection           0.160796        0.306866         0.667481   \n",
       "tech_support                0.055929        0.272101         0.576525   \n",
       "streaming_tv                0.343524        0.377209         0.835340   \n",
       "streaming_movies            0.325551        0.378907         0.833307   \n",
       "gender                      0.000000        0.000000         0.008175   \n",
       "senior_citizen              0.242133        0.292725         0.304985   \n",
       "partner                     0.013218        0.243008         0.203545   \n",
       "dependents                  0.172593        0.224903         0.184366   \n",
       "multiple_lines              0.252972        0.339313         0.675883   \n",
       "exited                      0.295754        0.449125         0.360050   \n",
       "duration                    0.000000        0.375115         0.411191   \n",
       "\n",
       "                   total_charges  internet_service  online_security  ...  \\\n",
       "customer_id             1.000000          1.000000         1.000000  ...   \n",
       "begin_date              0.819481          0.192197         0.403560  ...   \n",
       "end_date                0.248533          0.288479         0.139392  ...   \n",
       "type                    0.505826          0.505187         0.152145  ...   \n",
       "paperless_billing       0.207127          0.231438         0.000000  ...   \n",
       "payment_method          0.350566          0.323886         0.262911  ...   \n",
       "monthly_charges         0.762839          0.919002         0.551621  ...   \n",
       "total_charges           1.000000          0.508222         0.545067  ...   \n",
       "internet_service        0.508222          1.000000         0.241421  ...   \n",
       "online_security         0.545067          0.241421         1.000000  ...   \n",
       "online_backup           0.653989          0.233602         0.430425  ...   \n",
       "device_protection       0.671714          0.232916         0.418474  ...   \n",
       "tech_support            0.566062          0.239663         0.528391  ...   \n",
       "streaming_tv            0.660753          0.272818         0.272186  ...   \n",
       "streaming_movies        0.666609          0.272782         0.289097  ...   \n",
       "gender                  0.000000          0.000000         0.018397  ...   \n",
       "senior_citizen          0.149384          0.160702         0.057028  ...   \n",
       "partner                 0.424467          0.000000         0.221673  ...   \n",
       "dependents              0.119077          0.108463         0.124945  ...   \n",
       "multiple_lines          0.606117          0.225383         0.151886  ...   \n",
       "exited                  0.278498          0.196202         0.264580  ...   \n",
       "duration                0.842146          0.019357         0.424786  ...   \n",
       "\n",
       "                   tech_support  streaming_tv  streaming_movies    gender  \\\n",
       "customer_id            1.000000      1.000000          1.000000  1.000000   \n",
       "begin_date             0.399506      0.359784          0.371863  0.011268   \n",
       "end_date               0.134227      0.050373          0.047014  0.000000   \n",
       "type                   0.179999      0.066961          0.069608  0.000000   \n",
       "paperless_billing      0.055929      0.343524          0.325551  0.000000   \n",
       "payment_method         0.272101      0.377209          0.378907  0.000000   \n",
       "monthly_charges        0.576525      0.835340          0.833307  0.008175   \n",
       "total_charges          0.566062      0.660753          0.666609  0.000000   \n",
       "internet_service       0.239663      0.272818          0.272782  0.000000   \n",
       "online_security        0.528391      0.272186          0.289097  0.018397   \n",
       "online_backup          0.445130      0.428007          0.417170  0.009882   \n",
       "device_protection      0.499267      0.575536          0.589888  0.000000   \n",
       "tech_support           1.000000      0.422242          0.424078  0.000000   \n",
       "streaming_tv           0.422242      1.000000          0.742479  0.000000   \n",
       "streaming_movies       0.424078      0.742479          1.000000  0.000000   \n",
       "gender                 0.000000      0.000000          0.000000  1.000000   \n",
       "senior_citizen         0.092565      0.163120          0.186141  0.000000   \n",
       "partner                0.185993      0.193258          0.182011  0.000000   \n",
       "dependents             0.096912      0.017331          0.058999  0.000000   \n",
       "multiple_lines         0.155739      0.392239          0.394553  0.000000   \n",
       "exited                 0.254615      0.096865          0.093923  0.000000   \n",
       "duration               0.422111      0.359254          0.371121  0.000000   \n",
       "\n",
       "                   senior_citizen   partner  dependents  multiple_lines  \\\n",
       "customer_id              1.000000  1.000000    1.000000        1.000000   \n",
       "begin_date               0.050862  0.473514    0.208564        0.428109   \n",
       "end_date                 0.123124  0.121753    0.133425        0.034949   \n",
       "type                     0.086231  0.179736    0.147680        0.065498   \n",
       "paperless_billing        0.242133  0.013218    0.172593        0.252972   \n",
       "payment_method           0.292725  0.243008    0.224903        0.339313   \n",
       "monthly_charges          0.304985  0.203545    0.184366        0.675883   \n",
       "total_charges            0.149384  0.424467    0.119077        0.606117   \n",
       "internet_service         0.160702  0.000000    0.108463        0.225383   \n",
       "online_security          0.057028  0.221673    0.124945        0.151886   \n",
       "online_backup            0.102065  0.219223    0.031533        0.311403   \n",
       "device_protection        0.090686  0.238079    0.010416        0.309757   \n",
       "tech_support             0.092565  0.185993    0.096912        0.155739   \n",
       "streaming_tv             0.163120  0.193258    0.017331        0.392239   \n",
       "streaming_movies         0.186141  0.182011    0.058999        0.394553   \n",
       "gender                   0.000000  0.000000    0.000000        0.000000   \n",
       "senior_citizen           1.000000  0.016992    0.324576        0.221313   \n",
       "partner                  0.016992  1.000000    0.652122        0.220101   \n",
       "dependents               0.324576  0.652122    1.000000        0.033103   \n",
       "multiple_lines           0.221313  0.220101    0.033103        1.000000   \n",
       "exited                   0.233432  0.232930    0.253936        0.059581   \n",
       "duration                 0.028663  0.491658    0.212209        0.433522   \n",
       "\n",
       "                     exited  duration  \n",
       "customer_id        1.000000  1.000000  \n",
       "begin_date         0.495211  0.995271  \n",
       "end_date           1.000000  0.408477  \n",
       "type               0.251639  0.664660  \n",
       "paperless_billing  0.295754  0.000000  \n",
       "payment_method     0.449125  0.375115  \n",
       "monthly_charges    0.360050  0.411191  \n",
       "total_charges      0.278498  0.842146  \n",
       "internet_service   0.196202  0.019357  \n",
       "online_security    0.264580  0.424786  \n",
       "online_backup      0.126973  0.465284  \n",
       "device_protection  0.101516  0.465931  \n",
       "tech_support       0.254615  0.422111  \n",
       "streaming_tv       0.096865  0.359254  \n",
       "streaming_movies   0.093923  0.371121  \n",
       "gender             0.000000  0.000000  \n",
       "senior_citizen     0.233432  0.028663  \n",
       "partner            0.232930  0.491658  \n",
       "dependents         0.253936  0.212209  \n",
       "multiple_lines     0.059581  0.433522  \n",
       "exited             1.000000  0.474001  \n",
       "duration           0.474001  1.000000  \n",
       "\n",
       "[22 rows x 22 columns]"
      ]
     },
     "execution_count": 59,
     "metadata": {},
     "output_type": "execute_result"
    }
   ],
   "source": [
    "df.phik_matrix()"
   ]
  },
  {
   "cell_type": "code",
   "execution_count": 60,
   "id": "75634ef7",
   "metadata": {},
   "outputs": [
    {
     "data": {
      "image/png": "[encoded data removed]",
      "text/plain": [
       "<Figure size 720x720 with 16 Axes>"
      ]
     },
     "metadata": {
      "needs_background": "light"
     },
     "output_type": "display_data"
    }
   ],
   "source": [
    "pd.plotting.scatter_matrix(df, figsize=(10, 10))\n",
    "plt.show()"
   ]
  },
  {
   "cell_type": "markdown",
   "id": "4f1e2955",
   "metadata": {},
   "source": [
    "Влияние столбцов на exited уход клиентов"
   ]
  },
  {
   "cell_type": "code",
   "execution_count": 61,
   "id": "b4a7a334",
   "metadata": {},
   "outputs": [
    {
     "data": {
      "text/plain": [
       "<AxesSubplot:ylabel='exited'>"
      ]
     },
     "execution_count": 61,
     "metadata": {},
     "output_type": "execute_result"
    },
    {
     "data": {
      "image/png": "[encoded data removed]",
      "text/plain": [
       "<Figure size 432x288 with 1 Axes>"
      ]
     },
     "metadata": {},
     "output_type": "display_data"
    }
   ],
   "source": [
    "df['exited'].value_counts().plot.pie(autopct='%.2f')"
   ]
  },
  {
   "cell_type": "markdown",
   "id": "fd9cbc85",
   "metadata": {},
   "source": [
    "- 73 % всех клиентов остались.\n",
    "- 27 % клиентов ушли."
   ]
  },
  {
   "cell_type": "code",
   "execution_count": 62,
   "id": "d1bd7303",
   "metadata": {},
   "outputs": [
    {
     "data": {
      "text/plain": [
       "<AxesSubplot:>"
      ]
     },
     "execution_count": 62,
     "metadata": {},
     "output_type": "execute_result"
    },
    {
     "data": {
      "image/png": "[encoded data removed]",
      "text/plain": [
       "<Figure size 432x288 with 1 Axes>"
      ]
     },
     "metadata": {
      "needs_background": "light"
     },
     "output_type": "display_data"
    }
   ],
   "source": [
    "df['exited'].hist()"
   ]
  },
  {
   "cell_type": "markdown",
   "id": "7b20cf48",
   "metadata": {},
   "source": [
    "Видим сильный дисбаланс целевого признака, значит необходимо использовать балансировку class_weight"
   ]
  },
  {
   "cell_type": "code",
   "execution_count": 63,
   "id": "34bbf731",
   "metadata": {},
   "outputs": [
    {
     "data": {
      "text/html": [
       "<div>\n",
       "<style scoped>\n",
       "    .dataframe tbody tr th:only-of-type {\n",
       "        vertical-align: middle;\n",
       "    }\n",
       "\n",
       "    .dataframe tbody tr th {\n",
       "        vertical-align: top;\n",
       "    }\n",
       "\n",
       "    .dataframe thead th {\n",
       "        text-align: right;\n",
       "    }\n",
       "</style>\n",
       "<table border=\"1\" class=\"dataframe\">\n",
       "  <thead>\n",
       "    <tr style=\"text-align: right;\">\n",
       "      <th></th>\n",
       "      <th>monthly_charges</th>\n",
       "      <th>total_charges</th>\n",
       "      <th>duration</th>\n",
       "    </tr>\n",
       "  </thead>\n",
       "  <tbody>\n",
       "    <tr>\n",
       "      <th>count</th>\n",
       "      <td>7043.000000</td>\n",
       "      <td>7043.000000</td>\n",
       "      <td>7043.000000</td>\n",
       "    </tr>\n",
       "    <tr>\n",
       "      <th>mean</th>\n",
       "      <td>64.761692</td>\n",
       "      <td>2279.734304</td>\n",
       "      <td>985.996166</td>\n",
       "    </tr>\n",
       "    <tr>\n",
       "      <th>std</th>\n",
       "      <td>30.090047</td>\n",
       "      <td>2266.794470</td>\n",
       "      <td>747.587844</td>\n",
       "    </tr>\n",
       "    <tr>\n",
       "      <th>min</th>\n",
       "      <td>18.250000</td>\n",
       "      <td>0.000000</td>\n",
       "      <td>0.000000</td>\n",
       "    </tr>\n",
       "    <tr>\n",
       "      <th>25%</th>\n",
       "      <td>35.500000</td>\n",
       "      <td>398.550000</td>\n",
       "      <td>273.000000</td>\n",
       "    </tr>\n",
       "    <tr>\n",
       "      <th>50%</th>\n",
       "      <td>70.350000</td>\n",
       "      <td>1394.550000</td>\n",
       "      <td>883.000000</td>\n",
       "    </tr>\n",
       "    <tr>\n",
       "      <th>75%</th>\n",
       "      <td>89.850000</td>\n",
       "      <td>3786.600000</td>\n",
       "      <td>1676.000000</td>\n",
       "    </tr>\n",
       "    <tr>\n",
       "      <th>max</th>\n",
       "      <td>118.750000</td>\n",
       "      <td>8684.800000</td>\n",
       "      <td>2191.000000</td>\n",
       "    </tr>\n",
       "  </tbody>\n",
       "</table>\n",
       "</div>"
      ],
      "text/plain": [
       "       monthly_charges  total_charges     duration\n",
       "count      7043.000000    7043.000000  7043.000000\n",
       "mean         64.761692    2279.734304   985.996166\n",
       "std          30.090047    2266.794470   747.587844\n",
       "min          18.250000       0.000000     0.000000\n",
       "25%          35.500000     398.550000   273.000000\n",
       "50%          70.350000    1394.550000   883.000000\n",
       "75%          89.850000    3786.600000  1676.000000\n",
       "max         118.750000    8684.800000  2191.000000"
      ]
     },
     "execution_count": 63,
     "metadata": {},
     "output_type": "execute_result"
    }
   ],
   "source": [
    "df[['monthly_charges','total_charges','duration']].describe()"
   ]
  },
  {
   "cell_type": "code",
   "execution_count": 64,
   "id": "5c975be3",
   "metadata": {},
   "outputs": [
    {
     "data": {
      "text/plain": [
       "<AxesSubplot:>"
      ]
     },
     "execution_count": 64,
     "metadata": {},
     "output_type": "execute_result"
    },
    {
     "data": {
      "image/png": "[encoded data removed]",
      "text/plain": [
       "<Figure size 432x288 with 1 Axes>"
      ]
     },
     "metadata": {
      "needs_background": "light"
     },
     "output_type": "display_data"
    }
   ],
   "source": [
    "df['monthly_charges'].hist()"
   ]
  },
  {
   "cell_type": "code",
   "execution_count": 65,
   "id": "60433743",
   "metadata": {},
   "outputs": [
    {
     "data": {
      "text/plain": [
       "<AxesSubplot:>"
      ]
     },
     "execution_count": 65,
     "metadata": {},
     "output_type": "execute_result"
    },
    {
     "data": {
      "image/png": "[encoded data removed]",
      "text/plain": [
       "<Figure size 432x288 with 1 Axes>"
      ]
     },
     "metadata": {
      "needs_background": "light"
     },
     "output_type": "display_data"
    }
   ],
   "source": [
    "df['total_charges'].hist()"
   ]
  },
  {
   "cell_type": "code",
   "execution_count": 66,
   "id": "39a554c9",
   "metadata": {},
   "outputs": [
    {
     "data": {
      "image/png": "[encoded data removed]",
      "text/plain": [
       "<Figure size 432x288 with 1 Axes>"
      ]
     },
     "metadata": {
      "needs_background": "light"
     },
     "output_type": "display_data"
    }
   ],
   "source": [
    "df.boxplot(column='monthly_charges')\n",
    "plt.show()"
   ]
  },
  {
   "cell_type": "code",
   "execution_count": 67,
   "id": "08003911",
   "metadata": {},
   "outputs": [
    {
     "data": {
      "image/png": "[encoded data removed]",
      "text/plain": [
       "<Figure size 432x288 with 1 Axes>"
      ]
     },
     "metadata": {
      "needs_background": "light"
     },
     "output_type": "display_data"
    }
   ],
   "source": [
    "df.boxplot(column='total_charges')\n",
    "plt.show()"
   ]
  },
  {
   "cell_type": "code",
   "execution_count": 68,
   "id": "81568a1f",
   "metadata": {},
   "outputs": [
    {
     "data": {
      "image/png": "[encoded data removed]",
      "text/plain": [
       "<Figure size 432x288 with 1 Axes>"
      ]
     },
     "metadata": {
      "needs_background": "light"
     },
     "output_type": "display_data"
    }
   ],
   "source": [
    "df.boxplot(column='duration')\n",
    "plt.show()"
   ]
  },
  {
   "cell_type": "code",
   "execution_count": 69,
   "id": "389719e4",
   "metadata": {
    "scrolled": false
   },
   "outputs": [
    {
     "data": {
      "image/png": "[encoded data removed]",
      "text/plain": [
       "<Figure size 720x144 with 1 Axes>"
      ]
     },
     "metadata": {
      "needs_background": "light"
     },
     "output_type": "display_data"
    },
    {
     "data": {
      "image/png": "[encoded data removed]",
      "text/plain": [
       "<Figure size 720x144 with 1 Axes>"
      ]
     },
     "metadata": {
      "needs_background": "light"
     },
     "output_type": "display_data"
    },
    {
     "data": {
      "image/png": "[encoded data removed]",
      "text/plain": [
       "<Figure size 720x144 with 1 Axes>"
      ]
     },
     "metadata": {
      "needs_background": "light"
     },
     "output_type": "display_data"
    }
   ],
   "source": [
    "cols_numeric = ['duration', 'monthly_charges', 'total_charges']\n",
    "for col in cols_numeric:\n",
    "    plt.figure(figsize=(10,2))\n",
    "    plt.title('boxplot для ' + col, fontsize=10)\n",
    "    ax = sns.boxplot(x=col, data=df)\n",
    "    plt.show()"
   ]
  },
  {
   "cell_type": "code",
   "execution_count": 70,
   "id": "60b7010d",
   "metadata": {},
   "outputs": [
    {
     "data": {
      "image/png": "[encoded data removed]",
      "text/plain": [
       "<Figure size 720x720 with 5 Axes>"
      ]
     },
     "metadata": {},
     "output_type": "display_data"
    }
   ],
   "source": [
    "f, axes = plt.subplots(3, 2, figsize=(10, 10))\n",
    "f.delaxes(axes[2,1])\n",
    "df['type'].value_counts().plot.pie(autopct='%.2f', ax=axes[0, 0]);\n",
    "df['payment_method'].value_counts().plot.pie(autopct='%.2f', ax=axes[0, 1]);\n",
    "df['gender'].value_counts().plot.pie(autopct='%.2f', ax=axes[1, 0]);\n",
    "df['internet_service'].value_counts().plot.pie(autopct='%.2f', ax=axes[1, 1]);\n",
    "df['multiple_lines'].value_counts().plot.pie(autopct='%.2f', ax=axes[2, 0]);\n",
    "f.tight_layout()"
   ]
  },
  {
   "cell_type": "markdown",
   "id": "c4f52340",
   "metadata": {},
   "source": [
    "### Моделирование\n"
   ]
  },
  {
   "cell_type": "markdown",
   "id": "edd6ab59",
   "metadata": {},
   "source": [
    "#### Подготовка признаков"
   ]
  },
  {
   "cell_type": "markdown",
   "id": "f7c72790",
   "metadata": {},
   "source": [
    "Удалим лишние признаки для модели."
   ]
  },
  {
   "cell_type": "code",
   "execution_count": 71,
   "id": "e7dfa535",
   "metadata": {},
   "outputs": [
    {
     "data": {
      "text/html": [
       "<div>\n",
       "<style scoped>\n",
       "    .dataframe tbody tr th:only-of-type {\n",
       "        vertical-align: middle;\n",
       "    }\n",
       "\n",
       "    .dataframe tbody tr th {\n",
       "        vertical-align: top;\n",
       "    }\n",
       "\n",
       "    .dataframe thead th {\n",
       "        text-align: right;\n",
       "    }\n",
       "</style>\n",
       "<table border=\"1\" class=\"dataframe\">\n",
       "  <thead>\n",
       "    <tr style=\"text-align: right;\">\n",
       "      <th></th>\n",
       "      <th>type</th>\n",
       "      <th>paperless_billing</th>\n",
       "      <th>payment_method</th>\n",
       "      <th>monthly_charges</th>\n",
       "      <th>internet_service</th>\n",
       "      <th>online_security</th>\n",
       "      <th>online_backup</th>\n",
       "      <th>device_protection</th>\n",
       "      <th>tech_support</th>\n",
       "      <th>streaming_tv</th>\n",
       "      <th>streaming_movies</th>\n",
       "      <th>gender</th>\n",
       "      <th>senior_citizen</th>\n",
       "      <th>partner</th>\n",
       "      <th>dependents</th>\n",
       "      <th>multiple_lines</th>\n",
       "      <th>exited</th>\n",
       "      <th>duration</th>\n",
       "    </tr>\n",
       "  </thead>\n",
       "  <tbody>\n",
       "    <tr>\n",
       "      <th>0</th>\n",
       "      <td>Month-to-month</td>\n",
       "      <td>Yes</td>\n",
       "      <td>Electronic check</td>\n",
       "      <td>29.85</td>\n",
       "      <td>DSL</td>\n",
       "      <td>No</td>\n",
       "      <td>Yes</td>\n",
       "      <td>No</td>\n",
       "      <td>No</td>\n",
       "      <td>No</td>\n",
       "      <td>No</td>\n",
       "      <td>Female</td>\n",
       "      <td>0</td>\n",
       "      <td>Yes</td>\n",
       "      <td>No</td>\n",
       "      <td>No</td>\n",
       "      <td>0</td>\n",
       "      <td>31</td>\n",
       "    </tr>\n",
       "    <tr>\n",
       "      <th>1</th>\n",
       "      <td>One year</td>\n",
       "      <td>No</td>\n",
       "      <td>Mailed check</td>\n",
       "      <td>56.95</td>\n",
       "      <td>DSL</td>\n",
       "      <td>Yes</td>\n",
       "      <td>No</td>\n",
       "      <td>Yes</td>\n",
       "      <td>No</td>\n",
       "      <td>No</td>\n",
       "      <td>No</td>\n",
       "      <td>Male</td>\n",
       "      <td>0</td>\n",
       "      <td>No</td>\n",
       "      <td>No</td>\n",
       "      <td>No</td>\n",
       "      <td>0</td>\n",
       "      <td>1036</td>\n",
       "    </tr>\n",
       "    <tr>\n",
       "      <th>2</th>\n",
       "      <td>Month-to-month</td>\n",
       "      <td>Yes</td>\n",
       "      <td>Mailed check</td>\n",
       "      <td>53.85</td>\n",
       "      <td>DSL</td>\n",
       "      <td>Yes</td>\n",
       "      <td>Yes</td>\n",
       "      <td>No</td>\n",
       "      <td>No</td>\n",
       "      <td>No</td>\n",
       "      <td>No</td>\n",
       "      <td>Male</td>\n",
       "      <td>0</td>\n",
       "      <td>No</td>\n",
       "      <td>No</td>\n",
       "      <td>No</td>\n",
       "      <td>1</td>\n",
       "      <td>61</td>\n",
       "    </tr>\n",
       "    <tr>\n",
       "      <th>3</th>\n",
       "      <td>One year</td>\n",
       "      <td>No</td>\n",
       "      <td>Bank transfer (automatic)</td>\n",
       "      <td>42.30</td>\n",
       "      <td>DSL</td>\n",
       "      <td>Yes</td>\n",
       "      <td>No</td>\n",
       "      <td>Yes</td>\n",
       "      <td>Yes</td>\n",
       "      <td>No</td>\n",
       "      <td>No</td>\n",
       "      <td>Male</td>\n",
       "      <td>0</td>\n",
       "      <td>No</td>\n",
       "      <td>No</td>\n",
       "      <td>No</td>\n",
       "      <td>0</td>\n",
       "      <td>1371</td>\n",
       "    </tr>\n",
       "    <tr>\n",
       "      <th>4</th>\n",
       "      <td>Month-to-month</td>\n",
       "      <td>Yes</td>\n",
       "      <td>Electronic check</td>\n",
       "      <td>70.70</td>\n",
       "      <td>Fiber optic</td>\n",
       "      <td>No</td>\n",
       "      <td>No</td>\n",
       "      <td>No</td>\n",
       "      <td>No</td>\n",
       "      <td>No</td>\n",
       "      <td>No</td>\n",
       "      <td>Female</td>\n",
       "      <td>0</td>\n",
       "      <td>No</td>\n",
       "      <td>No</td>\n",
       "      <td>No</td>\n",
       "      <td>1</td>\n",
       "      <td>61</td>\n",
       "    </tr>\n",
       "  </tbody>\n",
       "</table>\n",
       "</div>"
      ],
      "text/plain": [
       "             type paperless_billing             payment_method  \\\n",
       "0  Month-to-month               Yes           Electronic check   \n",
       "1        One year                No               Mailed check   \n",
       "2  Month-to-month               Yes               Mailed check   \n",
       "3        One year                No  Bank transfer (automatic)   \n",
       "4  Month-to-month               Yes           Electronic check   \n",
       "\n",
       "   monthly_charges internet_service online_security online_backup  \\\n",
       "0            29.85              DSL              No           Yes   \n",
       "1            56.95              DSL             Yes            No   \n",
       "2            53.85              DSL             Yes           Yes   \n",
       "3            42.30              DSL             Yes            No   \n",
       "4            70.70      Fiber optic              No            No   \n",
       "\n",
       "  device_protection tech_support streaming_tv streaming_movies  gender  \\\n",
       "0                No           No           No               No  Female   \n",
       "1               Yes           No           No               No    Male   \n",
       "2                No           No           No               No    Male   \n",
       "3               Yes          Yes           No               No    Male   \n",
       "4                No           No           No               No  Female   \n",
       "\n",
       "  senior_citizen partner dependents multiple_lines  exited  duration  \n",
       "0              0     Yes         No             No       0        31  \n",
       "1              0      No         No             No       0      1036  \n",
       "2              0      No         No             No       1        61  \n",
       "3              0      No         No             No       0      1371  \n",
       "4              0      No         No             No       1        61  "
      ]
     },
     "execution_count": 71,
     "metadata": {},
     "output_type": "execute_result"
    }
   ],
   "source": [
    "df.drop(columns=['customer_id', 'begin_date', 'end_date', 'total_charges'], inplace=True)\n",
    "\n",
    "# проверка\n",
    "df.head() "
   ]
  },
  {
   "cell_type": "markdown",
   "id": "261e8063",
   "metadata": {},
   "source": [
    "Подготовим выборки для обучения следующих моделей:\n",
    "- CatBoostClassifier,\n",
    "- LinearClassifier,\n",
    "- LGBMClassifier\n",
    "\n",
    "Для каждой модели попробуем разные гиперпараметры."
   ]
  },
  {
   "cell_type": "markdown",
   "id": "fc2c250d",
   "metadata": {},
   "source": [
    "### Разбиение данных на выборки"
   ]
  },
  {
   "cell_type": "markdown",
   "id": "e75a29ca",
   "metadata": {},
   "source": [
    "- Целевой признак, то есть признак, который необходимо определить - это столбец exited.\n",
    "- Признаками в исходных данных являются остальные столбцы."
   ]
  },
  {
   "cell_type": "code",
   "execution_count": 72,
   "id": "b89ddcfe",
   "metadata": {},
   "outputs": [],
   "source": [
    "features = df.drop('exited', axis=1)\n",
    "target = df['exited']"
   ]
  },
  {
   "cell_type": "markdown",
   "id": "3d278f6f",
   "metadata": {},
   "source": [
    "- Разделим данные на обучающую и тестовую выборки в пропорции 3:1 соответственно \n",
    "- (75% на обучающую и 25% данных на тестовую выборки)."
   ]
  },
  {
   "cell_type": "code",
   "execution_count": 73,
   "id": "175391a5",
   "metadata": {
    "scrolled": true
   },
   "outputs": [
    {
     "name": "stdout",
     "output_type": "stream",
     "text": [
      "Размер обучающей выборки: 5282 объектов\n",
      "Размер тестовой выборки: 1761 объектов\n"
     ]
    }
   ],
   "source": [
    "# разделениe на обучающую выборку features_train и  тестовую features_test\n",
    "# отделяем 25% данных для тестовой выборки\n",
    "features_train, features_test, target_train, target_test = train_test_split(\n",
    "    features, target, test_size=0.25, random_state=RANDOM_STATE) \n",
    "\n",
    "print('Размер обучающей выборки:', features_train.shape[0],'объектов')\n",
    "print('Размер тестовой выборки:', features_test.shape[0],'объектов')"
   ]
  },
  {
   "cell_type": "code",
   "execution_count": 74,
   "id": "200589dd",
   "metadata": {},
   "outputs": [
    {
     "data": {
      "text/plain": [
       "((5282, 17), (1761, 17))"
      ]
     },
     "execution_count": 74,
     "metadata": {},
     "output_type": "execute_result"
    }
   ],
   "source": [
    "# получилось одинаковое количество признаков\n",
    "features_train.shape, features_test.shape"
   ]
  },
  {
   "cell_type": "code",
   "execution_count": 75,
   "id": "1078dc76",
   "metadata": {},
   "outputs": [],
   "source": [
    "features_train_lr = features_train.copy()\n",
    "features_test_lr = features_test.copy()\n",
    "\n",
    "target_train_lr = target_train.copy()\n",
    "target_test_lr = target_test.copy()"
   ]
  },
  {
   "cell_type": "markdown",
   "id": "aac8ed73",
   "metadata": {},
   "source": [
    "### Масштабирование признаков"
   ]
  },
  {
   "cell_type": "markdown",
   "id": "912bceaa",
   "metadata": {},
   "source": [
    "Чтобы алгоритмам было легче обучать модели, числовые признаки приводятся к одному масштабу. Один из методов масштабирования — стандартизация данных. В sklearn есть отдельная структура для стандартизации данных — StandardScaler (от англ. «преобразователь масштаба методом стандартизации»)"
   ]
  },
  {
   "cell_type": "code",
   "execution_count": 76,
   "id": "c00e96a5",
   "metadata": {},
   "outputs": [],
   "source": [
    "scaler = StandardScaler()"
   ]
  },
  {
   "cell_type": "code",
   "execution_count": 77,
   "id": "f3ea6334",
   "metadata": {
    "scrolled": false
   },
   "outputs": [
    {
     "data": {
      "text/html": [
       "<div>\n",
       "<style scoped>\n",
       "    .dataframe tbody tr th:only-of-type {\n",
       "        vertical-align: middle;\n",
       "    }\n",
       "\n",
       "    .dataframe tbody tr th {\n",
       "        vertical-align: top;\n",
       "    }\n",
       "\n",
       "    .dataframe thead th {\n",
       "        text-align: right;\n",
       "    }\n",
       "</style>\n",
       "<table border=\"1\" class=\"dataframe\">\n",
       "  <thead>\n",
       "    <tr style=\"text-align: right;\">\n",
       "      <th></th>\n",
       "      <th>type</th>\n",
       "      <th>paperless_billing</th>\n",
       "      <th>payment_method</th>\n",
       "      <th>monthly_charges</th>\n",
       "      <th>internet_service</th>\n",
       "      <th>online_security</th>\n",
       "      <th>online_backup</th>\n",
       "      <th>device_protection</th>\n",
       "      <th>tech_support</th>\n",
       "      <th>streaming_tv</th>\n",
       "      <th>streaming_movies</th>\n",
       "      <th>gender</th>\n",
       "      <th>senior_citizen</th>\n",
       "      <th>partner</th>\n",
       "      <th>dependents</th>\n",
       "      <th>multiple_lines</th>\n",
       "      <th>duration</th>\n",
       "    </tr>\n",
       "  </thead>\n",
       "  <tbody>\n",
       "    <tr>\n",
       "      <th>371</th>\n",
       "      <td>Month-to-month</td>\n",
       "      <td>Yes</td>\n",
       "      <td>Electronic check</td>\n",
       "      <td>0.717486</td>\n",
       "      <td>Fiber optic</td>\n",
       "      <td>No</td>\n",
       "      <td>No</td>\n",
       "      <td>No</td>\n",
       "      <td>No</td>\n",
       "      <td>Yes</td>\n",
       "      <td>No</td>\n",
       "      <td>Male</td>\n",
       "      <td>0</td>\n",
       "      <td>No</td>\n",
       "      <td>No</td>\n",
       "      <td>Yes</td>\n",
       "      <td>-1.229095</td>\n",
       "    </tr>\n",
       "    <tr>\n",
       "      <th>5715</th>\n",
       "      <td>Month-to-month</td>\n",
       "      <td>Yes</td>\n",
       "      <td>Credit card (automatic)</td>\n",
       "      <td>1.467257</td>\n",
       "      <td>Fiber optic</td>\n",
       "      <td>Yes</td>\n",
       "      <td>Yes</td>\n",
       "      <td>No</td>\n",
       "      <td>Yes</td>\n",
       "      <td>Yes</td>\n",
       "      <td>Yes</td>\n",
       "      <td>Male</td>\n",
       "      <td>0</td>\n",
       "      <td>No</td>\n",
       "      <td>No</td>\n",
       "      <td>Yes</td>\n",
       "      <td>-0.004084</td>\n",
       "    </tr>\n",
       "    <tr>\n",
       "      <th>1444</th>\n",
       "      <td>Two year</td>\n",
       "      <td>Yes</td>\n",
       "      <td>Electronic check</td>\n",
       "      <td>1.567226</td>\n",
       "      <td>Fiber optic</td>\n",
       "      <td>Yes</td>\n",
       "      <td>Yes</td>\n",
       "      <td>Yes</td>\n",
       "      <td>Yes</td>\n",
       "      <td>Yes</td>\n",
       "      <td>Yes</td>\n",
       "      <td>Male</td>\n",
       "      <td>0</td>\n",
       "      <td>No</td>\n",
       "      <td>Yes</td>\n",
       "      <td>No</td>\n",
       "      <td>0.363553</td>\n",
       "    </tr>\n",
       "    <tr>\n",
       "      <th>4928</th>\n",
       "      <td>Month-to-month</td>\n",
       "      <td>No</td>\n",
       "      <td>Electronic check</td>\n",
       "      <td>-0.603775</td>\n",
       "      <td>DSL</td>\n",
       "      <td>No</td>\n",
       "      <td>No</td>\n",
       "      <td>No</td>\n",
       "      <td>No</td>\n",
       "      <td>No</td>\n",
       "      <td>No</td>\n",
       "      <td>Female</td>\n",
       "      <td>1</td>\n",
       "      <td>Yes</td>\n",
       "      <td>Yes</td>\n",
       "      <td>No</td>\n",
       "      <td>-1.147248</td>\n",
       "    </tr>\n",
       "    <tr>\n",
       "      <th>6915</th>\n",
       "      <td>Two year</td>\n",
       "      <td>Yes</td>\n",
       "      <td>Electronic check</td>\n",
       "      <td>1.124028</td>\n",
       "      <td>Fiber optic</td>\n",
       "      <td>No</td>\n",
       "      <td>No</td>\n",
       "      <td>Yes</td>\n",
       "      <td>No</td>\n",
       "      <td>Yes</td>\n",
       "      <td>Yes</td>\n",
       "      <td>Female</td>\n",
       "      <td>0</td>\n",
       "      <td>Yes</td>\n",
       "      <td>No</td>\n",
       "      <td>Yes</td>\n",
       "      <td>1.628815</td>\n",
       "    </tr>\n",
       "    <tr>\n",
       "      <th>4595</th>\n",
       "      <td>Two year</td>\n",
       "      <td>No</td>\n",
       "      <td>Bank transfer (automatic)</td>\n",
       "      <td>0.705823</td>\n",
       "      <td>DSL</td>\n",
       "      <td>No</td>\n",
       "      <td>Yes</td>\n",
       "      <td>Yes</td>\n",
       "      <td>Yes</td>\n",
       "      <td>Yes</td>\n",
       "      <td>Yes</td>\n",
       "      <td>Female</td>\n",
       "      <td>0</td>\n",
       "      <td>Yes</td>\n",
       "      <td>Yes</td>\n",
       "      <td>Yes</td>\n",
       "      <td>1.467806</td>\n",
       "    </tr>\n",
       "  </tbody>\n",
       "</table>\n",
       "</div>"
      ],
      "text/plain": [
       "                type paperless_billing             payment_method  \\\n",
       "371   Month-to-month               Yes           Electronic check   \n",
       "5715  Month-to-month               Yes    Credit card (automatic)   \n",
       "1444        Two year               Yes           Electronic check   \n",
       "4928  Month-to-month                No           Electronic check   \n",
       "6915        Two year               Yes           Electronic check   \n",
       "4595        Two year                No  Bank transfer (automatic)   \n",
       "\n",
       "      monthly_charges internet_service online_security online_backup  \\\n",
       "371          0.717486      Fiber optic              No            No   \n",
       "5715         1.467257      Fiber optic             Yes           Yes   \n",
       "1444         1.567226      Fiber optic             Yes           Yes   \n",
       "4928        -0.603775              DSL              No            No   \n",
       "6915         1.124028      Fiber optic              No            No   \n",
       "4595         0.705823              DSL              No           Yes   \n",
       "\n",
       "     device_protection tech_support streaming_tv streaming_movies  gender  \\\n",
       "371                 No           No          Yes               No    Male   \n",
       "5715                No          Yes          Yes              Yes    Male   \n",
       "1444               Yes          Yes          Yes              Yes    Male   \n",
       "4928                No           No           No               No  Female   \n",
       "6915               Yes           No          Yes              Yes  Female   \n",
       "4595               Yes          Yes          Yes              Yes  Female   \n",
       "\n",
       "     senior_citizen partner dependents multiple_lines  duration  \n",
       "371               0      No         No            Yes -1.229095  \n",
       "5715              0      No         No            Yes -0.004084  \n",
       "1444              0      No        Yes             No  0.363553  \n",
       "4928              1     Yes        Yes             No -1.147248  \n",
       "6915              0     Yes         No            Yes  1.628815  \n",
       "4595              0     Yes        Yes            Yes  1.467806  "
      ]
     },
     "execution_count": 77,
     "metadata": {},
     "output_type": "execute_result"
    }
   ],
   "source": [
    "import warnings\n",
    "warnings.filterwarnings('ignore')\n",
    "\n",
    "# обучаем на тренировочной выборке\n",
    "scaler.fit(features_train_lr[numeric])\n",
    "\n",
    "features_train_lr[numeric] = scaler.transform(features_train_lr[numeric])\n",
    "features_test_lr[numeric] = scaler.transform(features_test_lr[numeric])\n",
    "\n",
    "#проверяем маштабирование\n",
    "features_train_lr.head(6)"
   ]
  },
  {
   "cell_type": "markdown",
   "id": "842aa6ee",
   "metadata": {},
   "source": [
    "### Преобразование признаков\n",
    "\n",
    "Кодирование с помощью OHE\n",
    "\n",
    "Поскольку в данных присутствуют категориальные и количественные признаки, то оптимальной техникой кодирования для модели линейной регрессии будет One-Hot Encoding (далее OHE). Ordinal Encoding нам не подходит, поскольку используется только для категориальных признаков."
   ]
  },
  {
   "cell_type": "code",
   "execution_count": 78,
   "id": "1904af44",
   "metadata": {},
   "outputs": [],
   "source": [
    "#drop='first' удаляет первый признак из закодированных:\n",
    "#таким образом обходим dummy-ловушку\n",
    "#задаём handle_unknown='ignore':\n",
    "#игнорируется ранее невстречающиеся значения признака (при transform)"
   ]
  },
  {
   "cell_type": "code",
   "execution_count": 79,
   "id": "200ffcf6",
   "metadata": {
    "scrolled": true
   },
   "outputs": [
    {
     "data": {
      "text/html": [
       "<div>\n",
       "<style scoped>\n",
       "    .dataframe tbody tr th:only-of-type {\n",
       "        vertical-align: middle;\n",
       "    }\n",
       "\n",
       "    .dataframe tbody tr th {\n",
       "        vertical-align: top;\n",
       "    }\n",
       "\n",
       "    .dataframe thead th {\n",
       "        text-align: right;\n",
       "    }\n",
       "</style>\n",
       "<table border=\"1\" class=\"dataframe\">\n",
       "  <thead>\n",
       "    <tr style=\"text-align: right;\">\n",
       "      <th></th>\n",
       "      <th>type_One year</th>\n",
       "      <th>type_Two year</th>\n",
       "      <th>paperless_billing_Yes</th>\n",
       "      <th>payment_method_Credit card (automatic)</th>\n",
       "      <th>payment_method_Electronic check</th>\n",
       "      <th>payment_method_Mailed check</th>\n",
       "      <th>internet_service_Fiber optic</th>\n",
       "      <th>internet_service_No</th>\n",
       "      <th>online_security_Yes</th>\n",
       "      <th>online_backup_Yes</th>\n",
       "      <th>...</th>\n",
       "      <th>tech_support_Yes</th>\n",
       "      <th>streaming_tv_Yes</th>\n",
       "      <th>streaming_movies_Yes</th>\n",
       "      <th>gender_Male</th>\n",
       "      <th>senior_citizen_1</th>\n",
       "      <th>partner_Yes</th>\n",
       "      <th>dependents_Yes</th>\n",
       "      <th>multiple_lines_Yes</th>\n",
       "      <th>monthly_charges</th>\n",
       "      <th>duration</th>\n",
       "    </tr>\n",
       "  </thead>\n",
       "  <tbody>\n",
       "    <tr>\n",
       "      <th>371</th>\n",
       "      <td>0.0</td>\n",
       "      <td>0.0</td>\n",
       "      <td>1.0</td>\n",
       "      <td>0.0</td>\n",
       "      <td>1.0</td>\n",
       "      <td>0.0</td>\n",
       "      <td>1.0</td>\n",
       "      <td>0.0</td>\n",
       "      <td>0.0</td>\n",
       "      <td>0.0</td>\n",
       "      <td>...</td>\n",
       "      <td>0.0</td>\n",
       "      <td>1.0</td>\n",
       "      <td>0.0</td>\n",
       "      <td>1.0</td>\n",
       "      <td>0.0</td>\n",
       "      <td>0.0</td>\n",
       "      <td>0.0</td>\n",
       "      <td>1.0</td>\n",
       "      <td>0.717486</td>\n",
       "      <td>-1.229095</td>\n",
       "    </tr>\n",
       "    <tr>\n",
       "      <th>5715</th>\n",
       "      <td>0.0</td>\n",
       "      <td>0.0</td>\n",
       "      <td>1.0</td>\n",
       "      <td>1.0</td>\n",
       "      <td>0.0</td>\n",
       "      <td>0.0</td>\n",
       "      <td>1.0</td>\n",
       "      <td>0.0</td>\n",
       "      <td>1.0</td>\n",
       "      <td>1.0</td>\n",
       "      <td>...</td>\n",
       "      <td>1.0</td>\n",
       "      <td>1.0</td>\n",
       "      <td>1.0</td>\n",
       "      <td>1.0</td>\n",
       "      <td>0.0</td>\n",
       "      <td>0.0</td>\n",
       "      <td>0.0</td>\n",
       "      <td>1.0</td>\n",
       "      <td>1.467257</td>\n",
       "      <td>-0.004084</td>\n",
       "    </tr>\n",
       "    <tr>\n",
       "      <th>1444</th>\n",
       "      <td>0.0</td>\n",
       "      <td>1.0</td>\n",
       "      <td>1.0</td>\n",
       "      <td>0.0</td>\n",
       "      <td>1.0</td>\n",
       "      <td>0.0</td>\n",
       "      <td>1.0</td>\n",
       "      <td>0.0</td>\n",
       "      <td>1.0</td>\n",
       "      <td>1.0</td>\n",
       "      <td>...</td>\n",
       "      <td>1.0</td>\n",
       "      <td>1.0</td>\n",
       "      <td>1.0</td>\n",
       "      <td>1.0</td>\n",
       "      <td>0.0</td>\n",
       "      <td>0.0</td>\n",
       "      <td>1.0</td>\n",
       "      <td>0.0</td>\n",
       "      <td>1.567226</td>\n",
       "      <td>0.363553</td>\n",
       "    </tr>\n",
       "    <tr>\n",
       "      <th>4928</th>\n",
       "      <td>0.0</td>\n",
       "      <td>0.0</td>\n",
       "      <td>0.0</td>\n",
       "      <td>0.0</td>\n",
       "      <td>1.0</td>\n",
       "      <td>0.0</td>\n",
       "      <td>0.0</td>\n",
       "      <td>0.0</td>\n",
       "      <td>0.0</td>\n",
       "      <td>0.0</td>\n",
       "      <td>...</td>\n",
       "      <td>0.0</td>\n",
       "      <td>0.0</td>\n",
       "      <td>0.0</td>\n",
       "      <td>0.0</td>\n",
       "      <td>1.0</td>\n",
       "      <td>1.0</td>\n",
       "      <td>1.0</td>\n",
       "      <td>0.0</td>\n",
       "      <td>-0.603775</td>\n",
       "      <td>-1.147248</td>\n",
       "    </tr>\n",
       "    <tr>\n",
       "      <th>6915</th>\n",
       "      <td>0.0</td>\n",
       "      <td>1.0</td>\n",
       "      <td>1.0</td>\n",
       "      <td>0.0</td>\n",
       "      <td>1.0</td>\n",
       "      <td>0.0</td>\n",
       "      <td>1.0</td>\n",
       "      <td>0.0</td>\n",
       "      <td>0.0</td>\n",
       "      <td>0.0</td>\n",
       "      <td>...</td>\n",
       "      <td>0.0</td>\n",
       "      <td>1.0</td>\n",
       "      <td>1.0</td>\n",
       "      <td>0.0</td>\n",
       "      <td>0.0</td>\n",
       "      <td>1.0</td>\n",
       "      <td>0.0</td>\n",
       "      <td>1.0</td>\n",
       "      <td>1.124028</td>\n",
       "      <td>1.628815</td>\n",
       "    </tr>\n",
       "  </tbody>\n",
       "</table>\n",
       "<p>5 rows × 21 columns</p>\n",
       "</div>"
      ],
      "text/plain": [
       "      type_One year  type_Two year  paperless_billing_Yes  \\\n",
       "371             0.0            0.0                    1.0   \n",
       "5715            0.0            0.0                    1.0   \n",
       "1444            0.0            1.0                    1.0   \n",
       "4928            0.0            0.0                    0.0   \n",
       "6915            0.0            1.0                    1.0   \n",
       "\n",
       "      payment_method_Credit card (automatic)  payment_method_Electronic check  \\\n",
       "371                                      0.0                              1.0   \n",
       "5715                                     1.0                              0.0   \n",
       "1444                                     0.0                              1.0   \n",
       "4928                                     0.0                              1.0   \n",
       "6915                                     0.0                              1.0   \n",
       "\n",
       "      payment_method_Mailed check  internet_service_Fiber optic  \\\n",
       "371                           0.0                           1.0   \n",
       "5715                          0.0                           1.0   \n",
       "1444                          0.0                           1.0   \n",
       "4928                          0.0                           0.0   \n",
       "6915                          0.0                           1.0   \n",
       "\n",
       "      internet_service_No  online_security_Yes  online_backup_Yes  ...  \\\n",
       "371                   0.0                  0.0                0.0  ...   \n",
       "5715                  0.0                  1.0                1.0  ...   \n",
       "1444                  0.0                  1.0                1.0  ...   \n",
       "4928                  0.0                  0.0                0.0  ...   \n",
       "6915                  0.0                  0.0                0.0  ...   \n",
       "\n",
       "      tech_support_Yes  streaming_tv_Yes  streaming_movies_Yes  gender_Male  \\\n",
       "371                0.0               1.0                   0.0          1.0   \n",
       "5715               1.0               1.0                   1.0          1.0   \n",
       "1444               1.0               1.0                   1.0          1.0   \n",
       "4928               0.0               0.0                   0.0          0.0   \n",
       "6915               0.0               1.0                   1.0          0.0   \n",
       "\n",
       "      senior_citizen_1  partner_Yes  dependents_Yes  multiple_lines_Yes  \\\n",
       "371                0.0          0.0             0.0                 1.0   \n",
       "5715               0.0          0.0             0.0                 1.0   \n",
       "1444               0.0          0.0             1.0                 0.0   \n",
       "4928               1.0          1.0             1.0                 0.0   \n",
       "6915               0.0          1.0             0.0                 1.0   \n",
       "\n",
       "      monthly_charges  duration  \n",
       "371          0.717486 -1.229095  \n",
       "5715         1.467257 -0.004084  \n",
       "1444         1.567226  0.363553  \n",
       "4928        -0.603775 -1.147248  \n",
       "6915         1.124028  1.628815  \n",
       "\n",
       "[5 rows x 21 columns]"
      ]
     },
     "execution_count": 79,
     "metadata": {},
     "output_type": "execute_result"
    }
   ],
   "source": [
    "enc = OneHotEncoder(drop='first', sparse=False)\n",
    "#, handle_unknown='ignore' #вылезает ошибка\n",
    "\n",
    "#обучаем энкодер на заданных категориальных признаках тренировочной выборки\n",
    "#добавляем закодированные признаки в result_train\n",
    "#enc.get_feature_names_out() позволяет получить названия колонок\n",
    "result_train = enc.fit_transform(features_train_lr[categorial])\n",
    "result_train = pd.DataFrame(result_train, columns=enc.get_feature_names(categorial), index=features_train.index)\n",
    "result_train = result_train.join(features_train_lr[numeric])\n",
    "result_train.head()"
   ]
  },
  {
   "cell_type": "code",
   "execution_count": 80,
   "id": "bc0fa044",
   "metadata": {},
   "outputs": [
    {
     "data": {
      "text/html": [
       "<div>\n",
       "<style scoped>\n",
       "    .dataframe tbody tr th:only-of-type {\n",
       "        vertical-align: middle;\n",
       "    }\n",
       "\n",
       "    .dataframe tbody tr th {\n",
       "        vertical-align: top;\n",
       "    }\n",
       "\n",
       "    .dataframe thead th {\n",
       "        text-align: right;\n",
       "    }\n",
       "</style>\n",
       "<table border=\"1\" class=\"dataframe\">\n",
       "  <thead>\n",
       "    <tr style=\"text-align: right;\">\n",
       "      <th></th>\n",
       "      <th>type_One year</th>\n",
       "      <th>type_Two year</th>\n",
       "      <th>paperless_billing_Yes</th>\n",
       "      <th>payment_method_Credit card (automatic)</th>\n",
       "      <th>payment_method_Electronic check</th>\n",
       "      <th>payment_method_Mailed check</th>\n",
       "      <th>internet_service_Fiber optic</th>\n",
       "      <th>internet_service_No</th>\n",
       "      <th>online_security_Yes</th>\n",
       "      <th>online_backup_Yes</th>\n",
       "      <th>...</th>\n",
       "      <th>tech_support_Yes</th>\n",
       "      <th>streaming_tv_Yes</th>\n",
       "      <th>streaming_movies_Yes</th>\n",
       "      <th>gender_Male</th>\n",
       "      <th>senior_citizen_1</th>\n",
       "      <th>partner_Yes</th>\n",
       "      <th>dependents_Yes</th>\n",
       "      <th>multiple_lines_Yes</th>\n",
       "      <th>monthly_charges</th>\n",
       "      <th>duration</th>\n",
       "    </tr>\n",
       "  </thead>\n",
       "  <tbody>\n",
       "    <tr>\n",
       "      <th>176</th>\n",
       "      <td>0.0</td>\n",
       "      <td>0.0</td>\n",
       "      <td>1.0</td>\n",
       "      <td>0.0</td>\n",
       "      <td>0.0</td>\n",
       "      <td>1.0</td>\n",
       "      <td>1.0</td>\n",
       "      <td>0.0</td>\n",
       "      <td>0.0</td>\n",
       "      <td>0.0</td>\n",
       "      <td>...</td>\n",
       "      <td>0.0</td>\n",
       "      <td>0.0</td>\n",
       "      <td>0.0</td>\n",
       "      <td>0.0</td>\n",
       "      <td>1.0</td>\n",
       "      <td>0.0</td>\n",
       "      <td>0.0</td>\n",
       "      <td>1.0</td>\n",
       "      <td>0.344267</td>\n",
       "      <td>-0.697765</td>\n",
       "    </tr>\n",
       "    <tr>\n",
       "      <th>5084</th>\n",
       "      <td>1.0</td>\n",
       "      <td>0.0</td>\n",
       "      <td>0.0</td>\n",
       "      <td>0.0</td>\n",
       "      <td>0.0</td>\n",
       "      <td>0.0</td>\n",
       "      <td>0.0</td>\n",
       "      <td>1.0</td>\n",
       "      <td>0.0</td>\n",
       "      <td>0.0</td>\n",
       "      <td>...</td>\n",
       "      <td>0.0</td>\n",
       "      <td>0.0</td>\n",
       "      <td>0.0</td>\n",
       "      <td>0.0</td>\n",
       "      <td>0.0</td>\n",
       "      <td>1.0</td>\n",
       "      <td>1.0</td>\n",
       "      <td>0.0</td>\n",
       "      <td>-1.445184</td>\n",
       "      <td>-0.410632</td>\n",
       "    </tr>\n",
       "    <tr>\n",
       "      <th>3412</th>\n",
       "      <td>0.0</td>\n",
       "      <td>1.0</td>\n",
       "      <td>0.0</td>\n",
       "      <td>0.0</td>\n",
       "      <td>0.0</td>\n",
       "      <td>1.0</td>\n",
       "      <td>0.0</td>\n",
       "      <td>0.0</td>\n",
       "      <td>1.0</td>\n",
       "      <td>1.0</td>\n",
       "      <td>...</td>\n",
       "      <td>1.0</td>\n",
       "      <td>0.0</td>\n",
       "      <td>0.0</td>\n",
       "      <td>1.0</td>\n",
       "      <td>0.0</td>\n",
       "      <td>1.0</td>\n",
       "      <td>1.0</td>\n",
       "      <td>0.0</td>\n",
       "      <td>-0.153913</td>\n",
       "      <td>-1.227753</td>\n",
       "    </tr>\n",
       "    <tr>\n",
       "      <th>4649</th>\n",
       "      <td>0.0</td>\n",
       "      <td>1.0</td>\n",
       "      <td>1.0</td>\n",
       "      <td>1.0</td>\n",
       "      <td>0.0</td>\n",
       "      <td>0.0</td>\n",
       "      <td>1.0</td>\n",
       "      <td>0.0</td>\n",
       "      <td>1.0</td>\n",
       "      <td>1.0</td>\n",
       "      <td>...</td>\n",
       "      <td>1.0</td>\n",
       "      <td>1.0</td>\n",
       "      <td>1.0</td>\n",
       "      <td>1.0</td>\n",
       "      <td>0.0</td>\n",
       "      <td>1.0</td>\n",
       "      <td>0.0</td>\n",
       "      <td>1.0</td>\n",
       "      <td>1.493915</td>\n",
       "      <td>1.628815</td>\n",
       "    </tr>\n",
       "    <tr>\n",
       "      <th>6482</th>\n",
       "      <td>0.0</td>\n",
       "      <td>0.0</td>\n",
       "      <td>1.0</td>\n",
       "      <td>0.0</td>\n",
       "      <td>1.0</td>\n",
       "      <td>0.0</td>\n",
       "      <td>1.0</td>\n",
       "      <td>0.0</td>\n",
       "      <td>0.0</td>\n",
       "      <td>0.0</td>\n",
       "      <td>...</td>\n",
       "      <td>0.0</td>\n",
       "      <td>1.0</td>\n",
       "      <td>1.0</td>\n",
       "      <td>1.0</td>\n",
       "      <td>0.0</td>\n",
       "      <td>0.0</td>\n",
       "      <td>0.0</td>\n",
       "      <td>1.0</td>\n",
       "      <td>1.243992</td>\n",
       "      <td>-1.270689</td>\n",
       "    </tr>\n",
       "  </tbody>\n",
       "</table>\n",
       "<p>5 rows × 21 columns</p>\n",
       "</div>"
      ],
      "text/plain": [
       "      type_One year  type_Two year  paperless_billing_Yes  \\\n",
       "176             0.0            0.0                    1.0   \n",
       "5084            1.0            0.0                    0.0   \n",
       "3412            0.0            1.0                    0.0   \n",
       "4649            0.0            1.0                    1.0   \n",
       "6482            0.0            0.0                    1.0   \n",
       "\n",
       "      payment_method_Credit card (automatic)  payment_method_Electronic check  \\\n",
       "176                                      0.0                              0.0   \n",
       "5084                                     0.0                              0.0   \n",
       "3412                                     0.0                              0.0   \n",
       "4649                                     1.0                              0.0   \n",
       "6482                                     0.0                              1.0   \n",
       "\n",
       "      payment_method_Mailed check  internet_service_Fiber optic  \\\n",
       "176                           1.0                           1.0   \n",
       "5084                          0.0                           0.0   \n",
       "3412                          1.0                           0.0   \n",
       "4649                          0.0                           1.0   \n",
       "6482                          0.0                           1.0   \n",
       "\n",
       "      internet_service_No  online_security_Yes  online_backup_Yes  ...  \\\n",
       "176                   0.0                  0.0                0.0  ...   \n",
       "5084                  1.0                  0.0                0.0  ...   \n",
       "3412                  0.0                  1.0                1.0  ...   \n",
       "4649                  0.0                  1.0                1.0  ...   \n",
       "6482                  0.0                  0.0                0.0  ...   \n",
       "\n",
       "      tech_support_Yes  streaming_tv_Yes  streaming_movies_Yes  gender_Male  \\\n",
       "176                0.0               0.0                   0.0          0.0   \n",
       "5084               0.0               0.0                   0.0          0.0   \n",
       "3412               1.0               0.0                   0.0          1.0   \n",
       "4649               1.0               1.0                   1.0          1.0   \n",
       "6482               0.0               1.0                   1.0          1.0   \n",
       "\n",
       "      senior_citizen_1  partner_Yes  dependents_Yes  multiple_lines_Yes  \\\n",
       "176                1.0          0.0             0.0                 1.0   \n",
       "5084               0.0          1.0             1.0                 0.0   \n",
       "3412               0.0          1.0             1.0                 0.0   \n",
       "4649               0.0          1.0             0.0                 1.0   \n",
       "6482               0.0          0.0             0.0                 1.0   \n",
       "\n",
       "      monthly_charges  duration  \n",
       "176          0.344267 -0.697765  \n",
       "5084        -1.445184 -0.410632  \n",
       "3412        -0.153913 -1.227753  \n",
       "4649         1.493915  1.628815  \n",
       "6482         1.243992 -1.270689  \n",
       "\n",
       "[5 rows x 21 columns]"
      ]
     },
     "execution_count": 80,
     "metadata": {},
     "output_type": "execute_result"
    }
   ],
   "source": [
    "result_test = enc.transform(features_test_lr[categorial])\n",
    "\n",
    "result_test = pd.DataFrame(result_test, columns=enc.get_feature_names(categorial), index=features_test_lr.index)\n",
    "result_test = result_test.join(features_test_lr[numeric])\n",
    "result_test.head()"
   ]
  },
  {
   "cell_type": "code",
   "execution_count": 81,
   "id": "5c283bde",
   "metadata": {},
   "outputs": [],
   "source": [
    "#добавляем remainder='passthrough\n",
    "col_transformer_lr = make_column_transformer(\n",
    "    (\n",
    "        OneHotEncoder(drop='first', handle_unknown='ignore'),\n",
    "        features_train_lr[categorial]\n",
    "    ),\n",
    "    (\n",
    "        StandardScaler(), \n",
    "        features_train_lr[numeric]\n",
    "    ),\n",
    "    remainder='passthrough'\n",
    ")"
   ]
  },
  {
   "cell_type": "markdown",
   "id": "e3a28a09",
   "metadata": {},
   "source": [
    "### LogisticRegression"
   ]
  },
  {
   "cell_type": "code",
   "execution_count": 82,
   "id": "8b089e88",
   "metadata": {},
   "outputs": [],
   "source": [
    "model_lr = LogisticRegression(solver='liblinear', random_state=RANDOM_STATE, class_weight = 'balanced')"
   ]
  },
  {
   "cell_type": "code",
   "execution_count": 83,
   "id": "6793bc3f",
   "metadata": {},
   "outputs": [],
   "source": [
    "cv_results = cross_validate(model_lr, result_train, target_train_lr, scoring='roc_auc', cv=5)"
   ]
  },
  {
   "cell_type": "code",
   "execution_count": 84,
   "id": "406930a0",
   "metadata": {
    "scrolled": true
   },
   "outputs": [
    {
     "data": {
      "text/plain": [
       "{'fit_time': array([0.07695055, 0.02864742, 0.03021169, 0.03222799, 0.02010202]),\n",
       " 'score_time': array([0.02598548, 0.02011991, 0.01808858, 0.01434064, 0.01004648]),\n",
       " 'test_score': array([0.84300423, 0.83220031, 0.83479842, 0.84067102, 0.84716975])}"
      ]
     },
     "execution_count": 84,
     "metadata": {},
     "output_type": "execute_result"
    }
   ],
   "source": [
    "cv_results"
   ]
  },
  {
   "cell_type": "code",
   "execution_count": 85,
   "id": "eb06cbdc",
   "metadata": {},
   "outputs": [
    {
     "name": "stdout",
     "output_type": "stream",
     "text": [
      "Время обучения: 0.038,  время предсказания: 0.018 и качество модели метрика roc_auc_score: 0.84\n"
     ]
    }
   ],
   "source": [
    "fit_time = cv_results['fit_time'].mean()\n",
    "score_time = cv_results['score_time'].mean()\n",
    "test_score = abs(cv_results['test_score'].mean())\n",
    "\n",
    "print('Время обучения: {},  время предсказания: {} и качество модели метрика roc_auc_score: {}'.format(fit_time.round(3), score_time.round(3), test_score.round(3)))"
   ]
  },
  {
   "cell_type": "code",
   "execution_count": 86,
   "id": "e8e5e0a1",
   "metadata": {
    "scrolled": true
   },
   "outputs": [
    {
     "data": {
      "text/plain": [
       "LogisticRegression(class_weight='balanced', random_state=121222,\n",
       "                   solver='liblinear')"
      ]
     },
     "execution_count": 86,
     "metadata": {},
     "output_type": "execute_result"
    }
   ],
   "source": [
    "# обучим модель на тренировочной выборке\n",
    "model_lr.fit(result_train, target_train_lr)"
   ]
  },
  {
   "cell_type": "code",
   "execution_count": 87,
   "id": "576a983a",
   "metadata": {},
   "outputs": [],
   "source": [
    "# получим предсказания модели на тестовой выборке\n",
    "predictions_lr = model_lr.predict(result_test)"
   ]
  },
  {
   "cell_type": "code",
   "execution_count": 88,
   "id": "1aceb03e",
   "metadata": {},
   "outputs": [],
   "source": [
    "# проверка\n",
    "accuracy_valid = accuracy_score(predictions_lr, target_test_lr)"
   ]
  },
  {
   "cell_type": "code",
   "execution_count": 89,
   "id": "48083901",
   "metadata": {},
   "outputs": [
    {
     "name": "stdout",
     "output_type": "stream",
     "text": [
      "Доля правильных ответов Accuracy на тесте: 0.75809199318569\n"
     ]
    }
   ],
   "source": [
    "print('Доля правильных ответов Accuracy на тесте:', accuracy_valid)"
   ]
  },
  {
   "cell_type": "code",
   "execution_count": 90,
   "id": "28b40e00",
   "metadata": {},
   "outputs": [
    {
     "name": "stdout",
     "output_type": "stream",
     "text": [
      "Проверка модели LogisticRegression на тесте. Метрика roc_auc_score: 0.7808889694612458\n"
     ]
    }
   ],
   "source": [
    "print('Проверка модели LogisticRegression на тесте. Метрика roc_auc_score:', roc_auc_score(target_test_lr, predictions_lr))"
   ]
  },
  {
   "cell_type": "code",
   "execution_count": 91,
   "id": "98ffd0bc",
   "metadata": {},
   "outputs": [
    {
     "data": {
      "text/plain": [
       "numpy.ndarray"
      ]
     },
     "execution_count": 91,
     "metadata": {},
     "output_type": "execute_result"
    }
   ],
   "source": [
    "type(predictions_lr)"
   ]
  },
  {
   "cell_type": "code",
   "execution_count": 92,
   "id": "a7517e4c",
   "metadata": {},
   "outputs": [
    {
     "data": {
      "text/plain": [
       "pandas.core.series.Series"
      ]
     },
     "execution_count": 92,
     "metadata": {},
     "output_type": "execute_result"
    }
   ],
   "source": [
    "type(target_test_lr)"
   ]
  },
  {
   "cell_type": "markdown",
   "id": "b1d61d13",
   "metadata": {},
   "source": [
    "### LGBMClassifier"
   ]
  },
  {
   "cell_type": "markdown",
   "id": "e52b9474",
   "metadata": {},
   "source": [
    "Для обучения модели LGBMClassifier можно не применять технологию OneHotEncoder для работы с категориальными данными. Подготовим выборку для моделей бустинга."
   ]
  },
  {
   "cell_type": "code",
   "execution_count": 93,
   "id": "d36ba855",
   "metadata": {},
   "outputs": [
    {
     "name": "stdout",
     "output_type": "stream",
     "text": [
      "Размер таблицы признаков обучающей выборки:  (5282, 17)\n",
      "Размер таблицы признаков тестовой выборки:  (1761, 17)\n"
     ]
    }
   ],
   "source": [
    "features_train_boost, features_test_boost, target_train_boost, target_test_boost = train_test_split(\n",
    "                                      features, target, test_size=0.25, random_state = RANDOM_STATE)\n",
    "\n",
    "print('Размер таблицы признаков обучающей выборки: ', features_train_boost.shape)\n",
    "print('Размер таблицы признаков тестовой выборки: ', features_test_boost.shape)"
   ]
  },
  {
   "cell_type": "code",
   "execution_count": 94,
   "id": "02356612",
   "metadata": {
    "scrolled": true
   },
   "outputs": [
    {
     "data": {
      "text/html": [
       "<div>\n",
       "<style scoped>\n",
       "    .dataframe tbody tr th:only-of-type {\n",
       "        vertical-align: middle;\n",
       "    }\n",
       "\n",
       "    .dataframe tbody tr th {\n",
       "        vertical-align: top;\n",
       "    }\n",
       "\n",
       "    .dataframe thead th {\n",
       "        text-align: right;\n",
       "    }\n",
       "</style>\n",
       "<table border=\"1\" class=\"dataframe\">\n",
       "  <thead>\n",
       "    <tr style=\"text-align: right;\">\n",
       "      <th></th>\n",
       "      <th>type</th>\n",
       "      <th>paperless_billing</th>\n",
       "      <th>payment_method</th>\n",
       "      <th>monthly_charges</th>\n",
       "      <th>internet_service</th>\n",
       "      <th>online_security</th>\n",
       "      <th>online_backup</th>\n",
       "      <th>device_protection</th>\n",
       "      <th>tech_support</th>\n",
       "      <th>streaming_tv</th>\n",
       "      <th>streaming_movies</th>\n",
       "      <th>gender</th>\n",
       "      <th>senior_citizen</th>\n",
       "      <th>partner</th>\n",
       "      <th>dependents</th>\n",
       "      <th>multiple_lines</th>\n",
       "      <th>duration</th>\n",
       "    </tr>\n",
       "  </thead>\n",
       "  <tbody>\n",
       "    <tr>\n",
       "      <th>371</th>\n",
       "      <td>Month-to-month</td>\n",
       "      <td>Yes</td>\n",
       "      <td>Electronic check</td>\n",
       "      <td>0.717486</td>\n",
       "      <td>Fiber optic</td>\n",
       "      <td>No</td>\n",
       "      <td>No</td>\n",
       "      <td>No</td>\n",
       "      <td>No</td>\n",
       "      <td>Yes</td>\n",
       "      <td>No</td>\n",
       "      <td>Male</td>\n",
       "      <td>0</td>\n",
       "      <td>No</td>\n",
       "      <td>No</td>\n",
       "      <td>Yes</td>\n",
       "      <td>-1.229095</td>\n",
       "    </tr>\n",
       "    <tr>\n",
       "      <th>5715</th>\n",
       "      <td>Month-to-month</td>\n",
       "      <td>Yes</td>\n",
       "      <td>Credit card (automatic)</td>\n",
       "      <td>1.467257</td>\n",
       "      <td>Fiber optic</td>\n",
       "      <td>Yes</td>\n",
       "      <td>Yes</td>\n",
       "      <td>No</td>\n",
       "      <td>Yes</td>\n",
       "      <td>Yes</td>\n",
       "      <td>Yes</td>\n",
       "      <td>Male</td>\n",
       "      <td>0</td>\n",
       "      <td>No</td>\n",
       "      <td>No</td>\n",
       "      <td>Yes</td>\n",
       "      <td>-0.004084</td>\n",
       "    </tr>\n",
       "    <tr>\n",
       "      <th>1444</th>\n",
       "      <td>Two year</td>\n",
       "      <td>Yes</td>\n",
       "      <td>Electronic check</td>\n",
       "      <td>1.567226</td>\n",
       "      <td>Fiber optic</td>\n",
       "      <td>Yes</td>\n",
       "      <td>Yes</td>\n",
       "      <td>Yes</td>\n",
       "      <td>Yes</td>\n",
       "      <td>Yes</td>\n",
       "      <td>Yes</td>\n",
       "      <td>Male</td>\n",
       "      <td>0</td>\n",
       "      <td>No</td>\n",
       "      <td>Yes</td>\n",
       "      <td>No</td>\n",
       "      <td>0.363553</td>\n",
       "    </tr>\n",
       "    <tr>\n",
       "      <th>4928</th>\n",
       "      <td>Month-to-month</td>\n",
       "      <td>No</td>\n",
       "      <td>Electronic check</td>\n",
       "      <td>-0.603775</td>\n",
       "      <td>DSL</td>\n",
       "      <td>No</td>\n",
       "      <td>No</td>\n",
       "      <td>No</td>\n",
       "      <td>No</td>\n",
       "      <td>No</td>\n",
       "      <td>No</td>\n",
       "      <td>Female</td>\n",
       "      <td>1</td>\n",
       "      <td>Yes</td>\n",
       "      <td>Yes</td>\n",
       "      <td>No</td>\n",
       "      <td>-1.147248</td>\n",
       "    </tr>\n",
       "    <tr>\n",
       "      <th>6915</th>\n",
       "      <td>Two year</td>\n",
       "      <td>Yes</td>\n",
       "      <td>Electronic check</td>\n",
       "      <td>1.124028</td>\n",
       "      <td>Fiber optic</td>\n",
       "      <td>No</td>\n",
       "      <td>No</td>\n",
       "      <td>Yes</td>\n",
       "      <td>No</td>\n",
       "      <td>Yes</td>\n",
       "      <td>Yes</td>\n",
       "      <td>Female</td>\n",
       "      <td>0</td>\n",
       "      <td>Yes</td>\n",
       "      <td>No</td>\n",
       "      <td>Yes</td>\n",
       "      <td>1.628815</td>\n",
       "    </tr>\n",
       "  </tbody>\n",
       "</table>\n",
       "</div>"
      ],
      "text/plain": [
       "                type paperless_billing           payment_method  \\\n",
       "371   Month-to-month               Yes         Electronic check   \n",
       "5715  Month-to-month               Yes  Credit card (automatic)   \n",
       "1444        Two year               Yes         Electronic check   \n",
       "4928  Month-to-month                No         Electronic check   \n",
       "6915        Two year               Yes         Electronic check   \n",
       "\n",
       "      monthly_charges internet_service online_security online_backup  \\\n",
       "371          0.717486      Fiber optic              No            No   \n",
       "5715         1.467257      Fiber optic             Yes           Yes   \n",
       "1444         1.567226      Fiber optic             Yes           Yes   \n",
       "4928        -0.603775              DSL              No            No   \n",
       "6915         1.124028      Fiber optic              No            No   \n",
       "\n",
       "     device_protection tech_support streaming_tv streaming_movies  gender  \\\n",
       "371                 No           No          Yes               No    Male   \n",
       "5715                No          Yes          Yes              Yes    Male   \n",
       "1444               Yes          Yes          Yes              Yes    Male   \n",
       "4928                No           No           No               No  Female   \n",
       "6915               Yes           No          Yes              Yes  Female   \n",
       "\n",
       "     senior_citizen partner dependents multiple_lines  duration  \n",
       "371               0      No         No            Yes -1.229095  \n",
       "5715              0      No         No            Yes -0.004084  \n",
       "1444              0      No        Yes             No  0.363553  \n",
       "4928              1     Yes        Yes             No -1.147248  \n",
       "6915              0     Yes         No            Yes  1.628815  "
      ]
     },
     "execution_count": 94,
     "metadata": {},
     "output_type": "execute_result"
    }
   ],
   "source": [
    "scaler.fit(features_train_boost[numeric])\n",
    "\n",
    "features_train_boost[numeric] = scaler.transform(features_train_boost[numeric])\n",
    "features_test_boost[numeric] = scaler.transform(features_test_boost[numeric])\n",
    "\n",
    "features_train_boost.head()"
   ]
  },
  {
   "cell_type": "code",
   "execution_count": 95,
   "id": "314e451f",
   "metadata": {},
   "outputs": [],
   "source": [
    "model_lgbmc = LGBMClassifier(silent=True, class_weight = 'balanced')"
   ]
  },
  {
   "cell_type": "code",
   "execution_count": 96,
   "id": "da0ef97d",
   "metadata": {},
   "outputs": [],
   "source": [
    "parameters = {'boosting_type': 'gbdt', 'random_state': RANDOM_STATE }"
   ]
  },
  {
   "cell_type": "code",
   "execution_count": 97,
   "id": "a56b765c",
   "metadata": {},
   "outputs": [],
   "source": [
    "model_lgbmc = LGBMClassifier(**parameters)"
   ]
  },
  {
   "cell_type": "code",
   "execution_count": 98,
   "id": "9cac5633",
   "metadata": {},
   "outputs": [],
   "source": [
    "params_lgbmc = [{'learning_rate': [0.1, 0.5],\n",
    "                 'max_depth': [10, 50, 100],\n",
    "                       'n_estimators': [100, 200],\n",
    "                       }]\n",
    "\n",
    "grid_search_lgbmc = GridSearchCV(model_lgbmc, \n",
    "                        params_lgbmc, \n",
    "                        cv = 5, \n",
    "                        verbose = 0, \n",
    "                        n_jobs=-1,\n",
    "                        scoring='roc_auc')"
   ]
  },
  {
   "cell_type": "code",
   "execution_count": 99,
   "id": "a1363e57",
   "metadata": {
    "scrolled": true
   },
   "outputs": [
    {
     "name": "stdout",
     "output_type": "stream",
     "text": [
      "Wall time: 23.8 s\n"
     ]
    },
    {
     "data": {
      "text/plain": [
       "GridSearchCV(cv=5, estimator=LGBMClassifier(random_state=121222), n_jobs=-1,\n",
       "             param_grid=[{'learning_rate': [0.1, 0.5],\n",
       "                          'max_depth': [10, 50, 100],\n",
       "                          'n_estimators': [100, 200]}],\n",
       "             scoring='roc_auc')"
      ]
     },
     "execution_count": 99,
     "metadata": {},
     "output_type": "execute_result"
    }
   ],
   "source": [
    "%%time\n",
    "grid_search_lgbmc.fit(features_train_boost, target_train_boost)"
   ]
  },
  {
   "cell_type": "markdown",
   "id": "de2ec33b",
   "metadata": {},
   "source": [
    "- Смотрим результаты"
   ]
  },
  {
   "cell_type": "code",
   "execution_count": 100,
   "id": "efd82ed1",
   "metadata": {},
   "outputs": [
    {
     "data": {
      "text/plain": [
       "{'mean_fit_time': array([0.37415977, 0.67265739, 0.45227385, 0.55306454, 0.35440903,\n",
       "        0.67961049, 0.34388013, 0.49310613, 0.32004561, 0.46197882,\n",
       "        0.30949912, 0.46270938]),\n",
       " 'std_fit_time': array([0.05784939, 0.16369631, 0.13563304, 0.14673169, 0.06158502,\n",
       "        0.13188295, 0.08878246, 0.12215896, 0.08595319, 0.03932104,\n",
       "        0.05972426, 0.11508966]),\n",
       " 'mean_score_time': array([0.27834072, 0.26241484, 0.21858177, 0.22481995, 0.19231482,\n",
       "        0.37709165, 0.21048827, 0.21712122, 0.1370553 , 0.11940317,\n",
       "        0.13349252, 0.19977188]),\n",
       " 'std_score_time': array([0.15689947, 0.1083073 , 0.06173852, 0.10323506, 0.11329582,\n",
       "        0.22202468, 0.14175277, 0.07772819, 0.04866074, 0.0340417 ,\n",
       "        0.04587228, 0.12186625]),\n",
       " 'param_learning_rate': masked_array(data=[0.1, 0.1, 0.1, 0.1, 0.1, 0.1, 0.5, 0.5, 0.5, 0.5, 0.5,\n",
       "                    0.5],\n",
       "              mask=[False, False, False, False, False, False, False, False,\n",
       "                    False, False, False, False],\n",
       "        fill_value='?',\n",
       "             dtype=object),\n",
       " 'param_max_depth': masked_array(data=[10, 10, 50, 50, 100, 100, 10, 10, 50, 50, 100, 100],\n",
       "              mask=[False, False, False, False, False, False, False, False,\n",
       "                    False, False, False, False],\n",
       "        fill_value='?',\n",
       "             dtype=object),\n",
       " 'param_n_estimators': masked_array(data=[100, 200, 100, 200, 100, 200, 100, 200, 100, 200, 100,\n",
       "                    200],\n",
       "              mask=[False, False, False, False, False, False, False, False,\n",
       "                    False, False, False, False],\n",
       "        fill_value='?',\n",
       "             dtype=object),\n",
       " 'params': [{'learning_rate': 0.1, 'max_depth': 10, 'n_estimators': 100},\n",
       "  {'learning_rate': 0.1, 'max_depth': 10, 'n_estimators': 200},\n",
       "  {'learning_rate': 0.1, 'max_depth': 50, 'n_estimators': 100},\n",
       "  {'learning_rate': 0.1, 'max_depth': 50, 'n_estimators': 200},\n",
       "  {'learning_rate': 0.1, 'max_depth': 100, 'n_estimators': 100},\n",
       "  {'learning_rate': 0.1, 'max_depth': 100, 'n_estimators': 200},\n",
       "  {'learning_rate': 0.5, 'max_depth': 10, 'n_estimators': 100},\n",
       "  {'learning_rate': 0.5, 'max_depth': 10, 'n_estimators': 200},\n",
       "  {'learning_rate': 0.5, 'max_depth': 50, 'n_estimators': 100},\n",
       "  {'learning_rate': 0.5, 'max_depth': 50, 'n_estimators': 200},\n",
       "  {'learning_rate': 0.5, 'max_depth': 100, 'n_estimators': 100},\n",
       "  {'learning_rate': 0.5, 'max_depth': 100, 'n_estimators': 200}],\n",
       " 'split0_test_score': array([0.89970353, 0.90287277, 0.89736165, 0.90067108, 0.89736165,\n",
       "        0.90067108, 0.89752252, 0.89345008, 0.89560121, 0.89218147,\n",
       "        0.89560121, 0.89218147]),\n",
       " 'split1_test_score': array([0.88976604, 0.89514387, 0.88717365, 0.89229408, 0.88717365,\n",
       "        0.89229408, 0.8836298 , 0.87877137, 0.87317292, 0.87452427,\n",
       "        0.87317292, 0.87452427]),\n",
       " 'split2_test_score': array([0.87805366, 0.87958625, 0.87887979, 0.88061718, 0.87887979,\n",
       "        0.88061718, 0.87039304, 0.86747515, 0.8714815 , 0.86944035,\n",
       "        0.8714815 , 0.86944035]),\n",
       " 'split3_test_score': array([0.89351758, 0.89923601, 0.89836156, 0.90213089, 0.89836156,\n",
       "        0.90213089, 0.89558634, 0.89083671, 0.88891292, 0.88519882,\n",
       "        0.88891292, 0.88519882]),\n",
       " 'split4_test_score': array([0.89817929, 0.90392236, 0.89986761, 0.90323273, 0.89986761,\n",
       "        0.90323273, 0.91452974, 0.90537773, 0.90229169, 0.90034043,\n",
       "        0.90229169, 0.90034043]),\n",
       " 'mean_test_score': array([0.89184402, 0.89615225, 0.89232885, 0.89578919, 0.89232885,\n",
       "        0.89578919, 0.89233229, 0.88718221, 0.88629205, 0.88433707,\n",
       "        0.88629205, 0.88433707]),\n",
       " 'std_test_score': array([0.00773563, 0.00883741, 0.00807476, 0.0085072 , 0.00807476,\n",
       "        0.0085072 , 0.01474665, 0.01298329, 0.0121736 , 0.01128351,\n",
       "        0.0121736 , 0.01128351]),\n",
       " 'rank_test_score': array([ 7,  1,  5,  2,  5,  2,  4,  8,  9, 11,  9, 11])}"
      ]
     },
     "execution_count": 100,
     "metadata": {},
     "output_type": "execute_result"
    }
   ],
   "source": [
    "grid_search_lgbmc.cv_results_"
   ]
  },
  {
   "cell_type": "markdown",
   "id": "6d15475e",
   "metadata": {},
   "source": [
    "- Выбираем лучший индекс"
   ]
  },
  {
   "cell_type": "code",
   "execution_count": 101,
   "id": "1c636bfb",
   "metadata": {},
   "outputs": [],
   "source": [
    "best_index = grid_search_lgbmc.best_index_"
   ]
  },
  {
   "cell_type": "code",
   "execution_count": 102,
   "id": "f5d5090a",
   "metadata": {},
   "outputs": [
    {
     "name": "stdout",
     "output_type": "stream",
     "text": [
      "Время обучения: 0.673,  время предсказания: 0.262 и качество модели: 0.896\n"
     ]
    }
   ],
   "source": [
    "fit_time_grid = grid_search_lgbmc.cv_results_['mean_fit_time'][best_index]\n",
    "score_time_grid = grid_search_lgbmc.cv_results_['mean_score_time'][best_index]\n",
    "test_score_grid = abs(grid_search_lgbmc.cv_results_['mean_test_score'][best_index])\n",
    "\n",
    "print('Время обучения: {},  время предсказания: {} и качество модели: {}'.format(fit_time_grid.round(3), score_time_grid.round(3), test_score_grid.round(3)))"
   ]
  },
  {
   "cell_type": "code",
   "execution_count": 103,
   "id": "e543fb06",
   "metadata": {},
   "outputs": [
    {
     "name": "stdout",
     "output_type": "stream",
     "text": [
      "roc_auc:\n"
     ]
    },
    {
     "data": {
      "text/plain": [
       "0.896"
      ]
     },
     "execution_count": 103,
     "metadata": {},
     "output_type": "execute_result"
    }
   ],
   "source": [
    "print('roc_auc:')\n",
    "grid_search_lgbmc.cv_results_['mean_test_score'][best_index].round(3)"
   ]
  },
  {
   "cell_type": "code",
   "execution_count": 104,
   "id": "42c56908",
   "metadata": {},
   "outputs": [],
   "source": [
    "best_parameters_lgbmc = grid_search_lgbmc.best_params_"
   ]
  },
  {
   "cell_type": "code",
   "execution_count": 105,
   "id": "e460bf32",
   "metadata": {},
   "outputs": [
    {
     "data": {
      "text/plain": [
       "{'learning_rate': 0.1, 'max_depth': 10, 'n_estimators': 200}"
      ]
     },
     "execution_count": 105,
     "metadata": {},
     "output_type": "execute_result"
    }
   ],
   "source": [
    "best_parameters_lgbmc"
   ]
  },
  {
   "cell_type": "code",
   "execution_count": 106,
   "id": "e52892a5",
   "metadata": {},
   "outputs": [],
   "source": [
    "lgbmc_model = lgb.LGBMClassifier(**best_parameters_lgbmc, random_state=RANDOM_STATE)"
   ]
  },
  {
   "cell_type": "code",
   "execution_count": 107,
   "id": "93b06516",
   "metadata": {},
   "outputs": [
    {
     "data": {
      "text/plain": [
       "LGBMClassifier(max_depth=10, n_estimators=200, random_state=121222)"
      ]
     },
     "execution_count": 107,
     "metadata": {},
     "output_type": "execute_result"
    }
   ],
   "source": [
    "lgbmc_model.fit(features_train_boost, target_train_boost)"
   ]
  },
  {
   "cell_type": "code",
   "execution_count": 108,
   "id": "354a5216",
   "metadata": {},
   "outputs": [
    {
     "data": {
      "image/png": "[encoded data removed]",
      "text/plain": [
       "<Figure size 1080x504 with 1 Axes>"
      ]
     },
     "metadata": {
      "needs_background": "light"
     },
     "output_type": "display_data"
    }
   ],
   "source": [
    "ax0 = lgb.plot_importance(lgbmc_model, color='r', title='Важность признаков LGBMClassifier', xlabel='Важность', ylabel='Признак', figsize=(15,7))"
   ]
  },
  {
   "cell_type": "markdown",
   "id": "e201ad61",
   "metadata": {},
   "source": [
    "### Вывод\n",
    "\n",
    "- Модель: **LGBMClassifier**\n",
    "- Время обучения: **0.495 c**\n",
    "- Скорость предсказания: **0.198 c**\n",
    "- Метрика roc_auc: **0.896**\n",
    "\n",
    "По условиям задачи значение метрики roc_auc должно быть не меньше 0,75. Модель **model_cbr** построенная при помощи градиентного бустинга LGBMClassifier нам подходит, поскольку удовлетворяет условиям задачи."
   ]
  },
  {
   "cell_type": "markdown",
   "id": "59e3e785",
   "metadata": {},
   "source": [
    "### Модель бустинга CatBoostClassifier"
   ]
  },
  {
   "cell_type": "code",
   "execution_count": 109,
   "id": "93791e69",
   "metadata": {},
   "outputs": [],
   "source": [
    "model_cbc = CatBoostClassifier(loss_function='Logloss', random_state=RANDOM_STATE)\n",
    "\n",
    "params_catboost = [{'learning_rate': [0.2, 0.5],\n",
    "                    'depth': [1, 5, 10],\n",
    "                   'iterations': [100, 200]}]\n",
    "\n",
    "grid_cbc = GridSearchCV(model_cbc, \n",
    "                        params_catboost, \n",
    "                        cv = 5, \n",
    "                        verbose = 0, \n",
    "                        n_jobs=-1,\n",
    "                        scoring='roc_auc')"
   ]
  },
  {
   "cell_type": "code",
   "execution_count": 110,
   "id": "d26eee69",
   "metadata": {
    "scrolled": true
   },
   "outputs": [
    {
     "name": "stdout",
     "output_type": "stream",
     "text": [
      "0:\tlearn: 0.5046053\ttotal: 165ms\tremaining: 32.8s\n",
      "1:\tlearn: 0.4346008\ttotal: 190ms\tremaining: 18.8s\n",
      "2:\tlearn: 0.4079448\ttotal: 220ms\tremaining: 14.4s\n",
      "3:\tlearn: 0.3993506\ttotal: 245ms\tremaining: 12s\n",
      "4:\tlearn: 0.3962055\ttotal: 259ms\tremaining: 10.1s\n",
      "5:\tlearn: 0.3925740\ttotal: 286ms\tremaining: 9.25s\n",
      "6:\tlearn: 0.3900012\ttotal: 315ms\tremaining: 8.69s\n",
      "7:\tlearn: 0.3862138\ttotal: 342ms\tremaining: 8.21s\n",
      "8:\tlearn: 0.3862137\ttotal: 350ms\tremaining: 7.42s\n",
      "9:\tlearn: 0.3727528\ttotal: 378ms\tremaining: 7.18s\n",
      "10:\tlearn: 0.3712432\ttotal: 404ms\tremaining: 6.93s\n",
      "11:\tlearn: 0.3704136\ttotal: 456ms\tremaining: 7.14s\n",
      "12:\tlearn: 0.3704135\ttotal: 465ms\tremaining: 6.69s\n",
      "13:\tlearn: 0.3671570\ttotal: 504ms\tremaining: 6.7s\n",
      "14:\tlearn: 0.3647838\ttotal: 542ms\tremaining: 6.68s\n",
      "15:\tlearn: 0.3624179\ttotal: 581ms\tremaining: 6.68s\n",
      "16:\tlearn: 0.3616467\ttotal: 614ms\tremaining: 6.61s\n",
      "17:\tlearn: 0.3615937\ttotal: 651ms\tremaining: 6.58s\n",
      "18:\tlearn: 0.3558131\ttotal: 699ms\tremaining: 6.66s\n",
      "19:\tlearn: 0.3520322\ttotal: 744ms\tremaining: 6.7s\n",
      "20:\tlearn: 0.3518735\ttotal: 764ms\tremaining: 6.51s\n",
      "21:\tlearn: 0.3432452\ttotal: 794ms\tremaining: 6.42s\n",
      "22:\tlearn: 0.3418495\ttotal: 820ms\tremaining: 6.31s\n",
      "23:\tlearn: 0.3305050\ttotal: 844ms\tremaining: 6.19s\n",
      "24:\tlearn: 0.3237492\ttotal: 889ms\tremaining: 6.22s\n",
      "25:\tlearn: 0.3190557\ttotal: 923ms\tremaining: 6.18s\n",
      "26:\tlearn: 0.3187648\ttotal: 956ms\tremaining: 6.12s\n",
      "27:\tlearn: 0.3160896\ttotal: 990ms\tremaining: 6.08s\n",
      "28:\tlearn: 0.3132169\ttotal: 1.03s\tremaining: 6.11s\n",
      "29:\tlearn: 0.3125195\ttotal: 1.07s\tremaining: 6.06s\n",
      "30:\tlearn: 0.3095920\ttotal: 1.1s\tremaining: 6.02s\n",
      "31:\tlearn: 0.3084839\ttotal: 1.15s\tremaining: 6.02s\n",
      "32:\tlearn: 0.3057500\ttotal: 1.19s\tremaining: 6.02s\n",
      "33:\tlearn: 0.3036981\ttotal: 1.24s\tremaining: 6.04s\n",
      "34:\tlearn: 0.2992185\ttotal: 1.27s\tremaining: 6.01s\n",
      "35:\tlearn: 0.2945759\ttotal: 1.31s\tremaining: 5.96s\n",
      "36:\tlearn: 0.2898241\ttotal: 1.33s\tremaining: 5.88s\n",
      "37:\tlearn: 0.2873720\ttotal: 1.36s\tremaining: 5.8s\n",
      "38:\tlearn: 0.2864313\ttotal: 1.38s\tremaining: 5.7s\n",
      "39:\tlearn: 0.2833365\ttotal: 1.42s\tremaining: 5.69s\n",
      "40:\tlearn: 0.2814800\ttotal: 1.46s\tremaining: 5.67s\n",
      "41:\tlearn: 0.2792831\ttotal: 1.51s\tremaining: 5.67s\n",
      "42:\tlearn: 0.2785084\ttotal: 1.54s\tremaining: 5.62s\n",
      "43:\tlearn: 0.2776705\ttotal: 1.59s\tremaining: 5.64s\n",
      "44:\tlearn: 0.2747205\ttotal: 1.64s\tremaining: 5.65s\n",
      "45:\tlearn: 0.2725953\ttotal: 1.69s\tremaining: 5.66s\n",
      "46:\tlearn: 0.2709703\ttotal: 1.73s\tremaining: 5.64s\n",
      "47:\tlearn: 0.2695577\ttotal: 1.77s\tremaining: 5.61s\n",
      "48:\tlearn: 0.2682072\ttotal: 1.8s\tremaining: 5.55s\n",
      "49:\tlearn: 0.2676781\ttotal: 1.82s\tremaining: 5.48s\n",
      "50:\tlearn: 0.2657121\ttotal: 1.85s\tremaining: 5.42s\n",
      "51:\tlearn: 0.2637393\ttotal: 1.89s\tremaining: 5.37s\n",
      "52:\tlearn: 0.2621281\ttotal: 1.91s\tremaining: 5.3s\n",
      "53:\tlearn: 0.2604351\ttotal: 1.94s\tremaining: 5.24s\n",
      "54:\tlearn: 0.2579999\ttotal: 1.96s\tremaining: 5.18s\n",
      "55:\tlearn: 0.2562475\ttotal: 1.99s\tremaining: 5.12s\n",
      "56:\tlearn: 0.2541051\ttotal: 2.02s\tremaining: 5.05s\n",
      "57:\tlearn: 0.2519474\ttotal: 2.04s\tremaining: 4.99s\n",
      "58:\tlearn: 0.2500823\ttotal: 2.06s\tremaining: 4.93s\n",
      "59:\tlearn: 0.2496306\ttotal: 2.09s\tremaining: 4.87s\n",
      "60:\tlearn: 0.2493947\ttotal: 2.11s\tremaining: 4.8s\n",
      "61:\tlearn: 0.2480430\ttotal: 2.13s\tremaining: 4.75s\n",
      "62:\tlearn: 0.2454439\ttotal: 2.15s\tremaining: 4.68s\n",
      "63:\tlearn: 0.2430887\ttotal: 2.18s\tremaining: 4.63s\n",
      "64:\tlearn: 0.2426674\ttotal: 2.2s\tremaining: 4.57s\n",
      "65:\tlearn: 0.2416090\ttotal: 2.22s\tremaining: 4.51s\n",
      "66:\tlearn: 0.2402438\ttotal: 2.25s\tremaining: 4.46s\n",
      "67:\tlearn: 0.2372972\ttotal: 2.27s\tremaining: 4.41s\n",
      "68:\tlearn: 0.2336818\ttotal: 2.31s\tremaining: 4.38s\n",
      "69:\tlearn: 0.2332532\ttotal: 2.33s\tremaining: 4.34s\n",
      "70:\tlearn: 0.2330509\ttotal: 2.37s\tremaining: 4.3s\n",
      "71:\tlearn: 0.2326466\ttotal: 2.4s\tremaining: 4.26s\n",
      "72:\tlearn: 0.2315313\ttotal: 2.44s\tremaining: 4.24s\n",
      "73:\tlearn: 0.2305580\ttotal: 2.47s\tremaining: 4.21s\n",
      "74:\tlearn: 0.2294018\ttotal: 2.5s\tremaining: 4.17s\n",
      "75:\tlearn: 0.2270313\ttotal: 2.54s\tremaining: 4.15s\n",
      "76:\tlearn: 0.2255919\ttotal: 2.58s\tremaining: 4.12s\n",
      "77:\tlearn: 0.2249224\ttotal: 2.61s\tremaining: 4.08s\n",
      "78:\tlearn: 0.2235779\ttotal: 2.64s\tremaining: 4.04s\n",
      "79:\tlearn: 0.2231378\ttotal: 2.66s\tremaining: 4s\n",
      "80:\tlearn: 0.2220757\ttotal: 2.69s\tremaining: 3.95s\n",
      "81:\tlearn: 0.2203055\ttotal: 2.71s\tremaining: 3.9s\n",
      "82:\tlearn: 0.2191699\ttotal: 2.73s\tremaining: 3.85s\n",
      "83:\tlearn: 0.2181467\ttotal: 2.76s\tremaining: 3.82s\n",
      "84:\tlearn: 0.2166640\ttotal: 2.79s\tremaining: 3.77s\n",
      "85:\tlearn: 0.2155638\ttotal: 2.81s\tremaining: 3.73s\n",
      "86:\tlearn: 0.2146673\ttotal: 2.83s\tremaining: 3.68s\n",
      "87:\tlearn: 0.2138403\ttotal: 2.85s\tremaining: 3.63s\n",
      "88:\tlearn: 0.2129166\ttotal: 2.88s\tremaining: 3.59s\n",
      "89:\tlearn: 0.2114389\ttotal: 2.9s\tremaining: 3.55s\n",
      "90:\tlearn: 0.2111264\ttotal: 2.92s\tremaining: 3.5s\n",
      "91:\tlearn: 0.2097873\ttotal: 2.97s\tremaining: 3.48s\n",
      "92:\tlearn: 0.2085342\ttotal: 3s\tremaining: 3.46s\n",
      "93:\tlearn: 0.2077491\ttotal: 3.04s\tremaining: 3.43s\n",
      "94:\tlearn: 0.2065242\ttotal: 3.08s\tremaining: 3.4s\n",
      "95:\tlearn: 0.2039062\ttotal: 3.12s\tremaining: 3.38s\n",
      "96:\tlearn: 0.2033414\ttotal: 3.16s\tremaining: 3.35s\n",
      "97:\tlearn: 0.2013780\ttotal: 3.2s\tremaining: 3.33s\n",
      "98:\tlearn: 0.2008521\ttotal: 3.26s\tremaining: 3.32s\n",
      "99:\tlearn: 0.1994414\ttotal: 3.29s\tremaining: 3.29s\n",
      "100:\tlearn: 0.1981554\ttotal: 3.32s\tremaining: 3.25s\n",
      "101:\tlearn: 0.1967411\ttotal: 3.34s\tremaining: 3.21s\n",
      "102:\tlearn: 0.1964201\ttotal: 3.37s\tremaining: 3.17s\n",
      "103:\tlearn: 0.1955254\ttotal: 3.39s\tremaining: 3.13s\n",
      "104:\tlearn: 0.1948559\ttotal: 3.41s\tremaining: 3.09s\n",
      "105:\tlearn: 0.1936941\ttotal: 3.43s\tremaining: 3.04s\n",
      "106:\tlearn: 0.1924416\ttotal: 3.45s\tremaining: 3s\n",
      "107:\tlearn: 0.1915635\ttotal: 3.48s\tremaining: 2.97s\n",
      "108:\tlearn: 0.1902070\ttotal: 3.51s\tremaining: 2.93s\n",
      "109:\tlearn: 0.1893752\ttotal: 3.53s\tremaining: 2.89s\n",
      "110:\tlearn: 0.1888594\ttotal: 3.56s\tremaining: 2.85s\n",
      "111:\tlearn: 0.1877613\ttotal: 3.58s\tremaining: 2.81s\n",
      "112:\tlearn: 0.1871592\ttotal: 3.6s\tremaining: 2.77s\n",
      "113:\tlearn: 0.1861312\ttotal: 3.62s\tremaining: 2.73s\n",
      "114:\tlearn: 0.1854475\ttotal: 3.65s\tremaining: 2.7s\n",
      "115:\tlearn: 0.1851062\ttotal: 3.67s\tremaining: 2.66s\n",
      "116:\tlearn: 0.1850691\ttotal: 3.7s\tremaining: 2.63s\n",
      "117:\tlearn: 0.1839719\ttotal: 3.73s\tremaining: 2.59s\n",
      "118:\tlearn: 0.1834608\ttotal: 3.75s\tremaining: 2.55s\n",
      "119:\tlearn: 0.1832397\ttotal: 3.77s\tremaining: 2.51s\n",
      "120:\tlearn: 0.1828535\ttotal: 3.79s\tremaining: 2.48s\n",
      "121:\tlearn: 0.1815932\ttotal: 3.81s\tremaining: 2.44s\n",
      "122:\tlearn: 0.1809346\ttotal: 3.84s\tremaining: 2.4s\n",
      "123:\tlearn: 0.1801089\ttotal: 3.86s\tremaining: 2.37s\n",
      "124:\tlearn: 0.1797216\ttotal: 3.88s\tremaining: 2.33s\n",
      "125:\tlearn: 0.1795384\ttotal: 3.91s\tremaining: 2.3s\n",
      "126:\tlearn: 0.1786954\ttotal: 3.94s\tremaining: 2.26s\n",
      "127:\tlearn: 0.1783531\ttotal: 3.96s\tremaining: 2.23s\n",
      "128:\tlearn: 0.1774519\ttotal: 3.98s\tremaining: 2.19s\n",
      "129:\tlearn: 0.1768291\ttotal: 4.01s\tremaining: 2.16s\n",
      "130:\tlearn: 0.1765185\ttotal: 4.03s\tremaining: 2.12s\n",
      "131:\tlearn: 0.1759372\ttotal: 4.05s\tremaining: 2.09s\n",
      "132:\tlearn: 0.1752543\ttotal: 4.08s\tremaining: 2.05s\n",
      "133:\tlearn: 0.1751806\ttotal: 4.1s\tremaining: 2.02s\n",
      "134:\tlearn: 0.1746251\ttotal: 4.12s\tremaining: 1.98s\n",
      "135:\tlearn: 0.1736507\ttotal: 4.15s\tremaining: 1.95s\n",
      "136:\tlearn: 0.1730058\ttotal: 4.17s\tremaining: 1.92s\n",
      "137:\tlearn: 0.1723123\ttotal: 4.2s\tremaining: 1.89s\n",
      "138:\tlearn: 0.1718483\ttotal: 4.22s\tremaining: 1.85s\n",
      "139:\tlearn: 0.1714910\ttotal: 4.24s\tremaining: 1.82s\n",
      "140:\tlearn: 0.1712791\ttotal: 4.26s\tremaining: 1.78s\n",
      "141:\tlearn: 0.1706546\ttotal: 4.29s\tremaining: 1.75s\n",
      "142:\tlearn: 0.1703139\ttotal: 4.31s\tremaining: 1.72s\n",
      "143:\tlearn: 0.1699862\ttotal: 4.33s\tremaining: 1.68s\n",
      "144:\tlearn: 0.1695087\ttotal: 4.36s\tremaining: 1.66s\n",
      "145:\tlearn: 0.1692012\ttotal: 4.39s\tremaining: 1.62s\n",
      "146:\tlearn: 0.1690700\ttotal: 4.41s\tremaining: 1.59s\n",
      "147:\tlearn: 0.1685305\ttotal: 4.43s\tremaining: 1.56s\n",
      "148:\tlearn: 0.1679009\ttotal: 4.45s\tremaining: 1.52s\n",
      "149:\tlearn: 0.1668055\ttotal: 4.48s\tremaining: 1.49s\n",
      "150:\tlearn: 0.1661715\ttotal: 4.5s\tremaining: 1.46s\n",
      "151:\tlearn: 0.1660403\ttotal: 4.52s\tremaining: 1.43s\n",
      "152:\tlearn: 0.1658903\ttotal: 4.54s\tremaining: 1.4s\n",
      "153:\tlearn: 0.1648818\ttotal: 4.57s\tremaining: 1.36s\n",
      "154:\tlearn: 0.1642299\ttotal: 4.59s\tremaining: 1.33s\n",
      "155:\tlearn: 0.1635923\ttotal: 4.62s\tremaining: 1.3s\n",
      "156:\tlearn: 0.1625720\ttotal: 4.64s\tremaining: 1.27s\n",
      "157:\tlearn: 0.1622165\ttotal: 4.66s\tremaining: 1.24s\n",
      "158:\tlearn: 0.1620305\ttotal: 4.69s\tremaining: 1.21s\n",
      "159:\tlearn: 0.1617955\ttotal: 4.71s\tremaining: 1.18s\n",
      "160:\tlearn: 0.1616358\ttotal: 4.73s\tremaining: 1.15s\n",
      "161:\tlearn: 0.1603946\ttotal: 4.75s\tremaining: 1.11s\n",
      "162:\tlearn: 0.1593353\ttotal: 4.78s\tremaining: 1.08s\n"
     ]
    },
    {
     "name": "stdout",
     "output_type": "stream",
     "text": [
      "163:\tlearn: 0.1588711\ttotal: 4.81s\tremaining: 1.05s\n",
      "164:\tlearn: 0.1578129\ttotal: 4.83s\tremaining: 1.02s\n",
      "165:\tlearn: 0.1573486\ttotal: 4.86s\tremaining: 995ms\n",
      "166:\tlearn: 0.1567121\ttotal: 4.88s\tremaining: 964ms\n",
      "167:\tlearn: 0.1563260\ttotal: 4.9s\tremaining: 934ms\n",
      "168:\tlearn: 0.1561161\ttotal: 4.93s\tremaining: 904ms\n",
      "169:\tlearn: 0.1554372\ttotal: 4.95s\tremaining: 873ms\n",
      "170:\tlearn: 0.1551107\ttotal: 4.97s\tremaining: 843ms\n",
      "171:\tlearn: 0.1548637\ttotal: 5s\tremaining: 813ms\n",
      "172:\tlearn: 0.1537972\ttotal: 5.04s\tremaining: 786ms\n",
      "173:\tlearn: 0.1535759\ttotal: 5.07s\tremaining: 758ms\n",
      "174:\tlearn: 0.1533309\ttotal: 5.11s\tremaining: 730ms\n",
      "175:\tlearn: 0.1527687\ttotal: 5.15s\tremaining: 702ms\n",
      "176:\tlearn: 0.1522974\ttotal: 5.18s\tremaining: 674ms\n",
      "177:\tlearn: 0.1507723\ttotal: 5.23s\tremaining: 646ms\n",
      "178:\tlearn: 0.1499769\ttotal: 5.27s\tremaining: 618ms\n",
      "179:\tlearn: 0.1496876\ttotal: 5.31s\tremaining: 590ms\n",
      "180:\tlearn: 0.1486160\ttotal: 5.33s\tremaining: 560ms\n",
      "181:\tlearn: 0.1482766\ttotal: 5.35s\tremaining: 530ms\n",
      "182:\tlearn: 0.1477328\ttotal: 5.38s\tremaining: 499ms\n",
      "183:\tlearn: 0.1468764\ttotal: 5.41s\tremaining: 470ms\n",
      "184:\tlearn: 0.1462415\ttotal: 5.43s\tremaining: 440ms\n",
      "185:\tlearn: 0.1456926\ttotal: 5.45s\tremaining: 410ms\n",
      "186:\tlearn: 0.1455158\ttotal: 5.47s\tremaining: 381ms\n",
      "187:\tlearn: 0.1446011\ttotal: 5.5s\tremaining: 351ms\n",
      "188:\tlearn: 0.1443126\ttotal: 5.52s\tremaining: 321ms\n",
      "189:\tlearn: 0.1433596\ttotal: 5.54s\tremaining: 292ms\n",
      "190:\tlearn: 0.1432875\ttotal: 5.57s\tremaining: 262ms\n",
      "191:\tlearn: 0.1424972\ttotal: 5.59s\tremaining: 233ms\n",
      "192:\tlearn: 0.1421347\ttotal: 5.61s\tremaining: 204ms\n",
      "193:\tlearn: 0.1413177\ttotal: 5.64s\tremaining: 174ms\n",
      "194:\tlearn: 0.1406068\ttotal: 5.67s\tremaining: 145ms\n",
      "195:\tlearn: 0.1402462\ttotal: 5.7s\tremaining: 116ms\n",
      "196:\tlearn: 0.1394257\ttotal: 5.73s\tremaining: 87.2ms\n",
      "197:\tlearn: 0.1388504\ttotal: 5.76s\tremaining: 58.2ms\n",
      "198:\tlearn: 0.1386756\ttotal: 5.8s\tremaining: 29.1ms\n",
      "199:\tlearn: 0.1384507\ttotal: 5.83s\tremaining: 0us\n"
     ]
    },
    {
     "data": {
      "text/plain": [
       "GridSearchCV(cv=5,\n",
       "             estimator=<catboost.core.CatBoostClassifier object at 0x000001BBB4CD67F0>,\n",
       "             n_jobs=-1,\n",
       "             param_grid=[{'depth': [1, 5, 10], 'iterations': [100, 200],\n",
       "                          'learning_rate': [0.2, 0.5]}],\n",
       "             scoring='roc_auc')"
      ]
     },
     "execution_count": 110,
     "metadata": {},
     "output_type": "execute_result"
    }
   ],
   "source": [
    "grid_cbc.fit(features_train_lr, target_train_lr, cat_features=categorial) "
   ]
  },
  {
   "cell_type": "code",
   "execution_count": 111,
   "id": "05b6711a",
   "metadata": {},
   "outputs": [
    {
     "data": {
      "text/plain": [
       "{'mean_fit_time': array([ 1.37000813,  1.32721195,  3.32946377,  4.51570263,  5.22252741,\n",
       "         4.92112627,  6.62981925,  6.01751466,  7.00576782,  7.7072113 ,\n",
       "        26.29719057, 31.69491158]),\n",
       " 'std_fit_time': array([0.15877904, 0.10774089, 0.25106392, 1.44674682, 1.89405074,\n",
       "        1.67300904, 0.89406256, 0.65503418, 0.18402122, 0.62613087,\n",
       "        4.75697832, 4.7285409 ]),\n",
       " 'mean_score_time': array([0.01770797, 0.02775826, 0.01930017, 0.02375717, 0.03998823,\n",
       "        0.03359008, 0.0116066 , 0.01166358, 0.015694  , 0.01466537,\n",
       "        0.04433312, 0.03899436]),\n",
       " 'std_score_time': array([0.00692087, 0.01267844, 0.00097974, 0.00761945, 0.01658423,\n",
       "        0.00479829, 0.00444912, 0.00320525, 0.00466677, 0.00409627,\n",
       "        0.02119225, 0.01869147]),\n",
       " 'param_depth': masked_array(data=[1, 1, 1, 1, 5, 5, 5, 5, 10, 10, 10, 10],\n",
       "              mask=[False, False, False, False, False, False, False, False,\n",
       "                    False, False, False, False],\n",
       "        fill_value='?',\n",
       "             dtype=object),\n",
       " 'param_iterations': masked_array(data=[100, 100, 200, 200, 100, 100, 200, 200, 100, 100, 200,\n",
       "                    200],\n",
       "              mask=[False, False, False, False, False, False, False, False,\n",
       "                    False, False, False, False],\n",
       "        fill_value='?',\n",
       "             dtype=object),\n",
       " 'param_learning_rate': masked_array(data=[0.2, 0.5, 0.2, 0.5, 0.2, 0.5, 0.2, 0.5, 0.2, 0.5, 0.2,\n",
       "                    0.5],\n",
       "              mask=[False, False, False, False, False, False, False, False,\n",
       "                    False, False, False, False],\n",
       "        fill_value='?',\n",
       "             dtype=object),\n",
       " 'params': [{'depth': 1, 'iterations': 100, 'learning_rate': 0.2},\n",
       "  {'depth': 1, 'iterations': 100, 'learning_rate': 0.5},\n",
       "  {'depth': 1, 'iterations': 200, 'learning_rate': 0.2},\n",
       "  {'depth': 1, 'iterations': 200, 'learning_rate': 0.5},\n",
       "  {'depth': 5, 'iterations': 100, 'learning_rate': 0.2},\n",
       "  {'depth': 5, 'iterations': 100, 'learning_rate': 0.5},\n",
       "  {'depth': 5, 'iterations': 200, 'learning_rate': 0.2},\n",
       "  {'depth': 5, 'iterations': 200, 'learning_rate': 0.5},\n",
       "  {'depth': 10, 'iterations': 100, 'learning_rate': 0.2},\n",
       "  {'depth': 10, 'iterations': 100, 'learning_rate': 0.5},\n",
       "  {'depth': 10, 'iterations': 200, 'learning_rate': 0.2},\n",
       "  {'depth': 10, 'iterations': 200, 'learning_rate': 0.5}],\n",
       " 'split0_test_score': array([0.85576163, 0.86204955, 0.86109579, 0.87076669, 0.87455874,\n",
       "        0.89920022, 0.91735843, 0.92599513, 0.87816924, 0.88314948,\n",
       "        0.88133848, 0.88205552]),\n",
       " 'split1_test_score': array([0.85625575, 0.86137387, 0.86255746, 0.86606224, 0.87050009,\n",
       "        0.8855672 , 0.901025  , 0.90385641, 0.86370197, 0.86525556,\n",
       "        0.86496139, 0.85381274]),\n",
       " 'split2_test_score': array([0.85252209, 0.85698868, 0.85846603, 0.8628935 , 0.86950249,\n",
       "        0.8794896 , 0.89490979, 0.89612251, 0.86557668, 0.85028304,\n",
       "        0.86349871, 0.8566435 ]),\n",
       " 'split3_test_score': array([0.85180873, 0.86033919, 0.85842001, 0.86459407, 0.876765  ,\n",
       "        0.89560475, 0.91204897, 0.91941044, 0.87000874, 0.88140418,\n",
       "        0.87432806, 0.86951399]),\n",
       " 'split4_test_score': array([0.85692605, 0.86370011, 0.86349483, 0.87290516, 0.87961233,\n",
       "        0.90405844, 0.9196985 , 0.91920723, 0.88619034, 0.89265763,\n",
       "        0.8937901 , 0.88191879]),\n",
       " 'mean_test_score': array([0.85465485, 0.86089028, 0.86080682, 0.86744433, 0.87418773,\n",
       "        0.89278404, 0.90900814, 0.91291834, 0.87272939, 0.87454998,\n",
       "        0.87558335, 0.86878891]),\n",
       " 'std_test_score': array([0.00207823, 0.00223603, 0.00207604, 0.00378426, 0.00378831,\n",
       "        0.00900067, 0.00954727, 0.01110782, 0.00837671, 0.01499392,\n",
       "        0.01118077, 0.01200599]),\n",
       " 'rank_test_score': array([12, 10, 11,  9,  6,  3,  2,  1,  7,  5,  4,  8])}"
      ]
     },
     "execution_count": 111,
     "metadata": {},
     "output_type": "execute_result"
    }
   ],
   "source": [
    "grid_cbc.cv_results_"
   ]
  },
  {
   "cell_type": "code",
   "execution_count": 112,
   "id": "a6ec3da8",
   "metadata": {
    "scrolled": true
   },
   "outputs": [
    {
     "name": "stdout",
     "output_type": "stream",
     "text": [
      "Время обучения: 6.018,  время предсказания: 0.012 и качество модели: 0.913\n"
     ]
    }
   ],
   "source": [
    "best_index_cbc = grid_cbc.best_index_\n",
    "fit_time_cbc = grid_cbc.cv_results_['mean_fit_time'][best_index_cbc]\n",
    "score_time_cbc = grid_cbc.cv_results_['mean_score_time'][best_index_cbc]\n",
    "test_score_cbc = abs(grid_cbc.cv_results_['mean_test_score'][best_index_cbc])\n",
    "\n",
    "print('Время обучения: {},  время предсказания: {} и качество модели: {}'.format(fit_time_cbc.round(3), score_time_cbc.round(3), test_score_cbc.round(3)))"
   ]
  },
  {
   "cell_type": "code",
   "execution_count": 113,
   "id": "0a40047e",
   "metadata": {},
   "outputs": [],
   "source": [
    "best_params_cbc = grid_cbc.best_params_"
   ]
  },
  {
   "cell_type": "code",
   "execution_count": 114,
   "id": "cba76cd9",
   "metadata": {},
   "outputs": [
    {
     "data": {
      "text/plain": [
       "{'depth': 5, 'iterations': 200, 'learning_rate': 0.5}"
      ]
     },
     "execution_count": 114,
     "metadata": {},
     "output_type": "execute_result"
    }
   ],
   "source": [
    "best_params_cbc"
   ]
  },
  {
   "cell_type": "code",
   "execution_count": 115,
   "id": "2a46a0ff",
   "metadata": {},
   "outputs": [],
   "source": [
    "cbc_model = CatBoostClassifier(random_seed=RANDOM_STATE, **best_params_cbc)"
   ]
  },
  {
   "cell_type": "code",
   "execution_count": 116,
   "id": "7eef423e",
   "metadata": {
    "scrolled": true
   },
   "outputs": [
    {
     "name": "stdout",
     "output_type": "stream",
     "text": [
      "0:\tlearn: 0.5046053\ttotal: 42.1ms\tremaining: 8.38s\n",
      "1:\tlearn: 0.4346008\ttotal: 104ms\tremaining: 10.3s\n",
      "2:\tlearn: 0.4079448\ttotal: 137ms\tremaining: 9.02s\n",
      "3:\tlearn: 0.3993506\ttotal: 176ms\tremaining: 8.63s\n",
      "4:\tlearn: 0.3962055\ttotal: 202ms\tremaining: 7.89s\n",
      "5:\tlearn: 0.3925740\ttotal: 236ms\tremaining: 7.63s\n",
      "6:\tlearn: 0.3900012\ttotal: 279ms\tremaining: 7.7s\n",
      "7:\tlearn: 0.3862138\ttotal: 320ms\tremaining: 7.68s\n",
      "8:\tlearn: 0.3862137\ttotal: 328ms\tremaining: 6.97s\n",
      "9:\tlearn: 0.3727528\ttotal: 366ms\tremaining: 6.95s\n",
      "10:\tlearn: 0.3712432\ttotal: 402ms\tremaining: 6.9s\n",
      "11:\tlearn: 0.3704136\ttotal: 438ms\tremaining: 6.86s\n",
      "12:\tlearn: 0.3704135\ttotal: 449ms\tremaining: 6.46s\n",
      "13:\tlearn: 0.3671570\ttotal: 485ms\tremaining: 6.45s\n",
      "14:\tlearn: 0.3647838\ttotal: 512ms\tremaining: 6.31s\n",
      "15:\tlearn: 0.3624179\ttotal: 536ms\tremaining: 6.17s\n",
      "16:\tlearn: 0.3616467\ttotal: 557ms\tremaining: 6s\n",
      "17:\tlearn: 0.3615937\ttotal: 575ms\tremaining: 5.82s\n",
      "18:\tlearn: 0.3558131\ttotal: 614ms\tremaining: 5.85s\n",
      "19:\tlearn: 0.3520322\ttotal: 663ms\tremaining: 5.96s\n",
      "20:\tlearn: 0.3518735\ttotal: 684ms\tremaining: 5.83s\n",
      "21:\tlearn: 0.3432452\ttotal: 725ms\tremaining: 5.86s\n",
      "22:\tlearn: 0.3418495\ttotal: 763ms\tremaining: 5.87s\n",
      "23:\tlearn: 0.3305050\ttotal: 801ms\tremaining: 5.88s\n",
      "24:\tlearn: 0.3237492\ttotal: 843ms\tremaining: 5.9s\n",
      "25:\tlearn: 0.3190557\ttotal: 874ms\tremaining: 5.85s\n",
      "26:\tlearn: 0.3187648\ttotal: 905ms\tremaining: 5.8s\n",
      "27:\tlearn: 0.3160896\ttotal: 931ms\tremaining: 5.72s\n",
      "28:\tlearn: 0.3132169\ttotal: 956ms\tremaining: 5.63s\n",
      "29:\tlearn: 0.3125195\ttotal: 978ms\tremaining: 5.54s\n",
      "30:\tlearn: 0.3095920\ttotal: 1.01s\tremaining: 5.49s\n",
      "31:\tlearn: 0.3084839\ttotal: 1.03s\tremaining: 5.41s\n",
      "32:\tlearn: 0.3057500\ttotal: 1.06s\tremaining: 5.34s\n",
      "33:\tlearn: 0.3036981\ttotal: 1.09s\tremaining: 5.31s\n",
      "34:\tlearn: 0.2992185\ttotal: 1.11s\tremaining: 5.26s\n",
      "35:\tlearn: 0.2945759\ttotal: 1.14s\tremaining: 5.2s\n",
      "36:\tlearn: 0.2898241\ttotal: 1.17s\tremaining: 5.13s\n",
      "37:\tlearn: 0.2873720\ttotal: 1.19s\tremaining: 5.07s\n",
      "38:\tlearn: 0.2864313\ttotal: 1.21s\tremaining: 5.01s\n",
      "39:\tlearn: 0.2833365\ttotal: 1.24s\tremaining: 4.95s\n",
      "40:\tlearn: 0.2814800\ttotal: 1.26s\tremaining: 4.88s\n",
      "41:\tlearn: 0.2792831\ttotal: 1.28s\tremaining: 4.83s\n",
      "42:\tlearn: 0.2785084\ttotal: 1.31s\tremaining: 4.79s\n",
      "43:\tlearn: 0.2776705\ttotal: 1.33s\tremaining: 4.73s\n",
      "44:\tlearn: 0.2747205\ttotal: 1.36s\tremaining: 4.7s\n",
      "45:\tlearn: 0.2725953\ttotal: 1.41s\tremaining: 4.71s\n",
      "46:\tlearn: 0.2709703\ttotal: 1.44s\tremaining: 4.7s\n",
      "47:\tlearn: 0.2695577\ttotal: 1.49s\tremaining: 4.72s\n",
      "48:\tlearn: 0.2682072\ttotal: 1.52s\tremaining: 4.68s\n",
      "49:\tlearn: 0.2676781\ttotal: 1.55s\tremaining: 4.66s\n",
      "50:\tlearn: 0.2657121\ttotal: 1.59s\tremaining: 4.63s\n",
      "51:\tlearn: 0.2637393\ttotal: 1.62s\tremaining: 4.61s\n",
      "52:\tlearn: 0.2621281\ttotal: 1.65s\tremaining: 4.59s\n",
      "53:\tlearn: 0.2604351\ttotal: 1.69s\tremaining: 4.55s\n",
      "54:\tlearn: 0.2579999\ttotal: 1.71s\tremaining: 4.51s\n",
      "55:\tlearn: 0.2562475\ttotal: 1.74s\tremaining: 4.48s\n",
      "56:\tlearn: 0.2541051\ttotal: 1.76s\tremaining: 4.43s\n",
      "57:\tlearn: 0.2519474\ttotal: 1.79s\tremaining: 4.38s\n",
      "58:\tlearn: 0.2500823\ttotal: 1.81s\tremaining: 4.33s\n",
      "59:\tlearn: 0.2496306\ttotal: 1.83s\tremaining: 4.28s\n",
      "60:\tlearn: 0.2493947\ttotal: 1.85s\tremaining: 4.22s\n",
      "61:\tlearn: 0.2480430\ttotal: 1.88s\tremaining: 4.18s\n",
      "62:\tlearn: 0.2454439\ttotal: 1.9s\tremaining: 4.13s\n",
      "63:\tlearn: 0.2430887\ttotal: 1.93s\tremaining: 4.1s\n",
      "64:\tlearn: 0.2426674\ttotal: 1.95s\tremaining: 4.06s\n",
      "65:\tlearn: 0.2416090\ttotal: 1.98s\tremaining: 4.01s\n",
      "66:\tlearn: 0.2402438\ttotal: 2s\tremaining: 3.97s\n",
      "67:\tlearn: 0.2372972\ttotal: 2.02s\tremaining: 3.93s\n",
      "68:\tlearn: 0.2336818\ttotal: 2.04s\tremaining: 3.88s\n",
      "69:\tlearn: 0.2332532\ttotal: 2.07s\tremaining: 3.84s\n",
      "70:\tlearn: 0.2330509\ttotal: 2.1s\tremaining: 3.82s\n",
      "71:\tlearn: 0.2326466\ttotal: 2.13s\tremaining: 3.79s\n",
      "72:\tlearn: 0.2315313\ttotal: 2.17s\tremaining: 3.78s\n",
      "73:\tlearn: 0.2305580\ttotal: 2.21s\tremaining: 3.77s\n",
      "74:\tlearn: 0.2294018\ttotal: 2.25s\tremaining: 3.74s\n",
      "75:\tlearn: 0.2270313\ttotal: 2.29s\tremaining: 3.73s\n",
      "76:\tlearn: 0.2255919\ttotal: 2.33s\tremaining: 3.71s\n",
      "77:\tlearn: 0.2249224\ttotal: 2.37s\tremaining: 3.71s\n",
      "78:\tlearn: 0.2235779\ttotal: 2.4s\tremaining: 3.68s\n",
      "79:\tlearn: 0.2231378\ttotal: 2.42s\tremaining: 3.63s\n",
      "80:\tlearn: 0.2220757\ttotal: 2.44s\tremaining: 3.59s\n",
      "81:\tlearn: 0.2203055\ttotal: 2.47s\tremaining: 3.56s\n",
      "82:\tlearn: 0.2191699\ttotal: 2.49s\tremaining: 3.52s\n",
      "83:\tlearn: 0.2181467\ttotal: 2.52s\tremaining: 3.47s\n",
      "84:\tlearn: 0.2166640\ttotal: 2.55s\tremaining: 3.44s\n",
      "85:\tlearn: 0.2155638\ttotal: 2.57s\tremaining: 3.41s\n",
      "86:\tlearn: 0.2146673\ttotal: 2.59s\tremaining: 3.37s\n",
      "87:\tlearn: 0.2138403\ttotal: 2.62s\tremaining: 3.33s\n",
      "88:\tlearn: 0.2129166\ttotal: 2.64s\tremaining: 3.29s\n",
      "89:\tlearn: 0.2114389\ttotal: 2.66s\tremaining: 3.25s\n",
      "90:\tlearn: 0.2111264\ttotal: 2.68s\tremaining: 3.21s\n",
      "91:\tlearn: 0.2097873\ttotal: 2.71s\tremaining: 3.18s\n",
      "92:\tlearn: 0.2085342\ttotal: 2.73s\tremaining: 3.14s\n",
      "93:\tlearn: 0.2077491\ttotal: 2.75s\tremaining: 3.11s\n",
      "94:\tlearn: 0.2065242\ttotal: 2.78s\tremaining: 3.07s\n",
      "95:\tlearn: 0.2039062\ttotal: 2.8s\tremaining: 3.03s\n",
      "96:\tlearn: 0.2033414\ttotal: 2.83s\tremaining: 3s\n",
      "97:\tlearn: 0.2013780\ttotal: 2.85s\tremaining: 2.96s\n",
      "98:\tlearn: 0.2008521\ttotal: 2.87s\tremaining: 2.93s\n",
      "99:\tlearn: 0.1994414\ttotal: 2.89s\tremaining: 2.89s\n",
      "100:\tlearn: 0.1981554\ttotal: 2.92s\tremaining: 2.86s\n",
      "101:\tlearn: 0.1967411\ttotal: 2.94s\tremaining: 2.82s\n",
      "102:\tlearn: 0.1964201\ttotal: 2.97s\tremaining: 2.79s\n",
      "103:\tlearn: 0.1955254\ttotal: 2.99s\tremaining: 2.76s\n",
      "104:\tlearn: 0.1948559\ttotal: 3.01s\tremaining: 2.73s\n",
      "105:\tlearn: 0.1936941\ttotal: 3.04s\tremaining: 2.69s\n",
      "106:\tlearn: 0.1924416\ttotal: 3.06s\tremaining: 2.66s\n",
      "107:\tlearn: 0.1915635\ttotal: 3.08s\tremaining: 2.63s\n",
      "108:\tlearn: 0.1902070\ttotal: 3.11s\tremaining: 2.59s\n",
      "109:\tlearn: 0.1893752\ttotal: 3.13s\tremaining: 2.56s\n",
      "110:\tlearn: 0.1888594\ttotal: 3.16s\tremaining: 2.53s\n",
      "111:\tlearn: 0.1877613\ttotal: 3.18s\tremaining: 2.5s\n",
      "112:\tlearn: 0.1871592\ttotal: 3.21s\tremaining: 2.47s\n",
      "113:\tlearn: 0.1861312\ttotal: 3.23s\tremaining: 2.43s\n",
      "114:\tlearn: 0.1854475\ttotal: 3.25s\tremaining: 2.4s\n",
      "115:\tlearn: 0.1851062\ttotal: 3.27s\tremaining: 2.37s\n",
      "116:\tlearn: 0.1850691\ttotal: 3.3s\tremaining: 2.34s\n",
      "117:\tlearn: 0.1839719\ttotal: 3.32s\tremaining: 2.31s\n",
      "118:\tlearn: 0.1834608\ttotal: 3.34s\tremaining: 2.27s\n",
      "119:\tlearn: 0.1832397\ttotal: 3.37s\tremaining: 2.25s\n",
      "120:\tlearn: 0.1828535\ttotal: 3.39s\tremaining: 2.21s\n",
      "121:\tlearn: 0.1815932\ttotal: 3.42s\tremaining: 2.18s\n",
      "122:\tlearn: 0.1809346\ttotal: 3.44s\tremaining: 2.15s\n",
      "123:\tlearn: 0.1801089\ttotal: 3.46s\tremaining: 2.12s\n",
      "124:\tlearn: 0.1797216\ttotal: 3.48s\tremaining: 2.09s\n",
      "125:\tlearn: 0.1795384\ttotal: 3.5s\tremaining: 2.06s\n",
      "126:\tlearn: 0.1786954\ttotal: 3.52s\tremaining: 2.03s\n",
      "127:\tlearn: 0.1783531\ttotal: 3.55s\tremaining: 2s\n",
      "128:\tlearn: 0.1774519\ttotal: 3.58s\tremaining: 1.97s\n",
      "129:\tlearn: 0.1768291\ttotal: 3.6s\tremaining: 1.94s\n",
      "130:\tlearn: 0.1765185\ttotal: 3.62s\tremaining: 1.91s\n",
      "131:\tlearn: 0.1759372\ttotal: 3.65s\tremaining: 1.88s\n",
      "132:\tlearn: 0.1752543\ttotal: 3.67s\tremaining: 1.85s\n",
      "133:\tlearn: 0.1751806\ttotal: 3.69s\tremaining: 1.82s\n",
      "134:\tlearn: 0.1746251\ttotal: 3.71s\tremaining: 1.79s\n",
      "135:\tlearn: 0.1736507\ttotal: 3.73s\tremaining: 1.76s\n",
      "136:\tlearn: 0.1730058\ttotal: 3.76s\tremaining: 1.73s\n",
      "137:\tlearn: 0.1723123\ttotal: 3.78s\tremaining: 1.7s\n",
      "138:\tlearn: 0.1718483\ttotal: 3.81s\tremaining: 1.67s\n",
      "139:\tlearn: 0.1714910\ttotal: 3.84s\tremaining: 1.65s\n",
      "140:\tlearn: 0.1712791\ttotal: 3.87s\tremaining: 1.62s\n",
      "141:\tlearn: 0.1706546\ttotal: 3.91s\tremaining: 1.6s\n",
      "142:\tlearn: 0.1703139\ttotal: 3.94s\tremaining: 1.57s\n",
      "143:\tlearn: 0.1699862\ttotal: 3.98s\tremaining: 1.55s\n",
      "144:\tlearn: 0.1695087\ttotal: 4.02s\tremaining: 1.53s\n",
      "145:\tlearn: 0.1692012\ttotal: 4.08s\tremaining: 1.51s\n",
      "146:\tlearn: 0.1690700\ttotal: 4.11s\tremaining: 1.48s\n",
      "147:\tlearn: 0.1685305\ttotal: 4.15s\tremaining: 1.46s\n",
      "148:\tlearn: 0.1679009\ttotal: 4.18s\tremaining: 1.43s\n",
      "149:\tlearn: 0.1668055\ttotal: 4.21s\tremaining: 1.4s\n",
      "150:\tlearn: 0.1661715\ttotal: 4.25s\tremaining: 1.38s\n",
      "151:\tlearn: 0.1660403\ttotal: 4.27s\tremaining: 1.35s\n",
      "152:\tlearn: 0.1658903\ttotal: 4.29s\tremaining: 1.32s\n",
      "153:\tlearn: 0.1648818\ttotal: 4.32s\tremaining: 1.29s\n",
      "154:\tlearn: 0.1642299\ttotal: 4.34s\tremaining: 1.26s\n",
      "155:\tlearn: 0.1635923\ttotal: 4.36s\tremaining: 1.23s\n",
      "156:\tlearn: 0.1625720\ttotal: 4.38s\tremaining: 1.2s\n",
      "157:\tlearn: 0.1622165\ttotal: 4.4s\tremaining: 1.17s\n",
      "158:\tlearn: 0.1620305\ttotal: 4.43s\tremaining: 1.14s\n",
      "159:\tlearn: 0.1617955\ttotal: 4.46s\tremaining: 1.11s\n",
      "160:\tlearn: 0.1616358\ttotal: 4.49s\tremaining: 1.09s\n",
      "161:\tlearn: 0.1603946\ttotal: 4.51s\tremaining: 1.06s\n",
      "162:\tlearn: 0.1593353\ttotal: 4.54s\tremaining: 1.03s\n",
      "163:\tlearn: 0.1588711\ttotal: 4.56s\tremaining: 1s\n",
      "164:\tlearn: 0.1578129\ttotal: 4.59s\tremaining: 973ms\n",
      "165:\tlearn: 0.1573486\ttotal: 4.62s\tremaining: 946ms\n"
     ]
    },
    {
     "name": "stdout",
     "output_type": "stream",
     "text": [
      "166:\tlearn: 0.1567121\ttotal: 4.66s\tremaining: 921ms\n",
      "167:\tlearn: 0.1563260\ttotal: 4.7s\tremaining: 895ms\n",
      "168:\tlearn: 0.1561161\ttotal: 4.73s\tremaining: 868ms\n",
      "169:\tlearn: 0.1554372\ttotal: 4.76s\tremaining: 840ms\n",
      "170:\tlearn: 0.1551107\ttotal: 4.79s\tremaining: 812ms\n",
      "171:\tlearn: 0.1548637\ttotal: 4.82s\tremaining: 784ms\n",
      "172:\tlearn: 0.1537972\ttotal: 4.84s\tremaining: 756ms\n",
      "173:\tlearn: 0.1535759\ttotal: 4.87s\tremaining: 728ms\n",
      "174:\tlearn: 0.1533309\ttotal: 4.89s\tremaining: 699ms\n",
      "175:\tlearn: 0.1527687\ttotal: 4.92s\tremaining: 671ms\n",
      "176:\tlearn: 0.1522974\ttotal: 4.95s\tremaining: 643ms\n",
      "177:\tlearn: 0.1507723\ttotal: 4.97s\tremaining: 615ms\n",
      "178:\tlearn: 0.1499769\ttotal: 5.01s\tremaining: 588ms\n",
      "179:\tlearn: 0.1496876\ttotal: 5.04s\tremaining: 560ms\n",
      "180:\tlearn: 0.1486160\ttotal: 5.07s\tremaining: 532ms\n",
      "181:\tlearn: 0.1482766\ttotal: 5.09s\tremaining: 503ms\n",
      "182:\tlearn: 0.1477328\ttotal: 5.11s\tremaining: 475ms\n",
      "183:\tlearn: 0.1468764\ttotal: 5.14s\tremaining: 447ms\n",
      "184:\tlearn: 0.1462415\ttotal: 5.22s\tremaining: 423ms\n",
      "185:\tlearn: 0.1456926\ttotal: 5.28s\tremaining: 397ms\n",
      "186:\tlearn: 0.1455158\ttotal: 5.32s\tremaining: 370ms\n",
      "187:\tlearn: 0.1446011\ttotal: 5.36s\tremaining: 342ms\n",
      "188:\tlearn: 0.1443126\ttotal: 5.4s\tremaining: 314ms\n",
      "189:\tlearn: 0.1433596\ttotal: 5.44s\tremaining: 286ms\n",
      "190:\tlearn: 0.1432875\ttotal: 5.47s\tremaining: 258ms\n",
      "191:\tlearn: 0.1424972\ttotal: 5.51s\tremaining: 229ms\n",
      "192:\tlearn: 0.1421347\ttotal: 5.53s\tremaining: 201ms\n",
      "193:\tlearn: 0.1413177\ttotal: 5.57s\tremaining: 172ms\n",
      "194:\tlearn: 0.1406068\ttotal: 5.59s\tremaining: 143ms\n",
      "195:\tlearn: 0.1402462\ttotal: 5.63s\tremaining: 115ms\n",
      "196:\tlearn: 0.1394257\ttotal: 5.68s\tremaining: 86.4ms\n",
      "197:\tlearn: 0.1388504\ttotal: 5.71s\tremaining: 57.7ms\n",
      "198:\tlearn: 0.1386756\ttotal: 5.74s\tremaining: 28.8ms\n",
      "199:\tlearn: 0.1384507\ttotal: 5.76s\tremaining: 0us\n"
     ]
    },
    {
     "data": {
      "text/plain": [
       "<catboost.core.CatBoostClassifier at 0x1bbb4c78a60>"
      ]
     },
     "execution_count": 116,
     "metadata": {},
     "output_type": "execute_result"
    }
   ],
   "source": [
    "cbc_model.fit(features_train_boost, target_train_boost, cat_features=categorial)"
   ]
  },
  {
   "cell_type": "markdown",
   "id": "c2cf2ba5",
   "metadata": {},
   "source": [
    "#### График важности признаков для лучшей модели"
   ]
  },
  {
   "cell_type": "code",
   "execution_count": 117,
   "id": "3bb556b7",
   "metadata": {},
   "outputs": [
    {
     "data": {
      "image/png": "[encoded data removed]",
      "text/plain": [
       "<Figure size 720x360 with 1 Axes>"
      ]
     },
     "metadata": {
      "needs_background": "light"
     },
     "output_type": "display_data"
    }
   ],
   "source": [
    "feature_importances = cbc_model.get_feature_importance(prettified=True)\n",
    "\n",
    "plt.figure(figsize=(10, 5));\n",
    "sns.barplot(x=\"Importances\", y=\"Feature Id\", data=feature_importances);\n",
    "plt.title('Важность признаков модели CatBoostClassifier');"
   ]
  },
  {
   "cell_type": "markdown",
   "id": "6baa67e0",
   "metadata": {},
   "source": [
    "- Модель определила самые важные признаки - duration (длительность контракта с клиентом)\n",
    "- Следующий по важности фактор MonthlyCharges – ежемесячные траты на услуги\n",
    "- Третий по важности фактор - type (two year) - тип оплаты: ежемесячный, годовой и тд"
   ]
  },
  {
   "cell_type": "markdown",
   "id": "a0643411",
   "metadata": {},
   "source": [
    "### Вывод\n",
    "\n",
    "- Модель: **CatBoostClassifier**\n",
    "- Время обучения: **5.879**\n",
    "- Скорость предсказания: **0.011 c**\n",
    "- Метрика roc_auc: **0.913**\n",
    "\n",
    "По условиям задачи значение метрики roc_auc должно быть не меньше 0,75. Модель **model_cbc** построенная при помощи градиентного бустинга CatBoostClassifier нам подходит, поскольку удовлетворяет условиям задачи. Из всех моделей по показателям метрики roc_auc оказалась лучшей, поэтому на ней будем проводить тестирование."
   ]
  },
  {
   "cell_type": "markdown",
   "id": "d242956d",
   "metadata": {},
   "source": [
    "Наблюдаем, что метрика roc_auc_score для DummyClassifier оказалась значительно хуже, чем у остальных моделей."
   ]
  },
  {
   "cell_type": "markdown",
   "id": "886de51f",
   "metadata": {},
   "source": [
    "### Тестирование "
   ]
  },
  {
   "cell_type": "code",
   "execution_count": 118,
   "id": "a32ba4fe",
   "metadata": {},
   "outputs": [
    {
     "data": {
      "text/html": [
       "<div>\n",
       "<style scoped>\n",
       "    .dataframe tbody tr th:only-of-type {\n",
       "        vertical-align: middle;\n",
       "    }\n",
       "\n",
       "    .dataframe tbody tr th {\n",
       "        vertical-align: top;\n",
       "    }\n",
       "\n",
       "    .dataframe thead th {\n",
       "        text-align: right;\n",
       "    }\n",
       "</style>\n",
       "<table border=\"1\" class=\"dataframe\">\n",
       "  <thead>\n",
       "    <tr style=\"text-align: right;\">\n",
       "      <th></th>\n",
       "      <th>type_One year</th>\n",
       "      <th>type_Two year</th>\n",
       "      <th>paperless_billing_Yes</th>\n",
       "      <th>payment_method_Credit card (automatic)</th>\n",
       "      <th>payment_method_Electronic check</th>\n",
       "      <th>payment_method_Mailed check</th>\n",
       "      <th>internet_service_Fiber optic</th>\n",
       "      <th>internet_service_No</th>\n",
       "      <th>online_security_Yes</th>\n",
       "      <th>online_backup_Yes</th>\n",
       "      <th>...</th>\n",
       "      <th>tech_support_Yes</th>\n",
       "      <th>streaming_tv_Yes</th>\n",
       "      <th>streaming_movies_Yes</th>\n",
       "      <th>gender_Male</th>\n",
       "      <th>senior_citizen_1</th>\n",
       "      <th>partner_Yes</th>\n",
       "      <th>dependents_Yes</th>\n",
       "      <th>multiple_lines_Yes</th>\n",
       "      <th>monthly_charges</th>\n",
       "      <th>duration</th>\n",
       "    </tr>\n",
       "  </thead>\n",
       "  <tbody>\n",
       "    <tr>\n",
       "      <th>176</th>\n",
       "      <td>0.0</td>\n",
       "      <td>0.0</td>\n",
       "      <td>1.0</td>\n",
       "      <td>0.0</td>\n",
       "      <td>0.0</td>\n",
       "      <td>1.0</td>\n",
       "      <td>1.0</td>\n",
       "      <td>0.0</td>\n",
       "      <td>0.0</td>\n",
       "      <td>0.0</td>\n",
       "      <td>...</td>\n",
       "      <td>0.0</td>\n",
       "      <td>0.0</td>\n",
       "      <td>0.0</td>\n",
       "      <td>0.0</td>\n",
       "      <td>1.0</td>\n",
       "      <td>0.0</td>\n",
       "      <td>0.0</td>\n",
       "      <td>1.0</td>\n",
       "      <td>0.344267</td>\n",
       "      <td>-0.697765</td>\n",
       "    </tr>\n",
       "    <tr>\n",
       "      <th>5084</th>\n",
       "      <td>1.0</td>\n",
       "      <td>0.0</td>\n",
       "      <td>0.0</td>\n",
       "      <td>0.0</td>\n",
       "      <td>0.0</td>\n",
       "      <td>0.0</td>\n",
       "      <td>0.0</td>\n",
       "      <td>1.0</td>\n",
       "      <td>0.0</td>\n",
       "      <td>0.0</td>\n",
       "      <td>...</td>\n",
       "      <td>0.0</td>\n",
       "      <td>0.0</td>\n",
       "      <td>0.0</td>\n",
       "      <td>0.0</td>\n",
       "      <td>0.0</td>\n",
       "      <td>1.0</td>\n",
       "      <td>1.0</td>\n",
       "      <td>0.0</td>\n",
       "      <td>-1.445184</td>\n",
       "      <td>-0.410632</td>\n",
       "    </tr>\n",
       "    <tr>\n",
       "      <th>3412</th>\n",
       "      <td>0.0</td>\n",
       "      <td>1.0</td>\n",
       "      <td>0.0</td>\n",
       "      <td>0.0</td>\n",
       "      <td>0.0</td>\n",
       "      <td>1.0</td>\n",
       "      <td>0.0</td>\n",
       "      <td>0.0</td>\n",
       "      <td>1.0</td>\n",
       "      <td>1.0</td>\n",
       "      <td>...</td>\n",
       "      <td>1.0</td>\n",
       "      <td>0.0</td>\n",
       "      <td>0.0</td>\n",
       "      <td>1.0</td>\n",
       "      <td>0.0</td>\n",
       "      <td>1.0</td>\n",
       "      <td>1.0</td>\n",
       "      <td>0.0</td>\n",
       "      <td>-0.153913</td>\n",
       "      <td>-1.227753</td>\n",
       "    </tr>\n",
       "    <tr>\n",
       "      <th>4649</th>\n",
       "      <td>0.0</td>\n",
       "      <td>1.0</td>\n",
       "      <td>1.0</td>\n",
       "      <td>1.0</td>\n",
       "      <td>0.0</td>\n",
       "      <td>0.0</td>\n",
       "      <td>1.0</td>\n",
       "      <td>0.0</td>\n",
       "      <td>1.0</td>\n",
       "      <td>1.0</td>\n",
       "      <td>...</td>\n",
       "      <td>1.0</td>\n",
       "      <td>1.0</td>\n",
       "      <td>1.0</td>\n",
       "      <td>1.0</td>\n",
       "      <td>0.0</td>\n",
       "      <td>1.0</td>\n",
       "      <td>0.0</td>\n",
       "      <td>1.0</td>\n",
       "      <td>1.493915</td>\n",
       "      <td>1.628815</td>\n",
       "    </tr>\n",
       "    <tr>\n",
       "      <th>6482</th>\n",
       "      <td>0.0</td>\n",
       "      <td>0.0</td>\n",
       "      <td>1.0</td>\n",
       "      <td>0.0</td>\n",
       "      <td>1.0</td>\n",
       "      <td>0.0</td>\n",
       "      <td>1.0</td>\n",
       "      <td>0.0</td>\n",
       "      <td>0.0</td>\n",
       "      <td>0.0</td>\n",
       "      <td>...</td>\n",
       "      <td>0.0</td>\n",
       "      <td>1.0</td>\n",
       "      <td>1.0</td>\n",
       "      <td>1.0</td>\n",
       "      <td>0.0</td>\n",
       "      <td>0.0</td>\n",
       "      <td>0.0</td>\n",
       "      <td>1.0</td>\n",
       "      <td>1.243992</td>\n",
       "      <td>-1.270689</td>\n",
       "    </tr>\n",
       "  </tbody>\n",
       "</table>\n",
       "<p>5 rows × 21 columns</p>\n",
       "</div>"
      ],
      "text/plain": [
       "      type_One year  type_Two year  paperless_billing_Yes  \\\n",
       "176             0.0            0.0                    1.0   \n",
       "5084            1.0            0.0                    0.0   \n",
       "3412            0.0            1.0                    0.0   \n",
       "4649            0.0            1.0                    1.0   \n",
       "6482            0.0            0.0                    1.0   \n",
       "\n",
       "      payment_method_Credit card (automatic)  payment_method_Electronic check  \\\n",
       "176                                      0.0                              0.0   \n",
       "5084                                     0.0                              0.0   \n",
       "3412                                     0.0                              0.0   \n",
       "4649                                     1.0                              0.0   \n",
       "6482                                     0.0                              1.0   \n",
       "\n",
       "      payment_method_Mailed check  internet_service_Fiber optic  \\\n",
       "176                           1.0                           1.0   \n",
       "5084                          0.0                           0.0   \n",
       "3412                          1.0                           0.0   \n",
       "4649                          0.0                           1.0   \n",
       "6482                          0.0                           1.0   \n",
       "\n",
       "      internet_service_No  online_security_Yes  online_backup_Yes  ...  \\\n",
       "176                   0.0                  0.0                0.0  ...   \n",
       "5084                  1.0                  0.0                0.0  ...   \n",
       "3412                  0.0                  1.0                1.0  ...   \n",
       "4649                  0.0                  1.0                1.0  ...   \n",
       "6482                  0.0                  0.0                0.0  ...   \n",
       "\n",
       "      tech_support_Yes  streaming_tv_Yes  streaming_movies_Yes  gender_Male  \\\n",
       "176                0.0               0.0                   0.0          0.0   \n",
       "5084               0.0               0.0                   0.0          0.0   \n",
       "3412               1.0               0.0                   0.0          1.0   \n",
       "4649               1.0               1.0                   1.0          1.0   \n",
       "6482               0.0               1.0                   1.0          1.0   \n",
       "\n",
       "      senior_citizen_1  partner_Yes  dependents_Yes  multiple_lines_Yes  \\\n",
       "176                1.0          0.0             0.0                 1.0   \n",
       "5084               0.0          1.0             1.0                 0.0   \n",
       "3412               0.0          1.0             1.0                 0.0   \n",
       "4649               0.0          1.0             0.0                 1.0   \n",
       "6482               0.0          0.0             0.0                 1.0   \n",
       "\n",
       "      monthly_charges  duration  \n",
       "176          0.344267 -0.697765  \n",
       "5084        -1.445184 -0.410632  \n",
       "3412        -0.153913 -1.227753  \n",
       "4649         1.493915  1.628815  \n",
       "6482         1.243992 -1.270689  \n",
       "\n",
       "[5 rows x 21 columns]"
      ]
     },
     "execution_count": 118,
     "metadata": {},
     "output_type": "execute_result"
    }
   ],
   "source": [
    "result_test = enc.transform(features_test_boost[categorial])\n",
    "\n",
    "result_test = pd.DataFrame(result_test, columns=enc.get_feature_names(categorial), index=features_test_boost.index)\n",
    "result_test = result_test.join(features_test_boost[numeric])\n",
    "result_test.head()"
   ]
  },
  {
   "cell_type": "code",
   "execution_count": 119,
   "id": "a71bc6ac",
   "metadata": {},
   "outputs": [
    {
     "name": "stdout",
     "output_type": "stream",
     "text": [
      "Wall time: 13 ms\n"
     ]
    }
   ],
   "source": [
    "%%time\n",
    "predictions_cbc = grid_cbc.predict(features_test_lr)"
   ]
  },
  {
   "cell_type": "code",
   "execution_count": 120,
   "id": "824f1482",
   "metadata": {},
   "outputs": [
    {
     "name": "stdout",
     "output_type": "stream",
     "text": [
      "accuracy_test на тестовой выборке: 0.873\n"
     ]
    }
   ],
   "source": [
    "accuracy_test = accuracy_score(predictions_cbc, target_test_lr)\n",
    "print('accuracy_test на тестовой выборке:', accuracy_test.round(3))"
   ]
  },
  {
   "cell_type": "code",
   "execution_count": 121,
   "id": "a8401088",
   "metadata": {},
   "outputs": [],
   "source": [
    "predictions_cbc_test = cbc_model.predict_proba(features_test_lr)"
   ]
  },
  {
   "cell_type": "code",
   "execution_count": 122,
   "id": "0e29b90b",
   "metadata": {},
   "outputs": [],
   "source": [
    "probabilities_valid = cbc_model.predict_proba(features_test_lr)\n",
    "probabilities_one_valid = probabilities_valid[:, 1]"
   ]
  },
  {
   "cell_type": "code",
   "execution_count": 123,
   "id": "9a126c6b",
   "metadata": {
    "scrolled": true
   },
   "outputs": [
    {
     "data": {
      "image/png": "[encoded data removed]",
      "text/plain": [
       "<Figure size 432x288 with 1 Axes>"
      ]
     },
     "metadata": {
      "needs_background": "light"
     },
     "output_type": "display_data"
    }
   ],
   "source": [
    "fpr, tpr, thresholds = roc_curve(target_test_lr, probabilities_one_valid)\n",
    "\n",
    "plt.figure()\n",
    "\n",
    "# ROC-кривая случайной модели (выглядит как прямая)\n",
    "plt.plot([0, 1], [0, 1], linestyle='--')\n",
    "plt.plot(fpr, tpr)\n",
    "\n",
    "#   установить границы осей от 0 до 1 >\n",
    "plt.xlim([0.0, 1.0])\n",
    "plt.ylim([0.0, 1.0])\n",
    "\n",
    "plt.xlabel('False Positive Rate')\n",
    "plt.ylabel('True Positive Rate')\n",
    "\n",
    "plt.title('ROC-кривая')\n",
    "plt.show()"
   ]
  },
  {
   "cell_type": "code",
   "execution_count": 124,
   "id": "3a271698",
   "metadata": {},
   "outputs": [
    {
     "name": "stdout",
     "output_type": "stream",
     "text": [
      "Метрика roc_auc_score модели CatBoostClassifier на тестовой выборке:\n"
     ]
    }
   ],
   "source": [
    "print('Метрика roc_auc_score модели CatBoostClassifier на тестовой выборке:')"
   ]
  },
  {
   "cell_type": "code",
   "execution_count": 125,
   "id": "9aa67bcc",
   "metadata": {
    "scrolled": false
   },
   "outputs": [
    {
     "name": "stdout",
     "output_type": "stream",
     "text": [
      "0.921818811081629\n"
     ]
    }
   ],
   "source": [
    "auc_roc = roc_auc_score(target_test_lr, probabilities_one_valid)\n",
    "\n",
    "print(auc_roc)"
   ]
  },
  {
   "cell_type": "markdown",
   "id": "5ef1405c",
   "metadata": {},
   "source": [
    "### Проверка DummyClassifier"
   ]
  },
  {
   "cell_type": "code",
   "execution_count": 126,
   "id": "54f7ffd2",
   "metadata": {},
   "outputs": [
    {
     "name": "stdout",
     "output_type": "stream",
     "text": [
      "roc_auc_score DummyClassifier на тестовой выборке: 0.4992633122929611\n"
     ]
    }
   ],
   "source": [
    "from sklearn.dummy import DummyClassifier\n",
    "\n",
    "dummy = DummyClassifier(strategy='stratified')\n",
    "\n",
    "dummy.fit(features_train_lr, target_train_lr)\n",
    "\n",
    "predictions_dummy = dummy.predict(features_test_lr)\n",
    "\n",
    "roc_auc_score = roc_auc_score(target_test_lr, predictions_dummy)\n",
    "\n",
    "print('roc_auc_score DummyClassifier на тестовой выборке:', roc_auc_score)"
   ]
  },
  {
   "cell_type": "markdown",
   "id": "7a3ecb5d",
   "metadata": {},
   "source": [
    "### Выводы"
   ]
  },
  {
   "cell_type": "markdown",
   "id": "7469993c",
   "metadata": {},
   "source": [
    "- В проектной работе открыты, проанализированы данные, произведена проверка на наличие дубликатов, пропуски и дисбаланс классов\n",
    "- Исходные таблицы сведены в одну, убраны пропуски, изменены типы данных\n",
    "- Проведен исследовательский анализ данных.\n",
    "- Таблица содержит в себе контракты начиная с октября 2013 года до февраля 2020.\n",
    "- В конце 2019 года происходил массовый отток клиентов 4 месяца подряд.\n",
    "- Половина клиентов(55 %) платят за услуги ежемесячно, вторая половина(24% и 21 %) заключила договор на 1-2 года.\n",
    "- 59% клиентов предпочитают безналичный расчет.\n",
    "- Ежемесячные траты на услуги доходят до 118 единиц, минимум 18,25.\n",
    "- 27 % клиентов перестали пользоваться услугами компании.\n",
    "- Обработаны признаки с помощью OneHotEncoder, StandardScaler\n",
    "- Удалены лишние для машинного обучения столбцы ('customer_id', 'begin_date', 'end_date', 'total_charges')\n",
    "- Обучены модели LogisticRegression, CatBoostClassifier, LGBMClassifier.\n",
    "- Произведена проверка DummyClassifier\n",
    "- Лучшие результаты метрики roc_auc = 0.91 и accuracy = 0.873 у CatBoostClassifier\n",
    "- Лучшие параметры CatBoostClassifier: {'depth': 5, 'iterations': 200, 'learning_rate': 0.5}\n",
    "- Модель определила самые важные признаки - duration (длительность контракта с клиентом)\n",
    "- Следующий по важности фактор MonthlyCharges – ежемесячные траты на услуги\n",
    "- Третий по важности фактор - type (two year) - тип оплаты: ежемесячный, годовой и тд"
   ]
  },
  {
   "cell_type": "markdown",
   "id": "edbdaff6",
   "metadata": {},
   "source": [
    "### Отчёт"
   ]
  },
  {
   "cell_type": "markdown",
   "id": "30a9f57b",
   "metadata": {},
   "source": [
    "#### Какие пункты плана были выполнены, а какие — нет (поясните почему)?"
   ]
  },
  {
   "cell_type": "markdown",
   "id": "7c664ddb",
   "metadata": {},
   "source": [
    "Все пункты плана были выполнены."
   ]
  },
  {
   "cell_type": "markdown",
   "id": "38ea95f8",
   "metadata": {},
   "source": [
    "#### Исследовательский анализ данных\n",
    "- Первичное знакомство / загрузка данных\n",
    "- Информация о договоре – contract\n",
    "- Тип оплаты: ежемесячный, годовой и двухгодовой\n",
    "- Безналичный расчет\n",
    "- Способ оплаты\n",
    "- Eжемесячные траты на услуги monthly_charges\n",
    "- Всего потрачено денег на услуги total_charges\n",
    "- Информация об интернет-услугах – internet\n",
    "- Персональные данные клиента – personal\n",
    "- Информация об услугах телефонии – phone\n",
    "- Объединение таблиц\n",
    "- Целевой признак exited\n",
    "- Работа с пропусками\n",
    "- Исследовательский анализ данных\n",
    "#### Моделирование\n",
    "- Подготовка признаков\n",
    "- Разбиение данных на выборки\n",
    "- Масштабирование признаков StandardScaler\n",
    "- Преобразование признаков с помощью OHE\n",
    "- LogisticRegression\n",
    "- LGBMClassifier\n",
    "- Модель бустинга CatBoostClassifier\n",
    "- График важности признаков для лучшей модели\n",
    "#### Тестирование\n",
    "- Проверка DummyClassifier"
   ]
  },
  {
   "cell_type": "markdown",
   "id": "e143cd72",
   "metadata": {},
   "source": [
    "#### Какие трудности возникли и как вы их преодолели?"
   ]
  },
  {
   "cell_type": "markdown",
   "id": "a240b85c",
   "metadata": {},
   "source": [
    "- Возникала ошибка TypeError: 'numpy.float64' object is not callable при вычислении roc_auc_score() .\n",
    "- roc_curve была построена некорректно\n",
    "- По всей видимости ошибка возникала потому, что некорректно обработанные данные подавал в модель и в roc_auc_score\n",
    "- Изучение теории в тренажере для построения roc_curve "
   ]
  },
  {
   "cell_type": "markdown",
   "id": "cdc7117f",
   "metadata": {},
   "source": [
    "#### Какие ключевые шаги в решении задачи выделили?"
   ]
  },
  {
   "cell_type": "markdown",
   "id": "6367f364",
   "metadata": {},
   "source": [
    "- Составление плана работ\n",
    "- Исследовательский анализ данных\n",
    "    - Первичное знакомство / загрузка данных\n",
    "    - Сборка единой таблицы\n",
    "    - Извлечение целевого признака\n",
    "    - Получение нового признака\n",
    "    - Анализ корреляции между признаками\n",
    "- Моделирование \n",
    "    - Подготовка признаков(удаление лишних)\n",
    "    - Разбиение данных на выборки\n",
    "    - Масштабирование признаков StandardScaler\n",
    "    - Преобразование признаков с помощью OHE\n",
    "    - Оптимизация гиперпараметров моделей\n",
    "    - Анализ важности признаков лучших моделей\n",
    "    - Выбор и тестирование лучшей модели;\n",
    "    - Проверка DummyClassifier\n",
    "- Составление вывода."
   ]
  },
  {
   "cell_type": "markdown",
   "id": "deb4d099",
   "metadata": {},
   "source": [
    "#### Какая ваша итоговая модель и какое у неё качество?"
   ]
  },
  {
   "cell_type": "markdown",
   "id": "de7f081a",
   "metadata": {},
   "source": [
    "- Лучшая модель CatBoostClassifier model_cbc = CatBoostClassifier(loss_function='Logloss', random_state=121222)\n",
    "\n",
    "- Лучшие параметры модели CatBoostClassifier: best_params_cbc = [{'learning_rate': [0.5],\n",
    "                    'depth': [5],\n",
    "                   'iterations': [200]}]\n",
    "- Для поиска лучших гиперпараметров был использован готовый алгоритм GridSearchCV.\n",
    "\n",
    "- grid_cbc = GridSearchCV(model_cbc, \n",
    "                        best_params_cbc, \n",
    "                        cv = 5, \n",
    "                        verbose = 0, \n",
    "                        n_jobs=-1,\n",
    "                        scoring='roc_auc')\n",
    "- Лучшие гиперпараметры выбраны параметром grid_cbc.best_params_\n",
    "- Модель обучалась на обучающей выборке features_train, target_train, test_size=0.25 (25% данных оставлены для тестовой выборки), также для обучения были указаны все категориальные признаки cat_features=categorial\n",
    "- Лучшие результаты метрики roc_auc_score = 0.91 и accuracy = 0.87"
   ]
  }
 ],
 "metadata": {
  "ExecuteTimeLog": [
   {
    "duration": 2142,
    "start_time": "2022-09-07T07:23:55.996Z"
   },
   {
    "duration": 164,
    "start_time": "2022-09-07T07:23:58.140Z"
   },
   {
    "duration": 25,
    "start_time": "2022-09-07T07:23:58.306Z"
   },
   {
    "duration": 16,
    "start_time": "2022-09-07T07:23:58.335Z"
   },
   {
    "duration": 11,
    "start_time": "2022-09-07T07:23:58.353Z"
   },
   {
    "duration": 8,
    "start_time": "2022-09-07T07:23:58.366Z"
   },
   {
    "duration": 34,
    "start_time": "2022-09-07T07:23:58.375Z"
   },
   {
    "duration": 11,
    "start_time": "2022-09-07T07:23:58.417Z"
   },
   {
    "duration": 9,
    "start_time": "2022-09-07T07:23:58.432Z"
   },
   {
    "duration": 7,
    "start_time": "2022-09-07T07:23:58.443Z"
   },
   {
    "duration": 12,
    "start_time": "2022-09-07T07:23:58.451Z"
   },
   {
    "duration": 448,
    "start_time": "2022-09-07T07:23:58.465Z"
   },
   {
    "duration": 21,
    "start_time": "2022-09-07T07:23:58.915Z"
   },
   {
    "duration": 8,
    "start_time": "2022-09-07T07:23:58.938Z"
   },
   {
    "duration": 6,
    "start_time": "2022-09-07T07:23:58.948Z"
   },
   {
    "duration": 65,
    "start_time": "2022-09-07T07:23:58.956Z"
   },
   {
    "duration": 93,
    "start_time": "2022-09-07T07:23:59.023Z"
   },
   {
    "duration": 128,
    "start_time": "2022-09-07T07:23:59.118Z"
   },
   {
    "duration": 188,
    "start_time": "2022-09-07T07:23:59.306Z"
   },
   {
    "duration": 31,
    "start_time": "2022-09-07T07:23:59.495Z"
   },
   {
    "duration": 88,
    "start_time": "2022-09-07T07:23:59.537Z"
   },
   {
    "duration": 3147,
    "start_time": "2022-10-02T11:35:35.292Z"
   },
   {
    "duration": 1803,
    "start_time": "2022-10-02T11:35:38.441Z"
   },
   {
    "duration": 17,
    "start_time": "2022-10-02T11:35:40.245Z"
   },
   {
    "duration": 140,
    "start_time": "2022-10-02T11:35:40.265Z"
   },
   {
    "duration": 5,
    "start_time": "2022-10-02T11:35:40.406Z"
   },
   {
    "duration": 8,
    "start_time": "2022-10-02T11:35:40.413Z"
   },
   {
    "duration": 436,
    "start_time": "2022-10-02T11:35:40.433Z"
   },
   {
    "duration": 528,
    "start_time": "2022-10-02T11:35:40.870Z"
   },
   {
    "duration": 124,
    "start_time": "2022-10-02T11:35:41.400Z"
   },
   {
    "duration": 102,
    "start_time": "2022-10-02T11:35:41.533Z"
   },
   {
    "duration": 182,
    "start_time": "2022-10-02T11:35:41.637Z"
   },
   {
    "duration": 35,
    "start_time": "2022-10-02T11:35:41.821Z"
   },
   {
    "duration": 3,
    "start_time": "2022-10-02T11:35:41.858Z"
   },
   {
    "duration": 71,
    "start_time": "2022-10-02T11:35:41.862Z"
   },
   {
    "duration": 127,
    "start_time": "2022-10-02T11:35:41.935Z"
   },
   {
    "duration": 13,
    "start_time": "2022-10-02T11:35:42.064Z"
   },
   {
    "duration": 85,
    "start_time": "2022-10-02T11:35:42.078Z"
   },
   {
    "duration": 612,
    "start_time": "2022-10-02T11:35:42.165Z"
   },
   {
    "duration": 219,
    "start_time": "2022-10-02T11:35:42.778Z"
   },
   {
    "duration": 37,
    "start_time": "2022-10-02T11:35:42.998Z"
   },
   {
    "duration": 26,
    "start_time": "2022-10-02T11:35:43.037Z"
   },
   {
    "duration": 105,
    "start_time": "2022-10-02T11:35:43.065Z"
   },
   {
    "duration": 377,
    "start_time": "2022-10-02T11:35:43.172Z"
   },
   {
    "duration": 3,
    "start_time": "2022-10-02T11:35:43.552Z"
   },
   {
    "duration": 243,
    "start_time": "2022-10-02T11:35:43.557Z"
   },
   {
    "duration": 41,
    "start_time": "2022-10-02T11:35:43.801Z"
   },
   {
    "duration": 33,
    "start_time": "2022-10-02T11:35:43.844Z"
   },
   {
    "duration": 30,
    "start_time": "2022-10-02T11:35:43.882Z"
   },
   {
    "duration": 31,
    "start_time": "2022-10-02T11:35:43.914Z"
   },
   {
    "duration": 36,
    "start_time": "2022-10-02T11:35:43.947Z"
   },
   {
    "duration": 32,
    "start_time": "2022-10-02T11:35:43.985Z"
   },
   {
    "duration": 21,
    "start_time": "2022-10-02T11:35:44.018Z"
   },
   {
    "duration": 9,
    "start_time": "2022-10-02T11:35:44.041Z"
   },
   {
    "duration": 7,
    "start_time": "2022-10-02T11:35:44.052Z"
   },
   {
    "duration": 28,
    "start_time": "2022-10-02T11:35:44.060Z"
   },
   {
    "duration": 305,
    "start_time": "2022-10-02T11:35:44.089Z"
   },
   {
    "duration": 75,
    "start_time": "2022-10-02T11:35:44.396Z"
   },
   {
    "duration": 281,
    "start_time": "2022-10-02T11:35:44.472Z"
   },
   {
    "duration": 320,
    "start_time": "2022-10-02T11:35:44.754Z"
   },
   {
    "duration": 8,
    "start_time": "2022-10-02T11:35:45.076Z"
   },
   {
    "duration": 18,
    "start_time": "2022-10-02T11:35:45.086Z"
   },
   {
    "duration": 38,
    "start_time": "2022-10-02T11:35:45.105Z"
   },
   {
    "duration": 24,
    "start_time": "2022-10-02T11:35:45.144Z"
   },
   {
    "duration": 267,
    "start_time": "2022-10-02T11:35:45.170Z"
   },
   {
    "duration": 311,
    "start_time": "2022-10-02T11:35:45.438Z"
   },
   {
    "duration": 5,
    "start_time": "2022-10-02T11:35:45.751Z"
   },
   {
    "duration": 156,
    "start_time": "2022-10-02T11:35:45.757Z"
   },
   {
    "duration": 2,
    "start_time": "2022-10-02T11:35:45.915Z"
   },
   {
    "duration": 22,
    "start_time": "2022-10-02T11:35:45.919Z"
   },
   {
    "duration": 42,
    "start_time": "2022-10-02T11:35:45.943Z"
   },
   {
    "duration": 12,
    "start_time": "2022-10-02T11:35:45.987Z"
   },
   {
    "duration": 6,
    "start_time": "2022-10-02T11:35:46.000Z"
   },
   {
    "duration": 167,
    "start_time": "2022-10-02T11:35:46.007Z"
   },
   {
    "duration": 31,
    "start_time": "2022-10-02T11:37:13.831Z"
   },
   {
    "duration": 13,
    "start_time": "2022-10-02T11:37:14.212Z"
   },
   {
    "duration": 2,
    "start_time": "2022-10-02T11:37:14.771Z"
   },
   {
    "duration": 156,
    "start_time": "2022-10-02T11:37:15.670Z"
   },
   {
    "duration": 3,
    "start_time": "2022-10-02T11:37:23.008Z"
   },
   {
    "duration": 1206,
    "start_time": "2022-10-02T11:37:23.816Z"
   },
   {
    "duration": 2675,
    "start_time": "2022-10-02T11:37:33.462Z"
   },
   {
    "duration": 2463,
    "start_time": "2022-12-11T18:34:10.094Z"
   },
   {
    "duration": 88495,
    "start_time": "2022-12-11T18:34:12.559Z"
   }
  ],
  "kernelspec": {
   "display_name": "Python 3 (ipykernel)",
   "language": "python",
   "name": "python3"
  },
  "language_info": {
   "codemirror_mode": {
    "name": "ipython",
    "version": 3
   },
   "file_extension": ".py",
   "mimetype": "text/x-python",
   "name": "python",
   "nbconvert_exporter": "python",
   "pygments_lexer": "ipython3",
   "version": "3.9.7"
  },
  "toc": {
   "base_numbering": 1,
   "nav_menu": {},
   "number_sections": true,
   "sideBar": true,
   "skip_h1_title": true,
   "title_cell": "Table of Contents",
   "title_sidebar": "Contents",
   "toc_cell": false,
   "toc_position": {},
   "toc_section_display": true,
   "toc_window_display": false
  }
 },
 "nbformat": 4,
 "nbformat_minor": 5
}
